{
  "cells": [
    {
      "cell_type": "code",
      "execution_count": 2,
      "metadata": {},
      "outputs": [],
      "source": [
        "%load_ext autoreload\n",
        "%autoreload 2"
      ]
    },
    {
      "cell_type": "markdown",
      "metadata": {
        "id": "blgLrl75vMYF"
      },
      "source": [
        "#<font color='orange'>Basics</font>"
      ]
    },
    {
      "cell_type": "code",
      "execution_count": 3,
      "metadata": {
        "id": "nP3uS5qVwWGL"
      },
      "outputs": [],
      "source": [
        "#@title **Location** of the dataset\n",
        "path =  \"../data/HomeCredit/\"\n",
        "process_path = \"../data/ProcessedData/\"\n",
        "save_path = \"../tests/\""
      ]
    },
    {
      "cell_type": "code",
      "execution_count": 4,
      "metadata": {
        "id": "GS4_XnYslJ3J"
      },
      "outputs": [],
      "source": [
        "import numpy as np\n",
        "import pandas as pd\n",
        "import matplotlib.pyplot as plt\n",
        "import secrets\n",
        "import numpy as np\n",
        "\n",
        "from sklearn.model_selection import train_test_split\n",
        "from sklearn.ensemble import IsolationForest\n",
        "from scipy.stats import ks_2samp\n",
        "from lightgbm import LGBMClassifier\n",
        "\n",
        "from sklearn.metrics import (roc_auc_score)\n"
      ]
    },
    {
      "cell_type": "code",
      "execution_count": 5,
      "metadata": {},
      "outputs": [],
      "source": [
        "from sklearn.metrics import (accuracy_score, balanced_accuracy_score,\n",
        "                            f1_score, precision_score, recall_score,\n",
        "                            roc_auc_score, roc_curve)"
      ]
    },
    {
      "cell_type": "code",
      "execution_count": 6,
      "metadata": {
        "id": "UYGeAIaJGlSR"
      },
      "outputs": [],
      "source": [
        "from sklearn.linear_model import LogisticRegression\n",
        "from sklearn.tree import DecisionTreeClassifier\n",
        "from sklearn.ensemble import RandomForestClassifier\n",
        "from sklearn.ensemble import GradientBoostingClassifier\n",
        "from sklearn.tree import DecisionTreeClassifier\n",
        "from sklearn.semi_supervised import LabelSpreading"
      ]
    },
    {
      "cell_type": "code",
      "execution_count": 7,
      "metadata": {
        "id": "-Wcy0zwdVZ9P"
      },
      "outputs": [],
      "source": [
        "import credit_pipeline.data_exploration as dex\n",
        "import credit_pipeline.training as tr\n",
        "import credit_pipeline.reject_inference as ri"
      ]
    },
    {
      "cell_type": "markdown",
      "metadata": {
        "id": "JUhYgv4MWtdF"
      },
      "source": [
        "#Read Dataset"
      ]
    },
    {
      "cell_type": "code",
      "execution_count": 8,
      "metadata": {
        "id": "hljgpgcfWu8Y"
      },
      "outputs": [],
      "source": [
        "#@title Read dataset\n",
        "df_o = pd.read_csv(path+'application_train.csv')    #HomeCredit training dataset"
      ]
    },
    {
      "cell_type": "code",
      "execution_count": 9,
      "metadata": {
        "id": "E9ZcOM3YWzHq"
      },
      "outputs": [],
      "source": [
        "#@title Create develoment train and test\n",
        "df_train, df_test = tr.create_train_test(df_o, seed=43)"
      ]
    },
    {
      "cell_type": "code",
      "execution_count": 10,
      "metadata": {
        "colab": {
          "base_uri": "https://localhost:8080/"
        },
        "id": "3Dkh72hA_FJh",
        "outputId": "5805b987-3155-4ee2-d9b2-fb45b81f43d9"
      },
      "outputs": [
        {
          "name": "stdout",
          "output_type": "stream",
          "text": [
            "106\n"
          ]
        }
      ],
      "source": [
        "#@title Set seed\n",
        "new_seed = False #@param {type:\"boolean\"}\n",
        "\n",
        "if new_seed:\n",
        "    seed_number = secrets.randbelow(1_000) #to name the results files\n",
        "\n",
        "    while seed_number <100:\n",
        "        seed_number = secrets.randbelow(1_000)\n",
        "else:\n",
        "    seed_number = 106\n",
        "    \n",
        "print(seed_number)"
      ]
    },
    {
      "cell_type": "markdown",
      "metadata": {
        "id": "52vhsCDBGI-d"
      },
      "source": [
        "#Params"
      ]
    },
    {
      "cell_type": "code",
      "execution_count": 11,
      "metadata": {
        "id": "3glKB-zHGHIY"
      },
      "outputs": [],
      "source": [
        "params_dict = ri.params_dict"
      ]
    },
    {
      "cell_type": "code",
      "execution_count": 12,
      "metadata": {},
      "outputs": [],
      "source": [
        "params_dict['LightGBM_2'] = {'boosting_type': 'gbdt', 'class_weight': None,\n",
        "              'colsample_bytree': 0.22534977954592625, 'importance_type': 'split',\n",
        "              'learning_rate': 0.052227873762946964, 'max_depth': 5,\n",
        "              'min_child_samples': 26, 'min_child_weight': 0.001,\n",
        "              'min_split_gain': 0.0, 'n_estimators': 159, 'n_jobs': -1,\n",
        "              'num_leaves': 12, 'objective': None, 'random_state': seed_number,\n",
        "              'reg_alpha': 0.7438345471808012, 'reg_lambda': 0.46164693905368515,\n",
        "                'verbose': -1, 'subsample': 0.8896599304061413,\n",
        "              'subsample_for_bin': 200000, 'subsample_freq': 0,\n",
        "              'is_unbalance': True}"
      ]
    },
    {
      "cell_type": "markdown",
      "metadata": {
        "id": "mvpZmqxevPR0"
      },
      "source": [
        "#<font color='orange'>Helper Functions</font>\n"
      ]
    },
    {
      "cell_type": "markdown",
      "metadata": {
        "id": "h-h3CuT8QlAM"
      },
      "source": [
        "#<font color='red'>Definition of Train and Test Val, and Unl</font>"
      ]
    },
    {
      "cell_type": "code",
      "execution_count": 13,
      "metadata": {
        "id": "DgHJV0dMsU4w"
      },
      "outputs": [],
      "source": [
        "df_train, policy_model = ri.fit_policy(df_train)"
      ]
    },
    {
      "cell_type": "code",
      "execution_count": 14,
      "metadata": {
        "id": "l9YWcmRJWfT4"
      },
      "outputs": [],
      "source": [
        "X_train = df_train\n",
        "y_train = df_train[\"TARGET\"]\n",
        "\n",
        "X_test = df_test\n",
        "y_test = df_test[\"TARGET\"]"
      ]
    },
    {
      "cell_type": "code",
      "execution_count": 15,
      "metadata": {
        "id": "WYPOQFx93mCs"
      },
      "outputs": [],
      "source": [
        "X_train, X_val, y_train, y_val = train_test_split(X_train, y_train, test_size=0.2, random_state=seed_number)"
      ]
    },
    {
      "cell_type": "code",
      "execution_count": 16,
      "metadata": {
        "id": "4pxqFBdwOhoW"
      },
      "outputs": [],
      "source": [
        "X_train_acp, X_train_rej, y_train_acp, y_train_rej = ri.accept_reject_split(X_train, y_train, policy_clf=policy_model)\n",
        "X_val_acp, X_val_rej, y_val_acp, y_val_rej = ri.accept_reject_split(X_val, y_val, policy_clf=policy_model)"
      ]
    },
    {
      "cell_type": "code",
      "execution_count": 17,
      "metadata": {},
      "outputs": [
        {
          "name": "stdout",
          "output_type": "stream",
          "text": [
            "0.05024424284717376 0.09401074658162596\n"
          ]
        }
      ],
      "source": [
        "print(y_val_acp.mean(), y_val_rej.mean())"
      ]
    },
    {
      "cell_type": "code",
      "execution_count": 18,
      "metadata": {
        "colab": {
          "base_uri": "https://localhost:8080/"
        },
        "id": "e7tTHUKPYZDo",
        "outputId": "ef9b291a-bc18-4456-c20d-1f006b4062dc"
      },
      "outputs": [
        {
          "name": "stdout",
          "output_type": "stream",
          "text": [
            "X_train_acp : (35093, 15)\n",
            "X_train_rej : (90862, 15)\n",
            "X_val_acp : (8598, 15)\n",
            "X_val_rej : (22891, 15)\n",
            "df_test : (49202, 122)\n"
          ]
        }
      ],
      "source": [
        "dex.get_shapes(X_train_acp, X_train_rej, X_val_acp, X_val_rej, X_test, )"
      ]
    },
    {
      "cell_type": "code",
      "execution_count": 19,
      "metadata": {},
      "outputs": [],
      "source": [
        "# study_lgbm, model_lgbm = tr.optimize_model(LGBMClassifier, tr.hyperparam_spaces[\"LGBMClassifier\"], \n",
        "#                                         X_train_acp, y_train_acp, n_trials=100)"
      ]
    },
    {
      "cell_type": "code",
      "execution_count": 20,
      "metadata": {},
      "outputs": [],
      "source": [
        "# lgbm3 = study_lgbm.best_params"
      ]
    },
    {
      "cell_type": "code",
      "execution_count": null,
      "metadata": {},
      "outputs": [],
      "source": []
    },
    {
      "cell_type": "markdown",
      "metadata": {
        "id": "oWw8pEyaN0Hd"
      },
      "source": [
        "#<font color='red'>PIPELINE NORMAL</font>\n"
      ]
    },
    {
      "cell_type": "code",
      "execution_count": 21,
      "metadata": {
        "id": "gX5bfDvTZABp"
      },
      "outputs": [],
      "source": [
        "models_dict = {}"
      ]
    },
    {
      "cell_type": "code",
      "execution_count": 22,
      "metadata": {
        "id": "iRvPaw3Z7O57"
      },
      "outputs": [
        {
          "data": {
            "text/html": [
              "<div>\n",
              "<style scoped>\n",
              "    .dataframe tbody tr th:only-of-type {\n",
              "        vertical-align: middle;\n",
              "    }\n",
              "\n",
              "    .dataframe tbody tr th {\n",
              "        vertical-align: top;\n",
              "    }\n",
              "\n",
              "    .dataframe thead th {\n",
              "        text-align: right;\n",
              "    }\n",
              "</style>\n",
              "<table border=\"1\" class=\"dataframe\">\n",
              "  <thead>\n",
              "    <tr style=\"text-align: right;\">\n",
              "      <th></th>\n",
              "      <th>original</th>\n",
              "    </tr>\n",
              "  </thead>\n",
              "  <tbody>\n",
              "    <tr>\n",
              "      <th>Overall AUC</th>\n",
              "      <td>0.735742</td>\n",
              "    </tr>\n",
              "    <tr>\n",
              "      <th>KS</th>\n",
              "      <td>0.35621</td>\n",
              "    </tr>\n",
              "    <tr>\n",
              "      <th>------</th>\n",
              "      <td></td>\n",
              "    </tr>\n",
              "    <tr>\n",
              "      <th>Balanced Accuracy</th>\n",
              "      <td>0.678105</td>\n",
              "    </tr>\n",
              "    <tr>\n",
              "      <th>Accuracy</th>\n",
              "      <td>0.708264</td>\n",
              "    </tr>\n",
              "    <tr>\n",
              "      <th>Precision</th>\n",
              "      <td>0.162594</td>\n",
              "    </tr>\n",
              "    <tr>\n",
              "      <th>Recall</th>\n",
              "      <td>0.642237</td>\n",
              "    </tr>\n",
              "    <tr>\n",
              "      <th>F1</th>\n",
              "      <td>0.259492</td>\n",
              "    </tr>\n",
              "  </tbody>\n",
              "</table>\n",
              "</div>"
            ],
            "text/plain": [
              "                   original\n",
              "Overall AUC        0.735742\n",
              "KS                  0.35621\n",
              "------                     \n",
              "Balanced Accuracy  0.678105\n",
              "Accuracy           0.708264\n",
              "Precision          0.162594\n",
              "Recall             0.642237\n",
              "F1                 0.259492"
            ]
          },
          "execution_count": 22,
          "metadata": {},
          "output_type": "execute_result"
        }
      ],
      "source": [
        "clf_original = tr.create_pipeline(X_train_acp, y_train_acp,\n",
        "                                  LGBMClassifier(**params_dict['LightGBM_2']))\n",
        "clf_original.fit(X_train_acp, y_train_acp)\n",
        "\n",
        "models_dict['original'] = clf_original\n",
        "\n",
        "ri.get_metrics_RI(models_dict, X_test, y_test)"
      ]
    },
    {
      "cell_type": "code",
      "execution_count": 23,
      "metadata": {},
      "outputs": [],
      "source": [
        "# from types import NoneType\n",
        "# from sklearn.metrics import roc_curve\n",
        "\n",
        "\n",
        "# def get_metrics_RI(name_model_dict, X, y, X_v = None, y_v = None,\n",
        "#                    X_unl = None, threshold_type = 'default', acp_rate = 0.15):\n",
        "#     def get_best_threshold_with_ks(model, X, y):\n",
        "#         y_probs = model.predict_proba(X)[:,1]\n",
        "#         fpr, tpr, thresholds = roc_curve(y, y_probs)\n",
        "#         return thresholds[np.argmax(tpr - fpr)]\n",
        "\n",
        "#     models_dict = {}\n",
        "#     for name, model in name_model_dict.items():\n",
        "#         if isinstance(model, list):\n",
        "#             y_prob = model[0].predict_proba(X)[:,1]\n",
        "#             threshold_model = model[1]\n",
        "#             y_pred = (y_prob >= threshold_model).astype('int')\n",
        "#         else:\n",
        "#             if threshold_type == 'default':\n",
        "#                 threshold = 0.5\n",
        "#             elif threshold_type == 'ks':\n",
        "#                 if np.any(X_v):\n",
        "#                     threshold = get_best_threshold_with_ks(model, X_v, y_v)\n",
        "#                 else:\n",
        "#                     threshold = get_best_threshold_with_ks(model, X, y)\n",
        "#             elif threshold_type == 'risk':\n",
        "#                 if np.any(X_v):\n",
        "#                     threshold = ri.risk_score_threshold(model, X_v, y_v)\n",
        "#                 else:\n",
        "#                     threshold = ri.risk_score_threshold(model, X, y)\n",
        "\n",
        "#             y_prob = model.predict_proba(X)[:,1]\n",
        "#             y_pred = (y_prob >= threshold).astype('int')\n",
        "\n",
        "#         models_dict[name] = (y_pred, y_prob)\n",
        "\n",
        "#     def evaluate_ks(y_real, y_proba):\n",
        "#         ks = ks_2samp(y_proba[y_real == 0], y_proba[y_real == 1])\n",
        "#         return ks.statistic\n",
        "\n",
        "#     def get_metrics_df(models_dict, y_true,):\n",
        "#         metrics_dict = {\n",
        "#             \"Overall AUC\": (\n",
        "#                 lambda x: roc_auc_score(y_true, x), False),\n",
        "#             \"KS\": (\n",
        "#                 lambda x: evaluate_ks(y_true, x), False),\n",
        "#             \"------\": (lambda x: \"\", True),\n",
        "#             \"Balanced Accuracy\": (\n",
        "#                 lambda x: balanced_accuracy_score(y_true, x), True),\n",
        "#             \"Accuracy\": (\n",
        "#                 lambda x: accuracy_score(y_true, x), True),\n",
        "#             \"Precision\": (\n",
        "#                 lambda x: precision_score(y_true, x), True),\n",
        "#             \"Recall\": (\n",
        "#                 lambda x: recall_score(y_true, x), True),\n",
        "#             \"F1\": (\n",
        "#                 lambda x: f1_score(y_true, x), True),\n",
        "#             \"-----\": (lambda x: \"\", True),\n",
        "#         }\n",
        "#         df_dict = {}\n",
        "#         for metric_name, (metric_func, use_preds) in metrics_dict.items():\n",
        "#             df_dict[metric_name] = [metric_func(preds) if use_preds else metric_func(scores)\n",
        "#                                     for model_name, (preds, scores) in models_dict.items()]\n",
        "#         return df_dict\n",
        "\n",
        "#     df_dict = get_metrics_df(models_dict, y)\n",
        "#     if isinstance(X_v, NoneType):\n",
        "#         if isinstance(X_unl, NoneType) or ('original' not in name_model_dict):\n",
        "#             del df_dict[\"-----\"]\n",
        "\n",
        "#     if np.any(X_v):\n",
        "#         df_dict['Approval Rate'] = []\n",
        "#     if np.any(X_unl) and 'original' in name_model_dict:\n",
        "#         df_dict['Kickout'] = []\n",
        "#         df_dict['KG'] = []\n",
        "#         df_dict['KB'] = []\n",
        "\n",
        "#     for name, model in name_model_dict.items():\n",
        "#         if name != 'original':\n",
        "#             if isinstance(model, list):\n",
        "#                 if np.any(X_v):\n",
        "#                     df_dict['Approval Rate'].append(ri.calculate_approval_rate(model[0], X_v, y_v, X))\n",
        "#                 if np.any(X_unl) and 'original' in name_model_dict:\n",
        "#                     kickout, kg, kb = ri.calculate_kickout_metric(name_model_dict['original'][0], model[0], X, y, X_unl, acp_rate)\n",
        "#                     df_dict['Kickout'].append(kickout*10)\n",
        "#                     df_dict['KG'].append(kg)\n",
        "#                     df_dict['KB'].append(kb)\n",
        "#             else:\n",
        "#                 if np.any(X_v):\n",
        "#                     df_dict['Approval Rate'].append(ri.calculate_approval_rate(model, X_v, y_v, X))\n",
        "#                 if np.any(X_unl) and 'original' in name_model_dict:\n",
        "#                     if isinstance(name_model_dict[\"original\"], list):\n",
        "#                         original = name_model_dict[\"original\"][0]  # Assuming \"original\" is a list\n",
        "#                     else:\n",
        "#                         original = name_model_dict[\"original\"]\n",
        "\n",
        "#                     kickout, kg, kb = ri.calculate_kickout_metric(original, model, X, y, X_unl, acp_rate)\n",
        "#                     df_dict['Kickout'].append(kickout*10)\n",
        "#                     df_dict['KG'].append(kg)\n",
        "#                     df_dict['KB'].append(kb)\n",
        "#         else:\n",
        "#             if np.any(X_v):\n",
        "#                 if isinstance(model,list):\n",
        "#                     df_dict['Approval Rate'].append(ri.calculate_approval_rate(model[0], X_v, y_v, X))\n",
        "#                 else:\n",
        "#                     df_dict['Approval Rate'].append(ri.calculate_approval_rate(model, X_v, y_v, X))\n",
        "#             if np.any(X_unl) and 'original' in name_model_dict:\n",
        "#                 df_dict['Kickout'].append(0)\n",
        "#                 df_dict['KG'].append(0)\n",
        "#                 df_dict['KB'].append(0)\n",
        "\n",
        "#     metrics_df = pd.DataFrame.from_dict(df_dict, orient=\"index\", columns=models_dict.keys())\n",
        "#     return metrics_df"
      ]
    },
    {
      "cell_type": "markdown",
      "metadata": {
        "id": "gMQM05uD3k4a"
      },
      "source": [
        "#<font color='green'>REJECT INFERENCE</font>"
      ]
    },
    {
      "cell_type": "code",
      "execution_count": null,
      "metadata": {},
      "outputs": [],
      "source": []
    },
    {
      "cell_type": "code",
      "execution_count": 24,
      "metadata": {
        "id": "_-3wef6cZNkp"
      },
      "outputs": [],
      "source": [
        "import warnings\n",
        "warnings.filterwarnings(\"ignore\")"
      ]
    },
    {
      "cell_type": "markdown",
      "metadata": {
        "id": "tAVCg2OVBYja"
      },
      "source": [
        "#<font color='green'>Test others strategies:</font>"
      ]
    },
    {
      "cell_type": "code",
      "execution_count": 25,
      "metadata": {
        "id": "9haySwnbIwrX"
      },
      "outputs": [],
      "source": [
        "X_train, X_unl, y_train, y_unl = X_train_acp, X_train_rej, y_train_acp, y_train_rej"
      ]
    },
    {
      "cell_type": "code",
      "execution_count": 26,
      "metadata": {
        "id": "3nu2chnIooLA"
      },
      "outputs": [
        {
          "data": {
            "text/html": [
              "<div>\n",
              "<style scoped>\n",
              "    .dataframe tbody tr th:only-of-type {\n",
              "        vertical-align: middle;\n",
              "    }\n",
              "\n",
              "    .dataframe tbody tr th {\n",
              "        vertical-align: top;\n",
              "    }\n",
              "\n",
              "    .dataframe thead th {\n",
              "        text-align: right;\n",
              "    }\n",
              "</style>\n",
              "<table border=\"1\" class=\"dataframe\">\n",
              "  <thead>\n",
              "    <tr style=\"text-align: right;\">\n",
              "      <th></th>\n",
              "      <th>original</th>\n",
              "      <th>aug_SC</th>\n",
              "      <th>aug_up</th>\n",
              "      <th>aug_down</th>\n",
              "      <th>fuzzy</th>\n",
              "      <th>ext</th>\n",
              "      <th>parcelling</th>\n",
              "      <th>labelSpr</th>\n",
              "    </tr>\n",
              "  </thead>\n",
              "  <tbody>\n",
              "    <tr>\n",
              "      <th>Overall AUC</th>\n",
              "      <td>0.735742</td>\n",
              "      <td>0.720975</td>\n",
              "      <td>0.730878</td>\n",
              "      <td>0.733909</td>\n",
              "      <td>0.726104</td>\n",
              "      <td>0.738227</td>\n",
              "      <td>0.733193</td>\n",
              "      <td>0.731134</td>\n",
              "    </tr>\n",
              "    <tr>\n",
              "      <th>KS</th>\n",
              "      <td>0.35621</td>\n",
              "      <td>0.334379</td>\n",
              "      <td>0.347312</td>\n",
              "      <td>0.359394</td>\n",
              "      <td>0.339501</td>\n",
              "      <td>0.35203</td>\n",
              "      <td>0.349133</td>\n",
              "      <td>0.344767</td>\n",
              "    </tr>\n",
              "    <tr>\n",
              "      <th>------</th>\n",
              "      <td></td>\n",
              "      <td></td>\n",
              "      <td></td>\n",
              "      <td></td>\n",
              "      <td></td>\n",
              "      <td></td>\n",
              "      <td></td>\n",
              "      <td></td>\n",
              "    </tr>\n",
              "    <tr>\n",
              "      <th>Balanced Accuracy</th>\n",
              "      <td>0.678105</td>\n",
              "      <td>0.66719</td>\n",
              "      <td>0.673656</td>\n",
              "      <td>0.679697</td>\n",
              "      <td>0.66975</td>\n",
              "      <td>0.676015</td>\n",
              "      <td>0.674567</td>\n",
              "      <td>0.672383</td>\n",
              "    </tr>\n",
              "    <tr>\n",
              "      <th>Accuracy</th>\n",
              "      <td>0.708264</td>\n",
              "      <td>0.681944</td>\n",
              "      <td>0.670013</td>\n",
              "      <td>0.703894</td>\n",
              "      <td>0.740336</td>\n",
              "      <td>0.703772</td>\n",
              "      <td>0.695094</td>\n",
              "      <td>0.651782</td>\n",
              "    </tr>\n",
              "    <tr>\n",
              "      <th>Precision</th>\n",
              "      <td>0.162594</td>\n",
              "      <td>0.15124</td>\n",
              "      <td>0.150596</td>\n",
              "      <td>0.161831</td>\n",
              "      <td>0.170583</td>\n",
              "      <td>0.160433</td>\n",
              "      <td>0.157374</td>\n",
              "      <td>0.146131</td>\n",
              "    </tr>\n",
              "    <tr>\n",
              "      <th>Recall</th>\n",
              "      <td>0.642237</td>\n",
              "      <td>0.649642</td>\n",
              "      <td>0.677988</td>\n",
              "      <td>0.650919</td>\n",
              "      <td>0.585802</td>\n",
              "      <td>0.643003</td>\n",
              "      <td>0.650153</td>\n",
              "      <td>0.696885</td>\n",
              "    </tr>\n",
              "    <tr>\n",
              "      <th>F1</th>\n",
              "      <td>0.259492</td>\n",
              "      <td>0.245359</td>\n",
              "      <td>0.246449</td>\n",
              "      <td>0.259216</td>\n",
              "      <td>0.264225</td>\n",
              "      <td>0.256795</td>\n",
              "      <td>0.253409</td>\n",
              "      <td>0.241601</td>\n",
              "    </tr>\n",
              "    <tr>\n",
              "      <th>-----</th>\n",
              "      <td></td>\n",
              "      <td></td>\n",
              "      <td></td>\n",
              "      <td></td>\n",
              "      <td></td>\n",
              "      <td></td>\n",
              "      <td></td>\n",
              "      <td></td>\n",
              "    </tr>\n",
              "    <tr>\n",
              "      <th>Kickout</th>\n",
              "      <td>0</td>\n",
              "      <td>0.413874</td>\n",
              "      <td>0.243209</td>\n",
              "      <td>0.264182</td>\n",
              "      <td>0.54816</td>\n",
              "      <td>0.514553</td>\n",
              "      <td>0.486401</td>\n",
              "      <td>0.597361</td>\n",
              "    </tr>\n",
              "    <tr>\n",
              "      <th>KG</th>\n",
              "      <td>0</td>\n",
              "      <td>1144</td>\n",
              "      <td>649</td>\n",
              "      <td>617</td>\n",
              "      <td>1105</td>\n",
              "      <td>865</td>\n",
              "      <td>1027</td>\n",
              "      <td>1114</td>\n",
              "    </tr>\n",
              "    <tr>\n",
              "      <th>KB</th>\n",
              "      <td>0</td>\n",
              "      <td>164</td>\n",
              "      <td>95</td>\n",
              "      <td>98</td>\n",
              "      <td>193</td>\n",
              "      <td>171</td>\n",
              "      <td>174</td>\n",
              "      <td>205</td>\n",
              "    </tr>\n",
              "  </tbody>\n",
              "</table>\n",
              "</div>"
            ],
            "text/plain": [
              "                   original    aug_SC    aug_up  aug_down     fuzzy       ext  \\\n",
              "Overall AUC        0.735742  0.720975  0.730878  0.733909  0.726104  0.738227   \n",
              "KS                  0.35621  0.334379  0.347312  0.359394  0.339501   0.35203   \n",
              "------                                                                          \n",
              "Balanced Accuracy  0.678105   0.66719  0.673656  0.679697   0.66975  0.676015   \n",
              "Accuracy           0.708264  0.681944  0.670013  0.703894  0.740336  0.703772   \n",
              "Precision          0.162594   0.15124  0.150596  0.161831  0.170583  0.160433   \n",
              "Recall             0.642237  0.649642  0.677988  0.650919  0.585802  0.643003   \n",
              "F1                 0.259492  0.245359  0.246449  0.259216  0.264225  0.256795   \n",
              "-----                                                                           \n",
              "Kickout                   0  0.413874  0.243209  0.264182   0.54816  0.514553   \n",
              "KG                        0      1144       649       617      1105       865   \n",
              "KB                        0       164        95        98       193       171   \n",
              "\n",
              "                  parcelling  labelSpr  \n",
              "Overall AUC         0.733193  0.731134  \n",
              "KS                  0.349133  0.344767  \n",
              "------                                  \n",
              "Balanced Accuracy   0.674567  0.672383  \n",
              "Accuracy            0.695094  0.651782  \n",
              "Precision           0.157374  0.146131  \n",
              "Recall              0.650153  0.696885  \n",
              "F1                  0.253409  0.241601  \n",
              "-----                                   \n",
              "Kickout             0.486401  0.597361  \n",
              "KG                      1027      1114  \n",
              "KB                       174       205  "
            ]
          },
          "execution_count": 26,
          "metadata": {},
          "output_type": "execute_result"
        }
      ],
      "source": [
        "models_dict.update(ri.augmentation_with_soft_cutoff(X_train, y_train, X_unl, seed = seed_number))\n",
        "models_dict.update(ri.augmentation(X_train, y_train, X_unl, mode='up', seed = seed_number))\n",
        "models_dict.update(ri.augmentation(X_train, y_train, X_unl, mode='down', seed = seed_number))\n",
        "models_dict.update(ri.fuzzy_augmentation(X_train, y_train, X_unl, seed = seed_number))\n",
        "models_dict.update(ri.extrapolation(X_train, y_train, X_unl, mode = \"confident\", seed = seed_number))\n",
        "models_dict.update(ri.parcelling(X_train, y_train, X_unl, seed = seed_number))\n",
        "models_dict.update(ri.label_spreading(X_train, y_train, X_unl, seed = seed_number))\n",
        "ri.get_metrics_RI(models_dict, X_test, y_test, X_unl = X_val_rej)"
      ]
    },
    {
      "cell_type": "markdown",
      "metadata": {
        "id": "Dh50Dz9asmgB"
      },
      "source": [
        "#<font color='green'>Test Trusted Non-outliers Inference:</font>\n",
        "\n",
        "    * Loop through rejects selecting most confident predictions on outliers as Accepts"
      ]
    },
    {
      "cell_type": "code",
      "execution_count": 27,
      "metadata": {
        "id": "h0i1o2ErCJaF"
      },
      "outputs": [],
      "source": [
        "classifiers_to_test = [\n",
        "                        LGBMClassifier,\n",
        "                        # DecisionTreeClassifier,\n",
        "                        # RandomForestClassifier,\n",
        "                        # LogisticRegression,\n",
        "                        ]\n",
        "\n",
        "classifiers_names = [\n",
        "                        'LightGBM_2',\n",
        "                        # 'DecisionTree_1',\n",
        "                        # 'RandomForest_1',\n",
        "                        # 'LG_1',\n",
        "                        ]"
      ]
    },
    {
      "cell_type": "code",
      "execution_count": 28,
      "metadata": {
        "id": "14vaX5NZiPn0"
      },
      "outputs": [],
      "source": [
        "# X_train, X_t, y_train, y_t = train_test_split(X_train, y_train, test_size = 0.8, random_state=seed_number, stratify=y_train)\n",
        "# X_unl, X_t, y_unl, y_t = train_test_split(X_unl, y_unl, test_size = 0.9, random_state=seed_number, stratify=y_unl)"
      ]
    },
    {
      "cell_type": "code",
      "execution_count": 29,
      "metadata": {
        "id": "PfjwSFGqJRNI"
      },
      "outputs": [],
      "source": [
        "updated_X_train, updated_y_train, updated_X_unl, updated_y_unl = X_train, y_train, X_unl, y_unl"
      ]
    },
    {
      "cell_type": "code",
      "execution_count": null,
      "metadata": {
        "colab": {
          "base_uri": "https://localhost:8080/"
        },
        "id": "lMiarfMrskDY",
        "outputId": "d628b438-4be8-4a43-f543-ff1c7709af4a"
      },
      "outputs": [],
      "source": [
        "#@title run_confident_non_outliers\n",
        "# (updated_X_train, updated_y_train, updated_X_unl, updated_y_unl) = (results_dict['LightGBM_2']['updated_X_train_list'][-1],\n",
        "#                                                                     results_dict['LightGBM_2']['updated_y_train_list'][-1],\n",
        "#                                                                     results_dict['LightGBM_2']['updated_X_unl_list'][-1],\n",
        "#                                                                     results_dict['LightGBM_2']['updated_y_unl_list'][-1],\n",
        "#                                                                     )\n",
        "\n",
        "contamination_threshold = 0.1  # Specify the desired contamination threshold\n",
        "iterations = 50 # Number of iterations\n",
        "size = 1000\n",
        "\n",
        "results_dict = {}\n",
        "\n",
        "def run_confident_non_outliers(classifier_list, contamination_threshold, iterations, size, updated_X_train, updated_y_train,\n",
        "                                 updated_X_unl, X_test, y_test):\n",
        "    clf_iterations = []\n",
        "    updated_X_train_list = []\n",
        "    updated_y_train_list = []\n",
        "    updated_X_unl_list = []\n",
        "    list_of_probs = []\n",
        "\n",
        "    for i in range(iterations):\n",
        "        # print('**********************************************************************************')\n",
        "        print(f'iteration {i}')\n",
        "        # print('---------------------------------------------------------------------------------')\n",
        "        # print(np.random.choice(sentences_list))\n",
        "        # print('---------------------------------------------------------------------------------')\n",
        "        classifier_to_use = classifier_list[i]\n",
        "        updated_X_train, updated_y_train, updated_X_unl = ri.trusted_non_outliers(\n",
        "                                            contamination_threshold, size,\n",
        "                                            updated_X_train, updated_y_train,\n",
        "                                            updated_X_unl, \n",
        "                                            seed=seed_number)\n",
        "\n",
        "        clf_i = tr.create_pipeline(updated_X_train, updated_y_train, classifier_to_use,\n",
        "                                onehot=True, normalize=True, do_EBE=True)\n",
        "        clf_i.fit(updated_X_train, updated_y_train)\n",
        "        y_prob_i = clf_i.predict_proba(X_test)[:,1]\n",
        "        # print('auc_{}'.format(i), roc_auc_score(y_test, y_prob_i))\n",
        "\n",
        "\n",
        "        clf_iterations.append(clf_i)\n",
        "        updated_X_train_list.append(updated_X_train)\n",
        "        updated_y_train_list.append(updated_y_train)\n",
        "        updated_X_unl_list.append(updated_X_unl)\n",
        "        list_of_probs.append(y_prob_i)\n",
        "\n",
        "        kik, kg, kb = ri.calculate_kickout_metric(clf_original,clf_i, X_test, y_test, X_val_rej,  0.05)\n",
        "        if kik*10 >= 0.5:\n",
        "            break\n",
        "\n",
        "    info_dict = {\n",
        "    'clf_iterations': clf_iterations,\n",
        "    'updated_X_train_list': updated_X_train_list,\n",
        "    'updated_y_train_list': updated_y_train_list,\n",
        "    'updated_X_unl_list': updated_X_unl_list,\n",
        "    'list_of_probs': list_of_probs }\n",
        "\n",
        "    return info_dict\n",
        "\n",
        "for mclass, name in zip(classifiers_to_test, classifiers_names):\n",
        "    print('+++++++++++++++++++++++++', name, '+++++++++++++++++++++++++')\n",
        "    classifiers_to_iter = [mclass(**params_dict[name]) for i in range(iterations)]\n",
        "    info_dict = run_confident_non_outliers(classifiers_to_iter, contamination_threshold, iterations,\n",
        "                                            size,\n",
        "                                            updated_X_train, updated_y_train,\n",
        "                                            updated_X_unl,\n",
        "                                            X_test, y_test)\n",
        "\n",
        "    results_dict[name] = info_dict"
      ]
    },
    {
      "cell_type": "code",
      "execution_count": 31,
      "metadata": {},
      "outputs": [],
      "source": [
        "import credit_pipeline.reject_inference as ri"
      ]
    },
    {
      "cell_type": "code",
      "execution_count": null,
      "metadata": {},
      "outputs": [],
      "source": [
        "def run_confident_non_outliers(classifier, X_train, y_train, X_unl,\n",
        "                                iterations = 50, \n",
        "                                contamination_threshold = 0.1,\n",
        "                                size = 1000, \n",
        "                                clf_class = LGBMClassifier,\n",
        "                                clf_params = params_dict[\"LightGBM_2\"],\n",
        "                                seed_number = 880,\n",
        "                               ):\n",
        "    clf_original = tr.create_pipeline(X_train, y_train, clf_class(**clf_params),\n",
        "                                onehot=True, normalize=True, do_EBE=True)\n",
        "    clf_original.fit(X_train, y_train)\n",
        "    clf_original.predict_proba(X_test)[:,1]\n",
        "\n",
        "    log_dict = {\n",
        "        \"train_index\": {0: X_train.index}, \n",
        "        \"unl_index\": {0: X_unl.index},\n",
        "        \"clf\": {\"original\": clf_original} \n",
        "        }\n",
        "    updated_X_train, updated_y_train, updated_X_unl =  X_train, y_train, X_unl\n",
        "    for i in range(iterations):\n",
        "        updated_X_train, updated_y_train, updated_X_unl = ri.trusted_non_outliers(\n",
        "                                            updated_X_train, updated_y_train, updated_X_unl, \n",
        "                                            contamination_threshold, size, \n",
        "                                            clf_class, clf_params, seed_number,\n",
        "                                            )\n",
        "        \n"
      ]
    },
    {
      "cell_type": "code",
      "execution_count": null,
      "metadata": {
        "id": "374TQ97msTLe"
      },
      "outputs": [],
      "source": [
        "#@title Example usage create_pipeline\n",
        "clf_name = \"LightGBM_2\" #@param [\"LightGBM_2\", \"DecisionTree_1\", \"RandomForest_1\", \"LG_1\"]\n",
        "if clf_name == \"LightGBM_2\":\n",
        "    clf_model = LGBMClassifier\n",
        "elif clf_name == \"DecisionTree_1\":\n",
        "    clf_model = DecisionTreeClassifier\n",
        "elif clf_name == \"RandomForest_1\":\n",
        "    clf_model = RandomForestClassifier\n",
        "elif clf_name == \"LG_1\":\n",
        "    clf_model = LogisticRegression\n",
        "\n",
        "\n",
        "\n",
        "clf_original = tr.create_pipeline(X_train, y_train,\n",
        "                               clf_model(**params_dict[clf_name]),\n",
        "                               onehot=True, onehotdrop = True, normalize=True, do_EBE=True)\n",
        "clf_original.fit(X_train, y_train)\n",
        "y_prob = clf_original.predict_proba(X_test)[:,1]\n",
        "\n",
        "print(roc_auc_score(y_test, y_prob))"
      ]
    },
    {
      "cell_type": "code",
      "execution_count": 34,
      "metadata": {
        "id": "afrLy79rwhu5"
      },
      "outputs": [
        {
          "data": {
            "text/html": [
              "<div>\n",
              "<style scoped>\n",
              "    .dataframe tbody tr th:only-of-type {\n",
              "        vertical-align: middle;\n",
              "    }\n",
              "\n",
              "    .dataframe tbody tr th {\n",
              "        vertical-align: top;\n",
              "    }\n",
              "\n",
              "    .dataframe thead th {\n",
              "        text-align: right;\n",
              "    }\n",
              "</style>\n",
              "<table border=\"1\" class=\"dataframe\">\n",
              "  <thead>\n",
              "    <tr style=\"text-align: right;\">\n",
              "      <th></th>\n",
              "      <th>original</th>\n",
              "      <th>clf_0</th>\n",
              "      <th>clf_1</th>\n",
              "      <th>clf_2</th>\n",
              "      <th>clf_3</th>\n",
              "      <th>clf_4</th>\n",
              "      <th>clf_5</th>\n",
              "      <th>clf_6</th>\n",
              "      <th>clf_7</th>\n",
              "      <th>clf_8</th>\n",
              "      <th>...</th>\n",
              "      <th>clf_40</th>\n",
              "      <th>clf_41</th>\n",
              "      <th>clf_42</th>\n",
              "      <th>clf_43</th>\n",
              "      <th>clf_44</th>\n",
              "      <th>clf_45</th>\n",
              "      <th>clf_46</th>\n",
              "      <th>clf_47</th>\n",
              "      <th>clf_48</th>\n",
              "      <th>clf_49</th>\n",
              "    </tr>\n",
              "  </thead>\n",
              "  <tbody>\n",
              "    <tr>\n",
              "      <th>Overall AUC</th>\n",
              "      <td>0.734596</td>\n",
              "      <td>0.730329</td>\n",
              "      <td>0.729037</td>\n",
              "      <td>0.729709</td>\n",
              "      <td>0.728624</td>\n",
              "      <td>0.727575</td>\n",
              "      <td>0.728622</td>\n",
              "      <td>0.728184</td>\n",
              "      <td>0.728017</td>\n",
              "      <td>0.727214</td>\n",
              "      <td>...</td>\n",
              "      <td>0.708549</td>\n",
              "      <td>0.708504</td>\n",
              "      <td>0.708051</td>\n",
              "      <td>0.707323</td>\n",
              "      <td>0.706344</td>\n",
              "      <td>0.705036</td>\n",
              "      <td>0.70477</td>\n",
              "      <td>0.70277</td>\n",
              "      <td>0.701909</td>\n",
              "      <td>0.700755</td>\n",
              "    </tr>\n",
              "    <tr>\n",
              "      <th>KS</th>\n",
              "      <td>0.348012</td>\n",
              "      <td>0.340167</td>\n",
              "      <td>0.343273</td>\n",
              "      <td>0.342016</td>\n",
              "      <td>0.346253</td>\n",
              "      <td>0.345765</td>\n",
              "      <td>0.347436</td>\n",
              "      <td>0.345514</td>\n",
              "      <td>0.346213</td>\n",
              "      <td>0.345721</td>\n",
              "      <td>...</td>\n",
              "      <td>0.316299</td>\n",
              "      <td>0.312993</td>\n",
              "      <td>0.311738</td>\n",
              "      <td>0.308473</td>\n",
              "      <td>0.307416</td>\n",
              "      <td>0.3051</td>\n",
              "      <td>0.301506</td>\n",
              "      <td>0.302434</td>\n",
              "      <td>0.297759</td>\n",
              "      <td>0.295463</td>\n",
              "    </tr>\n",
              "    <tr>\n",
              "      <th>------</th>\n",
              "      <td></td>\n",
              "      <td></td>\n",
              "      <td></td>\n",
              "      <td></td>\n",
              "      <td></td>\n",
              "      <td></td>\n",
              "      <td></td>\n",
              "      <td></td>\n",
              "      <td></td>\n",
              "      <td></td>\n",
              "      <td>...</td>\n",
              "      <td></td>\n",
              "      <td></td>\n",
              "      <td></td>\n",
              "      <td></td>\n",
              "      <td></td>\n",
              "      <td></td>\n",
              "      <td></td>\n",
              "      <td></td>\n",
              "      <td></td>\n",
              "      <td></td>\n",
              "    </tr>\n",
              "    <tr>\n",
              "      <th>Balanced Accuracy</th>\n",
              "      <td>0.667732</td>\n",
              "      <td>0.668889</td>\n",
              "      <td>0.66329</td>\n",
              "      <td>0.668037</td>\n",
              "      <td>0.671736</td>\n",
              "      <td>0.668573</td>\n",
              "      <td>0.670414</td>\n",
              "      <td>0.670598</td>\n",
              "      <td>0.670788</td>\n",
              "      <td>0.672201</td>\n",
              "      <td>...</td>\n",
              "      <td>0.655235</td>\n",
              "      <td>0.654015</td>\n",
              "      <td>0.653775</td>\n",
              "      <td>0.652125</td>\n",
              "      <td>0.650002</td>\n",
              "      <td>0.650852</td>\n",
              "      <td>0.649226</td>\n",
              "      <td>0.646751</td>\n",
              "      <td>0.643198</td>\n",
              "      <td>0.641722</td>\n",
              "    </tr>\n",
              "    <tr>\n",
              "      <th>Accuracy</th>\n",
              "      <td>0.585891</td>\n",
              "      <td>0.608634</td>\n",
              "      <td>0.578574</td>\n",
              "      <td>0.597618</td>\n",
              "      <td>0.614304</td>\n",
              "      <td>0.603329</td>\n",
              "      <td>0.606073</td>\n",
              "      <td>0.639263</td>\n",
              "      <td>0.617068</td>\n",
              "      <td>0.639852</td>\n",
              "      <td>...</td>\n",
              "      <td>0.689139</td>\n",
              "      <td>0.645238</td>\n",
              "      <td>0.625686</td>\n",
              "      <td>0.675684</td>\n",
              "      <td>0.684444</td>\n",
              "      <td>0.669261</td>\n",
              "      <td>0.653815</td>\n",
              "      <td>0.699931</td>\n",
              "      <td>0.711211</td>\n",
              "      <td>0.697329</td>\n",
              "    </tr>\n",
              "    <tr>\n",
              "      <th>Precision</th>\n",
              "      <td>0.133446</td>\n",
              "      <td>0.137181</td>\n",
              "      <td>0.131211</td>\n",
              "      <td>0.135232</td>\n",
              "      <td>0.138946</td>\n",
              "      <td>0.136256</td>\n",
              "      <td>0.137221</td>\n",
              "      <td>0.143056</td>\n",
              "      <td>0.139127</td>\n",
              "      <td>0.143676</td>\n",
              "      <td>...</td>\n",
              "      <td>0.148688</td>\n",
              "      <td>0.138825</td>\n",
              "      <td>0.135342</td>\n",
              "      <td>0.144368</td>\n",
              "      <td>0.145604</td>\n",
              "      <td>0.14251</td>\n",
              "      <td>0.138829</td>\n",
              "      <td>0.148203</td>\n",
              "      <td>0.149826</td>\n",
              "      <td>0.14557</td>\n",
              "    </tr>\n",
              "    <tr>\n",
              "      <th>Recall</th>\n",
              "      <td>0.765066</td>\n",
              "      <td>0.740552</td>\n",
              "      <td>0.764045</td>\n",
              "      <td>0.751788</td>\n",
              "      <td>0.740041</td>\n",
              "      <td>0.74617</td>\n",
              "      <td>0.746936</td>\n",
              "      <td>0.707865</td>\n",
              "      <td>0.734678</td>\n",
              "      <td>0.710674</td>\n",
              "      <td>...</td>\n",
              "      <td>0.614913</td>\n",
              "      <td>0.664454</td>\n",
              "      <td>0.687181</td>\n",
              "      <td>0.624106</td>\n",
              "      <td>0.60904</td>\n",
              "      <td>0.628958</td>\n",
              "      <td>0.643769</td>\n",
              "      <td>0.583504</td>\n",
              "      <td>0.562308</td>\n",
              "      <td>0.575587</td>\n",
              "    </tr>\n",
              "    <tr>\n",
              "      <th>F1</th>\n",
              "      <td>0.227254</td>\n",
              "      <td>0.231481</td>\n",
              "      <td>0.22396</td>\n",
              "      <td>0.22923</td>\n",
              "      <td>0.233964</td>\n",
              "      <td>0.230433</td>\n",
              "      <td>0.231848</td>\n",
              "      <td>0.238011</td>\n",
              "      <td>0.23395</td>\n",
              "      <td>0.239028</td>\n",
              "      <td>...</td>\n",
              "      <td>0.239471</td>\n",
              "      <td>0.229666</td>\n",
              "      <td>0.226144</td>\n",
              "      <td>0.234493</td>\n",
              "      <td>0.235022</td>\n",
              "      <td>0.232369</td>\n",
              "      <td>0.228403</td>\n",
              "      <td>0.236371</td>\n",
              "      <td>0.236609</td>\n",
              "      <td>0.232371</td>\n",
              "    </tr>\n",
              "    <tr>\n",
              "      <th>-----</th>\n",
              "      <td></td>\n",
              "      <td></td>\n",
              "      <td></td>\n",
              "      <td></td>\n",
              "      <td></td>\n",
              "      <td></td>\n",
              "      <td></td>\n",
              "      <td></td>\n",
              "      <td></td>\n",
              "      <td></td>\n",
              "      <td>...</td>\n",
              "      <td></td>\n",
              "      <td></td>\n",
              "      <td></td>\n",
              "      <td></td>\n",
              "      <td></td>\n",
              "      <td></td>\n",
              "      <td></td>\n",
              "      <td></td>\n",
              "      <td></td>\n",
              "      <td></td>\n",
              "    </tr>\n",
              "    <tr>\n",
              "      <th>Approval Rate</th>\n",
              "      <td>0.837933</td>\n",
              "      <td>0.858278</td>\n",
              "      <td>0.856733</td>\n",
              "      <td>0.852689</td>\n",
              "      <td>0.858461</td>\n",
              "      <td>0.852953</td>\n",
              "      <td>0.864457</td>\n",
              "      <td>0.85399</td>\n",
              "      <td>0.86218</td>\n",
              "      <td>0.8509</td>\n",
              "      <td>...</td>\n",
              "      <td>0.875899</td>\n",
              "      <td>0.880472</td>\n",
              "      <td>0.88348</td>\n",
              "      <td>0.878277</td>\n",
              "      <td>0.878257</td>\n",
              "      <td>0.879314</td>\n",
              "      <td>0.877038</td>\n",
              "      <td>0.877383</td>\n",
              "      <td>0.868725</td>\n",
              "      <td>0.871245</td>\n",
              "    </tr>\n",
              "    <tr>\n",
              "      <th>Kickout</th>\n",
              "      <td>0</td>\n",
              "      <td>0.192414</td>\n",
              "      <td>0.20845</td>\n",
              "      <td>0.203545</td>\n",
              "      <td>0.200183</td>\n",
              "      <td>0.201102</td>\n",
              "      <td>0.191853</td>\n",
              "      <td>0.220416</td>\n",
              "      <td>0.179849</td>\n",
              "      <td>0.181144</td>\n",
              "      <td>...</td>\n",
              "      <td>0.212877</td>\n",
              "      <td>0.228683</td>\n",
              "      <td>0.240209</td>\n",
              "      <td>0.254324</td>\n",
              "      <td>0.233154</td>\n",
              "      <td>0.257667</td>\n",
              "      <td>0.269735</td>\n",
              "      <td>0.242824</td>\n",
              "      <td>0.240445</td>\n",
              "      <td>0.233033</td>\n",
              "    </tr>\n",
              "    <tr>\n",
              "      <th>KG</th>\n",
              "      <td>0</td>\n",
              "      <td>335</td>\n",
              "      <td>347</td>\n",
              "      <td>382</td>\n",
              "      <td>383</td>\n",
              "      <td>379</td>\n",
              "      <td>392</td>\n",
              "      <td>404</td>\n",
              "      <td>417</td>\n",
              "      <td>425</td>\n",
              "      <td>...</td>\n",
              "      <td>846</td>\n",
              "      <td>859</td>\n",
              "      <td>877</td>\n",
              "      <td>911</td>\n",
              "      <td>935</td>\n",
              "      <td>951</td>\n",
              "      <td>953</td>\n",
              "      <td>1002</td>\n",
              "      <td>1026</td>\n",
              "      <td>1031</td>\n",
              "    </tr>\n",
              "    <tr>\n",
              "      <th>KB</th>\n",
              "      <td>0</td>\n",
              "      <td>86</td>\n",
              "      <td>92</td>\n",
              "      <td>93</td>\n",
              "      <td>92</td>\n",
              "      <td>92</td>\n",
              "      <td>90</td>\n",
              "      <td>100</td>\n",
              "      <td>88</td>\n",
              "      <td>89</td>\n",
              "      <td>...</td>\n",
              "      <td>130</td>\n",
              "      <td>136</td>\n",
              "      <td>141</td>\n",
              "      <td>148</td>\n",
              "      <td>143</td>\n",
              "      <td>152</td>\n",
              "      <td>156</td>\n",
              "      <td>151</td>\n",
              "      <td>152</td>\n",
              "      <td>150</td>\n",
              "    </tr>\n",
              "  </tbody>\n",
              "</table>\n",
              "<p>13 rows × 51 columns</p>\n",
              "</div>"
            ],
            "text/plain": [
              "                   original     clf_0     clf_1     clf_2     clf_3     clf_4  \\\n",
              "Overall AUC        0.734596  0.730329  0.729037  0.729709  0.728624  0.727575   \n",
              "KS                 0.348012  0.340167  0.343273  0.342016  0.346253  0.345765   \n",
              "------                                                                          \n",
              "Balanced Accuracy  0.667732  0.668889   0.66329  0.668037  0.671736  0.668573   \n",
              "Accuracy           0.585891  0.608634  0.578574  0.597618  0.614304  0.603329   \n",
              "Precision          0.133446  0.137181  0.131211  0.135232  0.138946  0.136256   \n",
              "Recall             0.765066  0.740552  0.764045  0.751788  0.740041   0.74617   \n",
              "F1                 0.227254  0.231481   0.22396   0.22923  0.233964  0.230433   \n",
              "-----                                                                           \n",
              "Approval Rate      0.837933  0.858278  0.856733  0.852689  0.858461  0.852953   \n",
              "Kickout                   0  0.192414   0.20845  0.203545  0.200183  0.201102   \n",
              "KG                        0       335       347       382       383       379   \n",
              "KB                        0        86        92        93        92        92   \n",
              "\n",
              "                      clf_5     clf_6     clf_7     clf_8  ...    clf_40  \\\n",
              "Overall AUC        0.728622  0.728184  0.728017  0.727214  ...  0.708549   \n",
              "KS                 0.347436  0.345514  0.346213  0.345721  ...  0.316299   \n",
              "------                                                     ...             \n",
              "Balanced Accuracy  0.670414  0.670598  0.670788  0.672201  ...  0.655235   \n",
              "Accuracy           0.606073  0.639263  0.617068  0.639852  ...  0.689139   \n",
              "Precision          0.137221  0.143056  0.139127  0.143676  ...  0.148688   \n",
              "Recall             0.746936  0.707865  0.734678  0.710674  ...  0.614913   \n",
              "F1                 0.231848  0.238011   0.23395  0.239028  ...  0.239471   \n",
              "-----                                                      ...             \n",
              "Approval Rate      0.864457   0.85399   0.86218    0.8509  ...  0.875899   \n",
              "Kickout            0.191853  0.220416  0.179849  0.181144  ...  0.212877   \n",
              "KG                      392       404       417       425  ...       846   \n",
              "KB                       90       100        88        89  ...       130   \n",
              "\n",
              "                     clf_41    clf_42    clf_43    clf_44    clf_45    clf_46  \\\n",
              "Overall AUC        0.708504  0.708051  0.707323  0.706344  0.705036   0.70477   \n",
              "KS                 0.312993  0.311738  0.308473  0.307416    0.3051  0.301506   \n",
              "------                                                                          \n",
              "Balanced Accuracy  0.654015  0.653775  0.652125  0.650002  0.650852  0.649226   \n",
              "Accuracy           0.645238  0.625686  0.675684  0.684444  0.669261  0.653815   \n",
              "Precision          0.138825  0.135342  0.144368  0.145604   0.14251  0.138829   \n",
              "Recall             0.664454  0.687181  0.624106   0.60904  0.628958  0.643769   \n",
              "F1                 0.229666  0.226144  0.234493  0.235022  0.232369  0.228403   \n",
              "-----                                                                           \n",
              "Approval Rate      0.880472   0.88348  0.878277  0.878257  0.879314  0.877038   \n",
              "Kickout            0.228683  0.240209  0.254324  0.233154  0.257667  0.269735   \n",
              "KG                      859       877       911       935       951       953   \n",
              "KB                      136       141       148       143       152       156   \n",
              "\n",
              "                     clf_47    clf_48    clf_49  \n",
              "Overall AUC         0.70277  0.701909  0.700755  \n",
              "KS                 0.302434  0.297759  0.295463  \n",
              "------                                           \n",
              "Balanced Accuracy  0.646751  0.643198  0.641722  \n",
              "Accuracy           0.699931  0.711211  0.697329  \n",
              "Precision          0.148203  0.149826   0.14557  \n",
              "Recall             0.583504  0.562308  0.575587  \n",
              "F1                 0.236371  0.236609  0.232371  \n",
              "-----                                            \n",
              "Approval Rate      0.877383  0.868725  0.871245  \n",
              "Kickout            0.242824  0.240445  0.233033  \n",
              "KG                     1002      1026      1031  \n",
              "KB                      151       152       150  \n",
              "\n",
              "[13 rows x 51 columns]"
            ]
          },
          "execution_count": 34,
          "metadata": {},
          "output_type": "execute_result"
        }
      ],
      "source": [
        "models_dict_iter = {'original': clf_original}\n",
        "models_dict_iter.update({'clf_' + str(i): element for i, element in enumerate(results_dict[clf_name]['clf_iterations'])})\n",
        "\n",
        "metrics = ri.get_metrics_RI(models_dict_iter, X_test, y_test, X_val_acp, y_val_acp, X_val_rej, threshold_type = 'ks', acp_rate=0.05)\n",
        "metrics"
      ]
    },
    {
      "cell_type": "code",
      "execution_count": 52,
      "metadata": {
        "id": "UnrXPauPEj0m"
      },
      "outputs": [
        {
          "data": {
            "text/html": [
              "<div>\n",
              "<style scoped>\n",
              "    .dataframe tbody tr th:only-of-type {\n",
              "        vertical-align: middle;\n",
              "    }\n",
              "\n",
              "    .dataframe tbody tr th {\n",
              "        vertical-align: top;\n",
              "    }\n",
              "\n",
              "    .dataframe thead th {\n",
              "        text-align: right;\n",
              "    }\n",
              "</style>\n",
              "<table border=\"1\" class=\"dataframe\">\n",
              "  <thead>\n",
              "    <tr style=\"text-align: right;\">\n",
              "      <th></th>\n",
              "      <th>original</th>\n",
              "      <th>aug_SC</th>\n",
              "      <th>aug_up</th>\n",
              "      <th>aug_down</th>\n",
              "      <th>fuzzy</th>\n",
              "      <th>ext</th>\n",
              "      <th>parcelling</th>\n",
              "      <th>labelSpr</th>\n",
              "      <th>last</th>\n",
              "    </tr>\n",
              "  </thead>\n",
              "  <tbody>\n",
              "    <tr>\n",
              "      <th>Overall AUC</th>\n",
              "      <td>0.735742</td>\n",
              "      <td>0.720975</td>\n",
              "      <td>0.730878</td>\n",
              "      <td>0.733909</td>\n",
              "      <td>0.726104</td>\n",
              "      <td>0.738227</td>\n",
              "      <td>0.733193</td>\n",
              "      <td>0.731134</td>\n",
              "      <td>0.700755</td>\n",
              "    </tr>\n",
              "    <tr>\n",
              "      <th>KS</th>\n",
              "      <td>0.35621</td>\n",
              "      <td>0.334379</td>\n",
              "      <td>0.347312</td>\n",
              "      <td>0.359394</td>\n",
              "      <td>0.339501</td>\n",
              "      <td>0.35203</td>\n",
              "      <td>0.349133</td>\n",
              "      <td>0.344767</td>\n",
              "      <td>0.295463</td>\n",
              "    </tr>\n",
              "    <tr>\n",
              "      <th>------</th>\n",
              "      <td></td>\n",
              "      <td></td>\n",
              "      <td></td>\n",
              "      <td></td>\n",
              "      <td></td>\n",
              "      <td></td>\n",
              "      <td></td>\n",
              "      <td></td>\n",
              "      <td></td>\n",
              "    </tr>\n",
              "    <tr>\n",
              "      <th>Balanced Accuracy</th>\n",
              "      <td>0.663084</td>\n",
              "      <td>0.650719</td>\n",
              "      <td>0.67205</td>\n",
              "      <td>0.670597</td>\n",
              "      <td>0.615697</td>\n",
              "      <td>0.655524</td>\n",
              "      <td>0.65853</td>\n",
              "      <td>0.650589</td>\n",
              "      <td>0.641722</td>\n",
              "    </tr>\n",
              "    <tr>\n",
              "      <th>Accuracy</th>\n",
              "      <td>0.562091</td>\n",
              "      <td>0.54577</td>\n",
              "      <td>0.645157</td>\n",
              "      <td>0.614569</td>\n",
              "      <td>0.394557</td>\n",
              "      <td>0.512317</td>\n",
              "      <td>0.535242</td>\n",
              "      <td>0.516544</td>\n",
              "      <td>0.697329</td>\n",
              "    </tr>\n",
              "    <tr>\n",
              "      <th>Precision</th>\n",
              "      <td>0.129061</td>\n",
              "      <td>0.123924</td>\n",
              "      <td>0.144671</td>\n",
              "      <td>0.138651</td>\n",
              "      <td>0.105053</td>\n",
              "      <td>0.121822</td>\n",
              "      <td>0.124837</td>\n",
              "      <td>0.120999</td>\n",
              "      <td>0.14557</td>\n",
              "    </tr>\n",
              "    <tr>\n",
              "      <th>Recall</th>\n",
              "      <td>0.783197</td>\n",
              "      <td>0.775536</td>\n",
              "      <td>0.704035</td>\n",
              "      <td>0.737232</td>\n",
              "      <td>0.878703</td>\n",
              "      <td>0.825843</td>\n",
              "      <td>0.805158</td>\n",
              "      <td>0.81001</td>\n",
              "      <td>0.575587</td>\n",
              "    </tr>\n",
              "    <tr>\n",
              "      <th>F1</th>\n",
              "      <td>0.221604</td>\n",
              "      <td>0.2137</td>\n",
              "      <td>0.240021</td>\n",
              "      <td>0.233406</td>\n",
              "      <td>0.187669</td>\n",
              "      <td>0.212323</td>\n",
              "      <td>0.216159</td>\n",
              "      <td>0.210547</td>\n",
              "      <td>0.232371</td>\n",
              "    </tr>\n",
              "    <tr>\n",
              "      <th>-----</th>\n",
              "      <td></td>\n",
              "      <td></td>\n",
              "      <td></td>\n",
              "      <td></td>\n",
              "      <td></td>\n",
              "      <td></td>\n",
              "      <td></td>\n",
              "      <td></td>\n",
              "      <td></td>\n",
              "    </tr>\n",
              "    <tr>\n",
              "      <th>Approval Rate</th>\n",
              "      <td>0.853624</td>\n",
              "      <td>0.858603</td>\n",
              "      <td>0.852587</td>\n",
              "      <td>0.863095</td>\n",
              "      <td>0.627495</td>\n",
              "      <td>0.789236</td>\n",
              "      <td>0.773464</td>\n",
              "      <td>0.839905</td>\n",
              "      <td>0.871245</td>\n",
              "    </tr>\n",
              "    <tr>\n",
              "      <th>Kickout</th>\n",
              "      <td>0</td>\n",
              "      <td>0.413874</td>\n",
              "      <td>0.243209</td>\n",
              "      <td>0.264182</td>\n",
              "      <td>0.54816</td>\n",
              "      <td>0.514553</td>\n",
              "      <td>0.486401</td>\n",
              "      <td>0.597361</td>\n",
              "      <td>0.590054</td>\n",
              "    </tr>\n",
              "    <tr>\n",
              "      <th>KG</th>\n",
              "      <td>0</td>\n",
              "      <td>1144</td>\n",
              "      <td>649</td>\n",
              "      <td>617</td>\n",
              "      <td>1105</td>\n",
              "      <td>865</td>\n",
              "      <td>1027</td>\n",
              "      <td>1114</td>\n",
              "      <td>1973</td>\n",
              "    </tr>\n",
              "    <tr>\n",
              "      <th>KB</th>\n",
              "      <td>0</td>\n",
              "      <td>164</td>\n",
              "      <td>95</td>\n",
              "      <td>98</td>\n",
              "      <td>193</td>\n",
              "      <td>171</td>\n",
              "      <td>174</td>\n",
              "      <td>205</td>\n",
              "      <td>254</td>\n",
              "    </tr>\n",
              "  </tbody>\n",
              "</table>\n",
              "</div>"
            ],
            "text/plain": [
              "                   original    aug_SC    aug_up  aug_down     fuzzy       ext  \\\n",
              "Overall AUC        0.735742  0.720975  0.730878  0.733909  0.726104  0.738227   \n",
              "KS                  0.35621  0.334379  0.347312  0.359394  0.339501   0.35203   \n",
              "------                                                                          \n",
              "Balanced Accuracy  0.663084  0.650719   0.67205  0.670597  0.615697  0.655524   \n",
              "Accuracy           0.562091   0.54577  0.645157  0.614569  0.394557  0.512317   \n",
              "Precision          0.129061  0.123924  0.144671  0.138651  0.105053  0.121822   \n",
              "Recall             0.783197  0.775536  0.704035  0.737232  0.878703  0.825843   \n",
              "F1                 0.221604    0.2137  0.240021  0.233406  0.187669  0.212323   \n",
              "-----                                                                           \n",
              "Approval Rate      0.853624  0.858603  0.852587  0.863095  0.627495  0.789236   \n",
              "Kickout                   0  0.413874  0.243209  0.264182   0.54816  0.514553   \n",
              "KG                        0      1144       649       617      1105       865   \n",
              "KB                        0       164        95        98       193       171   \n",
              "\n",
              "                  parcelling  labelSpr      last  \n",
              "Overall AUC         0.733193  0.731134  0.700755  \n",
              "KS                  0.349133  0.344767  0.295463  \n",
              "------                                            \n",
              "Balanced Accuracy    0.65853  0.650589  0.641722  \n",
              "Accuracy            0.535242  0.516544  0.697329  \n",
              "Precision           0.124837  0.120999   0.14557  \n",
              "Recall              0.805158   0.81001  0.575587  \n",
              "F1                  0.216159  0.210547  0.232371  \n",
              "-----                                             \n",
              "Approval Rate       0.773464  0.839905  0.871245  \n",
              "Kickout             0.486401  0.597361  0.590054  \n",
              "KG                      1027      1114      1973  \n",
              "KB                       174       205       254  "
            ]
          },
          "execution_count": 52,
          "metadata": {},
          "output_type": "execute_result"
        }
      ],
      "source": [
        "metrics_techniques = ri.get_metrics_RI(models_dict, X_test, y_test, \n",
        "                                    X_val_acp, y_val_acp, X_unl =  X_val_rej,\n",
        "                                    threshold_type = 'ks', acp_rate = 0.15)\n",
        "\n",
        "metrics_techniques\n"
      ]
    },
    {
      "cell_type": "code",
      "execution_count": null,
      "metadata": {
        "id": "dUTF_kyvuBTX"
      },
      "outputs": [
        {
          "name": "stdout",
          "output_type": "stream",
          "text": [
            "None : (36093,)\n",
            "None : (79093,)\n"
          ]
        }
      ],
      "source": [
        "first = dex.get_shapes(results_dict[clf_name]['updated_y_train_list'][0])\n",
        "last = dex.get_shapes(results_dict[clf_name]['updated_y_train_list'][-1])"
      ]
    },
    {
      "cell_type": "code",
      "execution_count": null,
      "metadata": {
        "id": "Ttsik-IFOdGF"
      },
      "outputs": [],
      "source": [
        "y_mean_list = [y.mean() for y in results_dict[clf_name]['updated_y_train_list']]"
      ]
    },
    {
      "cell_type": "code",
      "execution_count": null,
      "metadata": {
        "id": "-ybwzLJxLIkI"
      },
      "outputs": [
        {
          "data": {
            "text/plain": [
              "0.7345960055842118"
            ]
          },
          "execution_count": 142,
          "metadata": {},
          "output_type": "execute_result"
        }
      ],
      "source": [
        "auc0 = metrics.T['Overall AUC']['original']\n",
        "auc0"
      ]
    },
    {
      "cell_type": "code",
      "execution_count": null,
      "metadata": {
        "id": "JgiQOzx0A3fO"
      },
      "outputs": [],
      "source": [
        "auc_loss = [(auc0 - a) for a in metrics.T['Overall AUC']][1:]"
      ]
    },
    {
      "cell_type": "markdown",
      "metadata": {
        "id": "LzhjVEohjg8X"
      },
      "source": [
        "paralell coordinate plot"
      ]
    },
    {
      "cell_type": "code",
      "execution_count": null,
      "metadata": {
        "cellView": "form",
        "id": "OKn9Q8SuIaJt"
      },
      "outputs": [
        {
          "data": {
            "image/png": "[encoded data removed]",
            "text/plain": [
              "<Figure size 1000x300 with 1 Axes>"
            ]
          },
          "metadata": {},
          "output_type": "display_data"
        }
      ],
      "source": [
        "#@title Show evolution of metrics\n",
        "\n",
        "metrics_df = metrics.copy()#_techniques.copy()\n",
        "\n",
        "# Set the desired figure size\n",
        "plt.figure(figsize=(10, 3))\n",
        "\n",
        "cols_to_plot =  ['Overall AUC', 'Balanced Accuracy', 'Accuracy', 'Approval Rate']\n",
        "cols_plotted = []\n",
        "\n",
        "# Iterate over the columns of metrics_df.T and create individual plots\n",
        "for m in cols_to_plot:\n",
        "    if m in metrics_df.T.columns:\n",
        "        plt.plot(metrics_df.T[m], marker='o', markersize=4, linestyle='--')\n",
        "        cols_plotted.append(m)\n",
        "\n",
        "# Add a legend outside the loop\n",
        "plt.legend(cols_plotted, loc='upper right', bbox_to_anchor=(.8, 0.5, 0.5, 0.5))\n",
        "\n",
        "# Set the y-axis tick positions and labels\n",
        "plt.yticks(fontsize=12)\n",
        "\n",
        "# Show the plots\n",
        "plt.show()"
      ]
    },
    {
      "cell_type": "code",
      "execution_count": null,
      "metadata": {
        "cellView": "form",
        "id": "Yca3qN10tZUS"
      },
      "outputs": [
        {
          "data": {
            "image/png": "[encoded data removed]",
            "text/plain": [
              "<Figure size 1000x300 with 1 Axes>"
            ]
          },
          "metadata": {},
          "output_type": "display_data"
        }
      ],
      "source": [
        "#@title Show evolution of metrics\n",
        "# Set the desired figure size\n",
        "plt.figure(figsize=(10, 3))\n",
        "\n",
        "cols_to_plot = ['KS','Precision', 'Recall','F1', 'Kickout']\n",
        "cols_plotted = []\n",
        "\n",
        "# Iterate over the columns of metrics.T and create individual plots\n",
        "for m in cols_to_plot:\n",
        "    if m in metrics_df.T.columns:\n",
        "        plt.plot(metrics_df.T[m], marker='o', markersize=4, linestyle='--')\n",
        "        cols_plotted.append(m)\n",
        "\n",
        "# Add a legend outside the loop\n",
        "plt.legend(cols_plotted, loc='upper right', bbox_to_anchor=(.8, 0.5, 0.5, 0.5))\n",
        "\n",
        "# Set the y-axis tick positions and labels\n",
        "plt.yticks(fontsize=12)\n",
        "\n",
        "# Show the plots\n",
        "plt.show()"
      ]
    },
    {
      "cell_type": "code",
      "execution_count": null,
      "metadata": {
        "id": "g4LZ97w43nXQ"
      },
      "outputs": [],
      "source": [
        "# C1 = clf_original\n",
        "# kickout_results = []\n",
        "\n",
        "# for c2 in results_dict[clf_name]['clf_iterations']:\n",
        "#     k, kg, kb = ri.calculate_kickout_metric(C1,c2, X_test, y_test, X_val_rej, 0.05)\n",
        "#     kickout_results.append(k)\n",
        "#     print(k)"
      ]
    },
    {
      "cell_type": "code",
      "execution_count": null,
      "metadata": {
        "id": "8fP0lG44OoRB"
      },
      "outputs": [],
      "source": [
        "# plt.plot(kickout_results, marker='o', markersize=3, linestyle='-', label = 'kickout')\n",
        "# plt.plot(y_mean_list, marker='o', markersize=3, linestyle='-', label = 'y_mean_list')\n",
        "# plt.plot(auc_loss, marker='o', markersize=3, linestyle='-', label = 'auc_loss')\n",
        "# plt.legend()"
      ]
    },
    {
      "cell_type": "code",
      "execution_count": null,
      "metadata": {
        "id": "0obdM5gEHMOs"
      },
      "outputs": [],
      "source": [
        "# AR_original = ri.calculate_approval_rate(clf_original, X_val_acp, y_val_acp, X_test)\n",
        "# AR_original"
      ]
    },
    {
      "cell_type": "code",
      "execution_count": null,
      "metadata": {
        "id": "6-UmbHCEheTl"
      },
      "outputs": [],
      "source": [
        "# thrs = []\n",
        "# for clf_ri in results_dict[clf_name]['clf_iterations']:\n",
        "#     thr = ri.risk_score_threshold(clf_ri, X_val_acp, y_val_acp)\n",
        "#     thrs += [thr]"
      ]
    },
    {
      "cell_type": "code",
      "execution_count": null,
      "metadata": {
        "id": "kp2LsqF-vDu_"
      },
      "outputs": [],
      "source": [
        "# AR = []\n",
        "# for c2, thr in zip(results_dict[clf_name]['clf_iterations'], thrs):\n",
        "#     k = ri.calculate_approval_rate(c2, X_val_acp, y_val_acp, X_test)\n",
        "#     AR.append(k)\n",
        "#     # print(k)"
      ]
    },
    {
      "cell_type": "code",
      "execution_count": null,
      "metadata": {
        "id": "-msxh63XvDvA"
      },
      "outputs": [],
      "source": [
        "# plt.plot(AR)\n",
        "# plt.plot(np.arange(len(AR)), [AR_original]*len(AR))"
      ]
    },
    {
      "cell_type": "code",
      "execution_count": null,
      "metadata": {},
      "outputs": [
        {
          "name": "stdout",
          "output_type": "stream",
          "text": [
            "(<class 'time.struct_time'>, ((2023, 11, 29, 13, 19, 24, 2, 333, 0), {'tm_zone': '-03', 'tm_gmtoff': -10800}))\n"
          ]
        }
      ],
      "source": [
        "print(time.localtime().__reduce__())"
      ]
    },
    {
      "cell_type": "code",
      "execution_count": null,
      "metadata": {},
      "outputs": [],
      "source": [
        "# metrics_poster = metrics_techniques.loc[[\"Overall AUC\", \"Kickout\"],:]\n",
        "# metrics_poster = metrics_poster.astype(float).round(3)\n",
        "# metrics_poster"
      ]
    },
    {
      "cell_type": "code",
      "execution_count": null,
      "metadata": {},
      "outputs": [],
      "source": [
        "# from pathlib import Path\n",
        "# filepath = Path(os.path.join(save_path,str(seed_number)+'_metrics_poster.csv'))\n",
        "# filepath.parent.mkdir(parents=True, exist_ok=True)\n",
        "# metrics_poster.to_csv(filepath)"
      ]
    }
  ],
  "metadata": {
    "colab": {
      "collapsed_sections": [
        "h-h3CuT8QlAM",
        "tAVCg2OVBYja",
        "dsDca864gWOL"
      ],
      "provenance": []
    },
    "kernelspec": {
      "display_name": "Python 3",
      "name": "python3"
    },
    "language_info": {
      "codemirror_mode": {
        "name": "ipython",
        "version": 3
      },
      "file_extension": ".py",
      "mimetype": "text/x-python",
      "name": "python",
      "nbconvert_exporter": "python",
      "pygments_lexer": "ipython3",
      "version": "3.10.12"
    }
  },
  "nbformat": 4,
  "nbformat_minor": 0
}
