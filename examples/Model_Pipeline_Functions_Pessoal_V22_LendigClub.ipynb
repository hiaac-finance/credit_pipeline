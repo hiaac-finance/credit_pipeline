{
  "cells": [
    {
      "cell_type": "code",
      "execution_count": 2,
      "metadata": {},
      "outputs": [],
      "source": [
        "%load_ext autoreload\n",
        "%autoreload 2"
      ]
    },
    {
      "cell_type": "markdown",
      "metadata": {
        "id": "blgLrl75vMYF"
      },
      "source": [
        "#<font color='orange'>Basics</font>"
      ]
    },
    {
      "cell_type": "code",
      "execution_count": 3,
      "metadata": {
        "id": "nP3uS5qVwWGL"
      },
      "outputs": [],
      "source": [
        "#@title **Location** of the dataset\n",
        "path =  \"../data/LendingClub/\"\n",
        "process_path = \"../data/ProcessedData/\"\n",
        "save_path = \"../tests/\"\n",
        "ri_datasets_path = \"../data/riData/\""
      ]
    },
    {
      "cell_type": "code",
      "execution_count": 4,
      "metadata": {
        "id": "GS4_XnYslJ3J"
      },
      "outputs": [],
      "source": [
        "import numpy as np\n",
        "import pandas as pd\n",
        "import matplotlib.pyplot as plt\n",
        "import secrets\n",
        "import joblib\n",
        "import os\n",
        "\n",
        "from sklearn.model_selection import train_test_split\n",
        "from sklearn.ensemble import IsolationForest\n",
        "from scipy.stats import ks_2samp\n",
        "from lightgbm import LGBMClassifier\n",
        "from pathlib import Path\n",
        "from sklearn.metrics import (roc_auc_score)\n",
        "from sklearn.model_selection import KFold\n"
      ]
    },
    {
      "cell_type": "code",
      "execution_count": 5,
      "metadata": {},
      "outputs": [],
      "source": [
        "from sklearn.metrics import (accuracy_score, balanced_accuracy_score,\n",
        "                            f1_score, precision_score, recall_score,\n",
        "                            roc_auc_score, roc_curve)"
      ]
    },
    {
      "cell_type": "code",
      "execution_count": 6,
      "metadata": {
        "id": "UYGeAIaJGlSR"
      },
      "outputs": [],
      "source": [
        "from sklearn.linear_model import LogisticRegression\n",
        "from sklearn.tree import DecisionTreeClassifier\n",
        "from sklearn.ensemble import RandomForestClassifier\n",
        "from sklearn.ensemble import GradientBoostingClassifier\n",
        "from sklearn.tree import DecisionTreeClassifier\n",
        "from sklearn.semi_supervised import LabelSpreading"
      ]
    },
    {
      "cell_type": "code",
      "execution_count": 7,
      "metadata": {
        "id": "-Wcy0zwdVZ9P"
      },
      "outputs": [],
      "source": [
        "import credit_pipeline.data_exploration as dex\n",
        "import credit_pipeline.training as tr\n",
        "import credit_pipeline.reject_inference as ri\n",
        "import credit_pipeline.evaluate as ev\n",
        "\n",
        "from submodules.topsis_python import topsis as top"
      ]
    },
    {
      "cell_type": "markdown",
      "metadata": {},
      "source": [
        "[x] add kfold\n",
        "\n",
        "[x] add topsis/ahp multicriterio\n",
        "\n",
        "[x] add criterio de parada\n",
        "\n",
        "[-] pip freeze"
      ]
    },
    {
      "cell_type": "markdown",
      "metadata": {
        "id": "JUhYgv4MWtdF"
      },
      "source": [
        "#Read Dataset"
      ]
    },
    {
      "cell_type": "code",
      "execution_count": 8,
      "metadata": {},
      "outputs": [
        {
          "name": "stdout",
          "output_type": "stream",
          "text": [
            "accepted_2007_to_2018Q4.csv  rejected_2007_to_2018Q4.csv\n"
          ]
        }
      ],
      "source": [
        "ls '../data/LendingClub/'"
      ]
    },
    {
      "cell_type": "code",
      "execution_count": 9,
      "metadata": {},
      "outputs": [],
      "source": [
        "#@title Accepts\n",
        "selected_columns = [\"dti\",\"addr_state\", \"fico_range_high\", \"fico_range_low\", \"loan_amnt\", \"emp_length\", \"loan_status\"]\n",
        "\n",
        "# Specify the number of rows to read (300,000 in this case)\n",
        "num_rows = 80000\n",
        "\n",
        "# Read only the specified columns and the first 300,000 samples\n",
        "df_o = pd.read_csv(path+'accepted_2007_to_2018Q4.csv', usecols=selected_columns, nrows=num_rows)"
      ]
    },
    {
      "cell_type": "code",
      "execution_count": 10,
      "metadata": {},
      "outputs": [],
      "source": [
        "#@title Rejects\n",
        "selected_columns = [\"Debt-To-Income Ratio\",\"State\", \"Risk_Score\", \"Amount Requested\", \"Employment Length\"]\n",
        "\n",
        "# Specify the number of rows to read (300,000 in this case)\n",
        "num_rows = 80000\n",
        "\n",
        "# Read only the specified columns and the first 300,000 samples\n",
        "df_r = pd.read_csv(path+'rejected_2007_to_2018Q4.csv', usecols=selected_columns, nrows=num_rows)"
      ]
    },
    {
      "cell_type": "code",
      "execution_count": 11,
      "metadata": {},
      "outputs": [],
      "source": [
        "#rejected fix names\n",
        "df_r[\"emp_length\"] = df_r[\"Employment Length\"]\n",
        "df_r[\"addr_state\"] = df_r[\"State\"]\n",
        "df_r[\"dti\"] = df_r[\"Debt-To-Income Ratio\"]\n",
        "df_r[\"dti\"] = pd.to_numeric(df_r['dti'].str.replace('%', ''))\n",
        "df_r[\"loan_amnt\"] = df_r[\"Amount Requested\"]\n",
        "df_r[\"risk_score\"] = df_r[\"Risk_Score\"]\n",
        "\n",
        "#accepted fix names\n",
        "df_o[\"risk_score\"] = df_o.loc[:,[\"fico_range_high\",\"fico_range_low\"]].mean(axis=1)\n",
        "df_o[\"TARGET\"] = np.where((df_o.loan_status == 'Current') |\n",
        "                        (df_o.loan_status == 'Fully Paid') |\n",
        "                        (df_o.loan_status== \"Issued\") |\n",
        "                        (df_o.loan_status == 'Does not meet the credit policy. Status:Fully Paid'), 0, 1)\n"
      ]
    },
    {
      "cell_type": "code",
      "execution_count": 12,
      "metadata": {},
      "outputs": [],
      "source": [
        "df_o = df_o.drop(columns=[\"loan_status\", \"fico_range_low\", \"fico_range_high\"])\n",
        "df_r = df_r.drop(columns=[\"Amount Requested\", \"Employment Length\", \"State\",\n",
        "                   \"Debt-To-Income Ratio\", \"Amount Requested\",\"Risk_Score\"])"
      ]
    },
    {
      "cell_type": "code",
      "execution_count": 13,
      "metadata": {
        "id": "E9ZcOM3YWzHq"
      },
      "outputs": [],
      "source": [
        "#@title Create develoment train and test\n",
        "# df_train, df_test = tr.create_train_test(df_o, seed=43)"
      ]
    },
    {
      "cell_type": "code",
      "execution_count": 14,
      "metadata": {
        "colab": {
          "base_uri": "https://localhost:8080/"
        },
        "id": "3Dkh72hA_FJh",
        "outputId": "5805b987-3155-4ee2-d9b2-fb45b81f43d9"
      },
      "outputs": [
        {
          "name": "stdout",
          "output_type": "stream",
          "text": [
            "420\n"
          ]
        }
      ],
      "source": [
        "#@title Set seed\n",
        "new_seed = False #@param {type:\"boolean\"}\n",
        "\n",
        "if new_seed:\n",
        "    seed_number = secrets.randbelow(1_000) #to name the results files\n",
        "\n",
        "    while seed_number <100:\n",
        "        seed_number = secrets.randbelow(1_000)\n",
        "else:\n",
        "    seed_number = 420\n",
        "\n",
        "print(seed_number)"
      ]
    },
    {
      "cell_type": "markdown",
      "metadata": {
        "id": "52vhsCDBGI-d"
      },
      "source": [
        "#Params"
      ]
    },
    {
      "cell_type": "code",
      "execution_count": 15,
      "metadata": {
        "id": "3glKB-zHGHIY"
      },
      "outputs": [],
      "source": [
        "params_dict = ri.params_dict"
      ]
    },
    {
      "cell_type": "code",
      "execution_count": 16,
      "metadata": {},
      "outputs": [],
      "source": [
        "params_dict['LightGBM_2'] = {'boosting_type': 'gbdt', 'class_weight': None,\n",
        "              'colsample_bytree': 0.22534977954592625, 'importance_type': 'split',\n",
        "              'learning_rate': 0.052227873762946964, 'max_depth': 5,\n",
        "              'min_child_samples': 26, 'min_child_weight': 0.001,\n",
        "              'min_split_gain': 0.0, 'n_estimators': 159, 'n_jobs': -1,\n",
        "              'num_leaves': 12, 'objective': None, 'random_state': seed_number,\n",
        "              'reg_alpha': 0.7438345471808012, 'reg_lambda': 0.46164693905368515,\n",
        "                'verbose': -1, 'subsample': 0.8896599304061413,\n",
        "              'subsample_for_bin': 200000, 'subsample_freq': 0,\n",
        "              'is_unbalance': True}"
      ]
    },
    {
      "cell_type": "markdown",
      "metadata": {
        "id": "mvpZmqxevPR0"
      },
      "source": [
        "#<font color='orange'>Helper Functions</font>\n"
      ]
    },
    {
      "cell_type": "markdown",
      "metadata": {
        "id": "h-h3CuT8QlAM"
      },
      "source": [
        "#<font color='red'>Definition of Train and Test Val, and Unl</font>"
      ]
    },
    {
      "cell_type": "code",
      "execution_count": 17,
      "metadata": {
        "id": "DgHJV0dMsU4w"
      },
      "outputs": [],
      "source": [
        "filepath = Path(os.path.join(ri_datasets_path,f'TN-{420}.joblib'))\n",
        "datasets = joblib.load(filepath)"
      ]
    },
    {
      "cell_type": "code",
      "execution_count": null,
      "metadata": {},
      "outputs": [],
      "source": []
    },
    {
      "cell_type": "code",
      "execution_count": 20,
      "metadata": {},
      "outputs": [
        {
          "data": {
            "image/png": "[encoded data removed]",
            "text/plain": [
              "<Figure size 640x480 with 1 Axes>"
            ]
          },
          "metadata": {},
          "output_type": "display_data"
        }
      ],
      "source": [
        "plt.hist(datasets['TN_1'].predict_proba(X_test_rej)[:,1]\n",
        "         , bins=40, alpha=0.5, label='1', density=False)\n",
        "plt.show()"
      ]
    },
    {
      "cell_type": "code",
      "execution_count": 17,
      "metadata": {},
      "outputs": [],
      "source": [
        "# df_train = df_train.sample(frac=0.05)"
      ]
    },
    {
      "cell_type": "code",
      "execution_count": 19,
      "metadata": {
        "id": "l9YWcmRJWfT4"
      },
      "outputs": [],
      "source": [
        "N_splits=5  \n",
        "kf = KFold(n_splits=N_splits)   #80-20 split for train-test\n",
        "hist_dict = {}\n",
        "\n",
        "for fold_number, (train_index, test_index) in enumerate(kf.split(df_o)):\n",
        "    #diferent seed for each iteration\n",
        "    seed_number = seed_number+fold_number\n",
        "\n",
        "    df_train = df_o.iloc[train_index]\n",
        "    df_test = df_o.iloc[test_index]\n",
        "    \n",
        "    val_split = int(df_train.shape[0] * 0.2)  #80-20 split for train-validation\n",
        "    df_val = df_train.iloc[:val_split]\n",
        "    df_train = df_train.iloc[val_split:]\n",
        "\n",
        "    # df_train, policy_model = ri.fit_policy(df_train)\n",
        "\n",
        "    X_train = df_train.loc[:, df_train.columns != \"TARGET\"]\n",
        "    X_test = df_test.loc[:, df_test.columns != \"TARGET\"]\n",
        "    X_val = df_val.loc[:, df_val.columns != \"TARGET\"]\n",
        "    y_train, y_test, y_val = df_train[\"TARGET\"], df_test[\"TARGET\"], df_val[\"TARGET\"]\n",
        "\n",
        "    X_train_acp, y_train_acp = X_train, y_train\n",
        "    X_test_acp, y_test_acp = X_test, y_test\n",
        "    X_val_acp, y_val_acp = X_val, y_val\n",
        "    X_train_rej, X_test_rej = train_test_split(df_r, test_size=0.2, random_state=seed_number)\n",
        "    \n",
        "    # dex.get_shapes(X_train_acp, X_train_rej, X_test_acp, X_test_rej, X_val_acp, X_val_rej)\n",
        "\n",
        "    # metrics = ri.get_metrics_RI(datasets, X_test_acp, y_test_acp, X_val_acp, y_val_acp, X_test_rej)\n",
        "    # break\n",
        "    # models_dict = {}\n",
        "\n",
        "    # benchmark = tr.create_pipeline(X_train_acp, y_train_acp,\n",
        "    #                               LGBMClassifier(**params_dict['LightGBM_2']), do_EBE=True)\n",
        "    # benchmark.fit(X_train_acp, y_train_acp)\n",
        "\n",
        "    \n",
        "    # models_dict['BM'] = benchmark\n",
        "\n",
        "    # models_dict.update(\n",
        "    #     ri.augmentation_with_soft_cutoff(X_train_acp, y_train_acp, X_train_rej, seed = seed_number))\n",
        "    # models_dict.update(\n",
        "    #     ri.augmentation(X_train_acp, y_train_acp, X_train_rej, mode='up', seed = seed_number))\n",
        "    # models_dict.update(\n",
        "    #     ri.augmentation(X_train_acp, y_train_acp, X_train_rej, mode='down', seed = seed_number))\n",
        "    # models_dict.update(\n",
        "    #     ri.fuzzy_augmentation(X_train_acp, y_train_acp, X_train_rej, seed = seed_number))\n",
        "    # models_dict.update(\n",
        "    #     ri.extrapolation(X_train_acp, y_train_acp, X_train_rej, seed = seed_number))\n",
        "    # models_dict.update(\n",
        "    #     ri.parcelling(X_train_acp, y_train_acp, X_train_rej, seed = seed_number))\n",
        "    # models_dict.update(\n",
        "    #     ri.label_spreading(X_train_acp, y_train_acp, X_train_rej, seed = seed_number))\n",
        "    # models_dict.update(\n",
        "    #     ri.trusted_non_outliers(X_train_acp, y_train_acp, X_train_rej,\n",
        "    #                              X_val_acp, y_val_acp, iterations=50,p=0.18, seed=seed_number))\n",
        "    \n",
        "    # hist_dict[fold_number] = ri.get_metrics_RI(models_dict, X_test_acp, \n",
        "    #                                            y_test_acp, X_val_acp, y_val_acp, X_test_rej)\n",
        "    # print(f'fold_number: {fold_number}')\n",
        "    break"
      ]
    },
    {
      "cell_type": "code",
      "execution_count": 19,
      "metadata": {},
      "outputs": [
        {
          "data": {
            "text/html": [
              "<div>\n",
              "<style scoped>\n",
              "    .dataframe tbody tr th:only-of-type {\n",
              "        vertical-align: middle;\n",
              "    }\n",
              "\n",
              "    .dataframe tbody tr th {\n",
              "        vertical-align: top;\n",
              "    }\n",
              "\n",
              "    .dataframe thead th {\n",
              "        text-align: right;\n",
              "    }\n",
              "</style>\n",
              "<table border=\"1\" class=\"dataframe\">\n",
              "  <thead>\n",
              "    <tr style=\"text-align: right;\">\n",
              "      <th></th>\n",
              "      <th>BM</th>\n",
              "      <th>A-SC</th>\n",
              "      <th>A-UW</th>\n",
              "      <th>A-DW</th>\n",
              "      <th>A-FU</th>\n",
              "      <th>E-C</th>\n",
              "      <th>PAR</th>\n",
              "      <th>LSP</th>\n",
              "      <th>TN</th>\n",
              "    </tr>\n",
              "  </thead>\n",
              "  <tbody>\n",
              "    <tr>\n",
              "      <th>Overall AUC</th>\n",
              "      <td>0.639698</td>\n",
              "      <td>0.640363</td>\n",
              "      <td>0.638982</td>\n",
              "      <td>0.638088</td>\n",
              "      <td>0.613616</td>\n",
              "      <td>0.640381</td>\n",
              "      <td>0.626118</td>\n",
              "      <td>0.629306</td>\n",
              "      <td>0.626493</td>\n",
              "    </tr>\n",
              "    <tr>\n",
              "      <th>KS</th>\n",
              "      <td>0.212003</td>\n",
              "      <td>0.209956</td>\n",
              "      <td>0.211157</td>\n",
              "      <td>0.207485</td>\n",
              "      <td>0.166285</td>\n",
              "      <td>0.213020</td>\n",
              "      <td>0.186439</td>\n",
              "      <td>0.190010</td>\n",
              "      <td>0.191283</td>\n",
              "    </tr>\n",
              "    <tr>\n",
              "      <th>Balanced Accuracy</th>\n",
              "      <td>0.601242</td>\n",
              "      <td>0.604181</td>\n",
              "      <td>0.603179</td>\n",
              "      <td>0.602438</td>\n",
              "      <td>0.582008</td>\n",
              "      <td>0.603581</td>\n",
              "      <td>0.591262</td>\n",
              "      <td>0.592379</td>\n",
              "      <td>0.592264</td>\n",
              "    </tr>\n",
              "    <tr>\n",
              "      <th>Accuracy</th>\n",
              "      <td>0.552000</td>\n",
              "      <td>0.584313</td>\n",
              "      <td>0.576125</td>\n",
              "      <td>0.577750</td>\n",
              "      <td>0.522938</td>\n",
              "      <td>0.577000</td>\n",
              "      <td>0.588500</td>\n",
              "      <td>0.553000</td>\n",
              "      <td>0.567438</td>\n",
              "    </tr>\n",
              "    <tr>\n",
              "      <th>Precision</th>\n",
              "      <td>0.240833</td>\n",
              "      <td>0.248790</td>\n",
              "      <td>0.246495</td>\n",
              "      <td>0.246471</td>\n",
              "      <td>0.227231</td>\n",
              "      <td>0.246881</td>\n",
              "      <td>0.242963</td>\n",
              "      <td>0.236741</td>\n",
              "      <td>0.239266</td>\n",
              "    </tr>\n",
              "    <tr>\n",
              "      <th>Recall</th>\n",
              "      <td>0.678682</td>\n",
              "      <td>0.635427</td>\n",
              "      <td>0.645726</td>\n",
              "      <td>0.641263</td>\n",
              "      <td>0.674906</td>\n",
              "      <td>0.645383</td>\n",
              "      <td>0.595606</td>\n",
              "      <td>0.654308</td>\n",
              "      <td>0.631308</td>\n",
              "    </tr>\n",
              "    <tr>\n",
              "      <th>F1</th>\n",
              "      <td>0.355512</td>\n",
              "      <td>0.357578</td>\n",
              "      <td>0.356791</td>\n",
              "      <td>0.356081</td>\n",
              "      <td>0.339991</td>\n",
              "      <td>0.357143</td>\n",
              "      <td>0.345136</td>\n",
              "      <td>0.347683</td>\n",
              "      <td>0.347014</td>\n",
              "    </tr>\n",
              "    <tr>\n",
              "      <th>Approval Rate</th>\n",
              "      <td>0.084125</td>\n",
              "      <td>0.088688</td>\n",
              "      <td>0.000000</td>\n",
              "      <td>0.085938</td>\n",
              "      <td>0.000125</td>\n",
              "      <td>0.000000</td>\n",
              "      <td>0.000063</td>\n",
              "      <td>0.084500</td>\n",
              "      <td>0.000000</td>\n",
              "    </tr>\n",
              "    <tr>\n",
              "      <th>Kickout</th>\n",
              "      <td>0.000000</td>\n",
              "      <td>0.002881</td>\n",
              "      <td>0.019106</td>\n",
              "      <td>0.064026</td>\n",
              "      <td>0.000000</td>\n",
              "      <td>0.010463</td>\n",
              "      <td>-0.001592</td>\n",
              "      <td>0.332186</td>\n",
              "      <td>0.000000</td>\n",
              "    </tr>\n",
              "    <tr>\n",
              "      <th>KG</th>\n",
              "      <td>0.000000</td>\n",
              "      <td>44.000000</td>\n",
              "      <td>76.000000</td>\n",
              "      <td>91.000000</td>\n",
              "      <td>0.000000</td>\n",
              "      <td>44.000000</td>\n",
              "      <td>2.000000</td>\n",
              "      <td>497.000000</td>\n",
              "      <td>0.000000</td>\n",
              "    </tr>\n",
              "    <tr>\n",
              "      <th>KB</th>\n",
              "      <td>0.000000</td>\n",
              "      <td>10.000000</td>\n",
              "      <td>21.000000</td>\n",
              "      <td>36.000000</td>\n",
              "      <td>0.000000</td>\n",
              "      <td>12.000000</td>\n",
              "      <td>0.000000</td>\n",
              "      <td>192.000000</td>\n",
              "      <td>0.000000</td>\n",
              "    </tr>\n",
              "  </tbody>\n",
              "</table>\n",
              "</div>"
            ],
            "text/plain": [
              "                         BM       A-SC       A-UW       A-DW      A-FU  \\\n",
              "Overall AUC        0.639698   0.640363   0.638982   0.638088  0.613616   \n",
              "KS                 0.212003   0.209956   0.211157   0.207485  0.166285   \n",
              "Balanced Accuracy  0.601242   0.604181   0.603179   0.602438  0.582008   \n",
              "Accuracy           0.552000   0.584313   0.576125   0.577750  0.522938   \n",
              "Precision          0.240833   0.248790   0.246495   0.246471  0.227231   \n",
              "Recall             0.678682   0.635427   0.645726   0.641263  0.674906   \n",
              "F1                 0.355512   0.357578   0.356791   0.356081  0.339991   \n",
              "Approval Rate      0.084125   0.088688   0.000000   0.085938  0.000125   \n",
              "Kickout            0.000000   0.002881   0.019106   0.064026  0.000000   \n",
              "KG                 0.000000  44.000000  76.000000  91.000000  0.000000   \n",
              "KB                 0.000000  10.000000  21.000000  36.000000  0.000000   \n",
              "\n",
              "                         E-C       PAR         LSP        TN  \n",
              "Overall AUC         0.640381  0.626118    0.629306  0.626493  \n",
              "KS                  0.213020  0.186439    0.190010  0.191283  \n",
              "Balanced Accuracy   0.603581  0.591262    0.592379  0.592264  \n",
              "Accuracy            0.577000  0.588500    0.553000  0.567438  \n",
              "Precision           0.246881  0.242963    0.236741  0.239266  \n",
              "Recall              0.645383  0.595606    0.654308  0.631308  \n",
              "F1                  0.357143  0.345136    0.347683  0.347014  \n",
              "Approval Rate       0.000000  0.000063    0.084500  0.000000  \n",
              "Kickout             0.010463 -0.001592    0.332186  0.000000  \n",
              "KG                 44.000000  2.000000  497.000000  0.000000  \n",
              "KB                 12.000000  0.000000  192.000000  0.000000  "
            ]
          },
          "execution_count": 19,
          "metadata": {},
          "output_type": "execute_result"
        }
      ],
      "source": [
        "hist_dict[0]"
      ]
    },
    {
      "cell_type": "code",
      "execution_count": 20,
      "metadata": {},
      "outputs": [
        {
          "data": {
            "text/html": [
              "<div>\n",
              "<style scoped>\n",
              "    .dataframe tbody tr th:only-of-type {\n",
              "        vertical-align: middle;\n",
              "    }\n",
              "\n",
              "    .dataframe tbody tr th {\n",
              "        vertical-align: top;\n",
              "    }\n",
              "\n",
              "    .dataframe thead th {\n",
              "        text-align: right;\n",
              "    }\n",
              "</style>\n",
              "<table border=\"1\" class=\"dataframe\">\n",
              "  <thead>\n",
              "    <tr style=\"text-align: right;\">\n",
              "      <th></th>\n",
              "      <th>BM</th>\n",
              "      <th>A-SC</th>\n",
              "      <th>A-UW</th>\n",
              "      <th>A-DW</th>\n",
              "      <th>A-FU</th>\n",
              "      <th>E-C</th>\n",
              "      <th>PAR</th>\n",
              "      <th>LSP</th>\n",
              "      <th>TN</th>\n",
              "    </tr>\n",
              "  </thead>\n",
              "  <tbody>\n",
              "    <tr>\n",
              "      <th>Overall AUC</th>\n",
              "      <td>0.634733</td>\n",
              "      <td>0.634696</td>\n",
              "      <td>0.634168</td>\n",
              "      <td>0.631908</td>\n",
              "      <td>0.609170</td>\n",
              "      <td>0.634705</td>\n",
              "      <td>0.628593</td>\n",
              "      <td>0.624965</td>\n",
              "      <td>0.629784</td>\n",
              "    </tr>\n",
              "    <tr>\n",
              "      <th>KS</th>\n",
              "      <td>0.195518</td>\n",
              "      <td>0.193886</td>\n",
              "      <td>0.193828</td>\n",
              "      <td>0.190358</td>\n",
              "      <td>0.156787</td>\n",
              "      <td>0.193934</td>\n",
              "      <td>0.187048</td>\n",
              "      <td>0.178858</td>\n",
              "      <td>0.187786</td>\n",
              "    </tr>\n",
              "    <tr>\n",
              "      <th>Balanced Accuracy</th>\n",
              "      <td>0.596096</td>\n",
              "      <td>0.595290</td>\n",
              "      <td>0.594861</td>\n",
              "      <td>0.594127</td>\n",
              "      <td>0.576955</td>\n",
              "      <td>0.595287</td>\n",
              "      <td>0.591885</td>\n",
              "      <td>0.588403</td>\n",
              "      <td>0.593062</td>\n",
              "    </tr>\n",
              "    <tr>\n",
              "      <th>Accuracy</th>\n",
              "      <td>0.571040</td>\n",
              "      <td>0.576393</td>\n",
              "      <td>0.569183</td>\n",
              "      <td>0.570727</td>\n",
              "      <td>0.540033</td>\n",
              "      <td>0.576537</td>\n",
              "      <td>0.559847</td>\n",
              "      <td>0.563860</td>\n",
              "      <td>0.569717</td>\n",
              "    </tr>\n",
              "    <tr>\n",
              "      <th>Precision</th>\n",
              "      <td>0.244862</td>\n",
              "      <td>0.245223</td>\n",
              "      <td>0.243728</td>\n",
              "      <td>0.243455</td>\n",
              "      <td>0.229667</td>\n",
              "      <td>0.245299</td>\n",
              "      <td>0.240456</td>\n",
              "      <td>0.239216</td>\n",
              "      <td>0.242781</td>\n",
              "    </tr>\n",
              "    <tr>\n",
              "      <th>Recall</th>\n",
              "      <td>0.635510</td>\n",
              "      <td>0.625291</td>\n",
              "      <td>0.635283</td>\n",
              "      <td>0.631184</td>\n",
              "      <td>0.635439</td>\n",
              "      <td>0.625111</td>\n",
              "      <td>0.642398</td>\n",
              "      <td>0.627376</td>\n",
              "      <td>0.630093</td>\n",
              "    </tr>\n",
              "    <tr>\n",
              "      <th>F1</th>\n",
              "      <td>0.353087</td>\n",
              "      <td>0.352117</td>\n",
              "      <td>0.351946</td>\n",
              "      <td>0.351336</td>\n",
              "      <td>0.337287</td>\n",
              "      <td>0.352140</td>\n",
              "      <td>0.349628</td>\n",
              "      <td>0.346275</td>\n",
              "      <td>0.350384</td>\n",
              "    </tr>\n",
              "    <tr>\n",
              "      <th>Approval Rate</th>\n",
              "      <td>0.022667</td>\n",
              "      <td>0.022580</td>\n",
              "      <td>0.022630</td>\n",
              "      <td>0.021127</td>\n",
              "      <td>0.023467</td>\n",
              "      <td>0.024193</td>\n",
              "      <td>0.025510</td>\n",
              "      <td>0.024070</td>\n",
              "      <td>0.031490</td>\n",
              "    </tr>\n",
              "    <tr>\n",
              "      <th>Kickout</th>\n",
              "      <td>0.000000</td>\n",
              "      <td>0.009957</td>\n",
              "      <td>0.018040</td>\n",
              "      <td>0.034506</td>\n",
              "      <td>0.000000</td>\n",
              "      <td>0.011967</td>\n",
              "      <td>-0.000012</td>\n",
              "      <td>0.367802</td>\n",
              "      <td>0.000000</td>\n",
              "    </tr>\n",
              "    <tr>\n",
              "      <th>KG</th>\n",
              "      <td>0.000000</td>\n",
              "      <td>52.200000</td>\n",
              "      <td>84.400000</td>\n",
              "      <td>153.600000</td>\n",
              "      <td>0.000000</td>\n",
              "      <td>45.600000</td>\n",
              "      <td>1.000000</td>\n",
              "      <td>1910.000000</td>\n",
              "      <td>0.000000</td>\n",
              "    </tr>\n",
              "    <tr>\n",
              "      <th>KB</th>\n",
              "      <td>0.000000</td>\n",
              "      <td>21.000000</td>\n",
              "      <td>35.800000</td>\n",
              "      <td>67.400000</td>\n",
              "      <td>0.000000</td>\n",
              "      <td>21.600000</td>\n",
              "      <td>0.200000</td>\n",
              "      <td>776.400000</td>\n",
              "      <td>0.000000</td>\n",
              "    </tr>\n",
              "  </tbody>\n",
              "</table>\n",
              "</div>"
            ],
            "text/plain": [
              "                         BM       A-SC       A-UW        A-DW      A-FU  \\\n",
              "Overall AUC        0.634733   0.634696   0.634168    0.631908  0.609170   \n",
              "KS                 0.195518   0.193886   0.193828    0.190358  0.156787   \n",
              "Balanced Accuracy  0.596096   0.595290   0.594861    0.594127  0.576955   \n",
              "Accuracy           0.571040   0.576393   0.569183    0.570727  0.540033   \n",
              "Precision          0.244862   0.245223   0.243728    0.243455  0.229667   \n",
              "Recall             0.635510   0.625291   0.635283    0.631184  0.635439   \n",
              "F1                 0.353087   0.352117   0.351946    0.351336  0.337287   \n",
              "Approval Rate      0.022667   0.022580   0.022630    0.021127  0.023467   \n",
              "Kickout            0.000000   0.009957   0.018040    0.034506  0.000000   \n",
              "KG                 0.000000  52.200000  84.400000  153.600000  0.000000   \n",
              "KB                 0.000000  21.000000  35.800000   67.400000  0.000000   \n",
              "\n",
              "                         E-C       PAR          LSP        TN  \n",
              "Overall AUC         0.634705  0.628593     0.624965  0.629784  \n",
              "KS                  0.193934  0.187048     0.178858  0.187786  \n",
              "Balanced Accuracy   0.595287  0.591885     0.588403  0.593062  \n",
              "Accuracy            0.576537  0.559847     0.563860  0.569717  \n",
              "Precision           0.245299  0.240456     0.239216  0.242781  \n",
              "Recall              0.625111  0.642398     0.627376  0.630093  \n",
              "F1                  0.352140  0.349628     0.346275  0.350384  \n",
              "Approval Rate       0.024193  0.025510     0.024070  0.031490  \n",
              "Kickout             0.011967 -0.000012     0.367802  0.000000  \n",
              "KG                 45.600000  1.000000  1910.000000  0.000000  \n",
              "KB                 21.600000  0.200000   776.400000  0.000000  "
            ]
          },
          "execution_count": 20,
          "metadata": {},
          "output_type": "execute_result"
        }
      ],
      "source": [
        "mean_metrics = sum([hist_dict[i] for i in range(N_splits)])/N_splits\n",
        "mean_metrics"
      ]
    },
    {
      "cell_type": "code",
      "execution_count": 61,
      "metadata": {},
      "outputs": [],
      "source": [
        "metric = hist_dict[0].loc[['Overall AUC','KS','Kickout']]"
      ]
    },
    {
      "cell_type": "code",
      "execution_count": 62,
      "metadata": {},
      "outputs": [
        {
          "data": {
            "text/plain": [
              "<Axes: >"
            ]
          },
          "execution_count": 62,
          "metadata": {},
          "output_type": "execute_result"
        },
        {
          "data": {
            "image/png": "[encoded data removed]",
            "text/plain": [
              "<Figure size 640x480 with 1 Axes>"
            ]
          },
          "metadata": {},
          "output_type": "display_data"
        }
      ],
      "source": [
        "metric.plot.bar()"
      ]
    },
    {
      "cell_type": "code",
      "execution_count": 24,
      "metadata": {},
      "outputs": [],
      "source": [
        "metrics = ri.get_metrics_RI(datasets, X_test_acp, y_test_acp, X_val_acp, y_val_acp, X_test_rej, acp_rate=0.01)"
      ]
    },
    {
      "cell_type": "code",
      "execution_count": null,
      "metadata": {},
      "outputs": [],
      "source": []
    },
    {
      "cell_type": "code",
      "execution_count": 25,
      "metadata": {},
      "outputs": [
        {
          "data": {
            "image/png": "[encoded data removed]",
            "text/plain": [
              "<Figure size 1000x300 with 1 Axes>"
            ]
          },
          "metadata": {},
          "output_type": "display_data"
        }
      ],
      "source": [
        "#@title Show evolution of metrics\n",
        "\n",
        "metrics_df = metrics.copy()#_techniques.copy()\n",
        "\n",
        "# Set the desired figure size\n",
        "plt.figure(figsize=(10, 3))\n",
        "\n",
        "cols_to_plot =  ['Overall AUC', 'Balanced Accuracy', 'Accuracy', 'Approval Rate']\n",
        "cols_plotted = []\n",
        "\n",
        "# Iterate over the columns of metrics_df.T and create individual plots\n",
        "for m in cols_to_plot:\n",
        "    if m in metrics_df.T.columns:\n",
        "        plt.plot(metrics_df.T[m], marker='o', markersize=4, linestyle='--')\n",
        "        cols_plotted.append(m)\n",
        "\n",
        "# Add a legend outside the loop\n",
        "plt.legend(cols_plotted, loc='upper right', bbox_to_anchor=(.8, 0.5, 0.5, 0.5))\n",
        "\n",
        "# Set the y-axis tick positions and labels\n",
        "plt.yticks(fontsize=12)\n",
        "\n",
        "# Show the plots\n",
        "plt.show()"
      ]
    },
    {
      "cell_type": "code",
      "execution_count": 26,
      "metadata": {},
      "outputs": [
        {
          "data": {
            "image/png": "[encoded data removed]",
            "text/plain": [
              "<Figure size 1000x300 with 1 Axes>"
            ]
          },
          "metadata": {},
          "output_type": "display_data"
        }
      ],
      "source": [
        "#@title Show evolution of metrics\n",
        "# Set the desired figure size\n",
        "plt.figure(figsize=(10, 3))\n",
        "\n",
        "cols_to_plot = ['KS','Precision', 'Recall','F1', 'Kickout']\n",
        "cols_plotted = []\n",
        "\n",
        "# Iterate over the columns of metrics.T and create individual plots\n",
        "for m in cols_to_plot:\n",
        "    if m in metrics_df.T.columns:\n",
        "        plt.plot(metrics_df.T[m], marker='o', markersize=4, linestyle='--')\n",
        "        cols_plotted.append(m)\n",
        "\n",
        "# Add a legend outside the loop\n",
        "plt.legend(cols_plotted, loc='upper right', bbox_to_anchor=(.8, 0.5, 0.5, 0.5))\n",
        "\n",
        "# Set the y-axis tick positions and labels\n",
        "plt.yticks(fontsize=12)\n",
        "\n",
        "# Show the plots\n",
        "plt.show()"
      ]
    }
  ],
  "metadata": {
    "colab": {
      "collapsed_sections": [
        "h-h3CuT8QlAM",
        "tAVCg2OVBYja",
        "dsDca864gWOL"
      ],
      "provenance": []
    },
    "kernelspec": {
      "display_name": "Python 3",
      "name": "python3"
    },
    "language_info": {
      "codemirror_mode": {
        "name": "ipython",
        "version": 3
      },
      "file_extension": ".py",
      "mimetype": "text/x-python",
      "name": "python",
      "nbconvert_exporter": "python",
      "pygments_lexer": "ipython3",
      "version": "3.10.12"
    }
  },
  "nbformat": 4,
  "nbformat_minor": 0
}
