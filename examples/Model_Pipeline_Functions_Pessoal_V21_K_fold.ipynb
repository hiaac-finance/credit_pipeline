{
  "cells": [
    {
      "cell_type": "code",
      "execution_count": 15,
      "metadata": {},
      "outputs": [
        {
          "name": "stdout",
          "output_type": "stream",
          "text": [
            "The autoreload extension is already loaded. To reload it, use:\n",
            "  %reload_ext autoreload\n"
          ]
        }
      ],
      "source": [
        "%load_ext autoreload\n",
        "%autoreload 2"
      ]
    },
    {
      "cell_type": "markdown",
      "metadata": {
        "id": "blgLrl75vMYF"
      },
      "source": [
        "#<font color='orange'>Basics</font>"
      ]
    },
    {
      "cell_type": "code",
      "execution_count": 16,
      "metadata": {
        "id": "nP3uS5qVwWGL"
      },
      "outputs": [],
      "source": [
        "#@title **Location** of the dataset\n",
        "path =  \"../data/HomeCredit/\"\n",
        "process_path = \"../data/ProcessedData/\"\n",
        "save_path = \"../tests/\"\n",
        "ri_datasets_path = \"../data/riData/\""
      ]
    },
    {
      "cell_type": "code",
      "execution_count": 17,
      "metadata": {
        "id": "GS4_XnYslJ3J"
      },
      "outputs": [],
      "source": [
        "import numpy as np\n",
        "import pandas as pd\n",
        "import matplotlib.pyplot as plt\n",
        "import secrets\n",
        "import joblib\n",
        "import os\n",
        "\n",
        "from sklearn.model_selection import train_test_split\n",
        "from sklearn.ensemble import IsolationForest\n",
        "from scipy.stats import ks_2samp\n",
        "from lightgbm import LGBMClassifier\n",
        "from pathlib import Path\n",
        "from sklearn.metrics import (roc_auc_score)\n",
        "from sklearn.model_selection import KFold\n"
      ]
    },
    {
      "cell_type": "code",
      "execution_count": 18,
      "metadata": {},
      "outputs": [],
      "source": [
        "from sklearn.metrics import (accuracy_score, balanced_accuracy_score,\n",
        "                            f1_score, precision_score, recall_score,\n",
        "                            roc_auc_score, roc_curve)"
      ]
    },
    {
      "cell_type": "code",
      "execution_count": 19,
      "metadata": {
        "id": "UYGeAIaJGlSR"
      },
      "outputs": [],
      "source": [
        "from sklearn.linear_model import LogisticRegression\n",
        "from sklearn.tree import DecisionTreeClassifier\n",
        "from sklearn.ensemble import RandomForestClassifier\n",
        "from sklearn.ensemble import GradientBoostingClassifier\n",
        "from sklearn.tree import DecisionTreeClassifier\n",
        "from sklearn.semi_supervised import LabelSpreading"
      ]
    },
    {
      "cell_type": "code",
      "execution_count": 20,
      "metadata": {
        "id": "-Wcy0zwdVZ9P"
      },
      "outputs": [],
      "source": [
        "import credit_pipeline.data_exploration as dex\n",
        "import credit_pipeline.training as tr\n",
        "import credit_pipeline.reject_inference as ri"
      ]
    },
    {
      "cell_type": "code",
      "execution_count": 3,
      "metadata": {},
      "outputs": [
        {
          "ename": "ModuleNotFoundError",
          "evalue": "No module named 'submodules.TOPCIS_Python'",
          "output_type": "error",
          "traceback": [
            "\u001b[0;31m---------------------------------------------------------------------------\u001b[0m",
            "\u001b[0;31mModuleNotFoundError\u001b[0m                       Traceback (most recent call last)",
            "\u001b[0;32m/tmp/ipykernel_3005/409036454.py\u001b[0m in \u001b[0;36m<cell line: 1>\u001b[0;34m()\u001b[0m\n\u001b[0;32m----> 1\u001b[0;31m \u001b[0;32mimport\u001b[0m \u001b[0msubmodules\u001b[0m\u001b[0;34m.\u001b[0m\u001b[0mTOPCIS_Python\u001b[0m \u001b[0;32mas\u001b[0m \u001b[0mtop\u001b[0m\u001b[0;34m\u001b[0m\u001b[0;34m\u001b[0m\u001b[0m\n\u001b[0m",
            "\u001b[0;31mModuleNotFoundError\u001b[0m: No module named 'submodules.TOPCIS_Python'"
          ]
        }
      ],
      "source": [
        "import submodules.TOPCIS_Python as top"
      ]
    },
    {
      "cell_type": "markdown",
      "metadata": {
        "id": "JUhYgv4MWtdF"
      },
      "source": [
        "#Read Dataset"
      ]
    },
    {
      "cell_type": "code",
      "execution_count": 21,
      "metadata": {
        "id": "hljgpgcfWu8Y"
      },
      "outputs": [],
      "source": [
        "#@title Read dataset\n",
        "df_o = pd.read_csv(path+'application_train.csv')    #HomeCredit training dataset"
      ]
    },
    {
      "cell_type": "code",
      "execution_count": 22,
      "metadata": {
        "id": "E9ZcOM3YWzHq"
      },
      "outputs": [],
      "source": [
        "#@title Create develoment train and test\n",
        "df_train, df_test = tr.create_train_test(df_o, seed=43)"
      ]
    },
    {
      "cell_type": "code",
      "execution_count": 23,
      "metadata": {
        "colab": {
          "base_uri": "https://localhost:8080/"
        },
        "id": "3Dkh72hA_FJh",
        "outputId": "5805b987-3155-4ee2-d9b2-fb45b81f43d9"
      },
      "outputs": [
        {
          "name": "stdout",
          "output_type": "stream",
          "text": [
            "0\n"
          ]
        }
      ],
      "source": [
        "#@title Set seed\n",
        "new_seed = False #@param {type:\"boolean\"}\n",
        "\n",
        "if new_seed:\n",
        "    seed_number = secrets.randbelow(1_000) #to name the results files\n",
        "\n",
        "    while seed_number <100:\n",
        "        seed_number = secrets.randbelow(1_000)\n",
        "else:\n",
        "    seed_number = 000\n",
        "\n",
        "print(seed_number)"
      ]
    },
    {
      "cell_type": "markdown",
      "metadata": {
        "id": "52vhsCDBGI-d"
      },
      "source": [
        "#Params"
      ]
    },
    {
      "cell_type": "code",
      "execution_count": 24,
      "metadata": {
        "id": "3glKB-zHGHIY"
      },
      "outputs": [],
      "source": [
        "params_dict = ri.params_dict"
      ]
    },
    {
      "cell_type": "code",
      "execution_count": 25,
      "metadata": {},
      "outputs": [],
      "source": [
        "params_dict['LightGBM_2'] = {'boosting_type': 'gbdt', 'class_weight': None,\n",
        "              'colsample_bytree': 0.22534977954592625, 'importance_type': 'split',\n",
        "              'learning_rate': 0.052227873762946964, 'max_depth': 5,\n",
        "              'min_child_samples': 26, 'min_child_weight': 0.001,\n",
        "              'min_split_gain': 0.0, 'n_estimators': 159, 'n_jobs': -1,\n",
        "              'num_leaves': 12, 'objective': None, 'random_state': seed_number,\n",
        "              'reg_alpha': 0.7438345471808012, 'reg_lambda': 0.46164693905368515,\n",
        "                'verbose': -1, 'subsample': 0.8896599304061413,\n",
        "              'subsample_for_bin': 200000, 'subsample_freq': 0,\n",
        "              'is_unbalance': True}"
      ]
    },
    {
      "cell_type": "markdown",
      "metadata": {
        "id": "mvpZmqxevPR0"
      },
      "source": [
        "#<font color='orange'>Helper Functions</font>\n"
      ]
    },
    {
      "cell_type": "markdown",
      "metadata": {
        "id": "h-h3CuT8QlAM"
      },
      "source": [
        "#<font color='red'>Definition of Train and Test Val, and Unl</font>"
      ]
    },
    {
      "cell_type": "code",
      "execution_count": null,
      "metadata": {
        "id": "DgHJV0dMsU4w"
      },
      "outputs": [],
      "source": []
    },
    {
      "cell_type": "code",
      "execution_count": 26,
      "metadata": {
        "id": "l9YWcmRJWfT4"
      },
      "outputs": [],
      "source": [
        "N_splits=5  \n",
        "kf = KFold(n_splits=N_splits)   #80-20 split for train-test\n",
        "hist_dict = {}\n",
        "\n",
        "for fold_number, (train_index, test_index) in enumerate(kf.split(df_o)):\n",
        "    #diferent seed for each iteration\n",
        "    seed_number = seed_number+fold_number\n",
        "\n",
        "    df_train = df_o.iloc[train_index]\n",
        "    df_test = df_o.iloc[test_index]\n",
        "    \n",
        "    val_split = int(df_train.shape[0] * 0.2)  #80-20 split for train-validation\n",
        "    df_val = df_train.iloc[:val_split]\n",
        "    df_train = df_train.iloc[val_split:]\n",
        "\n",
        "    df_train, policy_model = ri.fit_policy(df_train)\n",
        "\n",
        "    X_train, X_test, X_val = df_train, df_test, df_val\n",
        "    y_train, y_test, y_val = df_train[\"TARGET\"], df_test[\"TARGET\"], df_val[\"TARGET\"]\n",
        "\n",
        "    X_train_acp, X_train_rej, y_train_acp, y_train_rej = ri.accept_reject_split(X_train, y_train, policy_clf=policy_model)\n",
        "    X_test_acp, X_test_rej, y_test_acp, y_test_rej = ri.accept_reject_split(X_test, y_test, policy_clf=policy_model)\n",
        "    X_val_acp, X_val_rej, y_val_acp, y_val_rej = ri.accept_reject_split(X_val, y_val, policy_clf=policy_model)\n",
        "    \n",
        "    models_dict = {}\n",
        "\n",
        "    benchmark = tr.create_pipeline(X_train_acp, y_train_acp,\n",
        "                                  LGBMClassifier(**params_dict['LightGBM_2']))\n",
        "    benchmark.fit(X_train_acp, y_train_acp)\n",
        "\n",
        "    \n",
        "    models_dict['BM'] = benchmark\n",
        "\n",
        "    models_dict.update(\n",
        "        ri.augmentation_with_soft_cutoff(X_train_acp, y_train_acp, X_train_rej, seed = seed_number))\n",
        "    models_dict.update(\n",
        "        ri.augmentation(X_train_acp, y_train_acp, X_train_rej, mode='up', seed = seed_number))\n",
        "    models_dict.update(\n",
        "        ri.augmentation(X_train_acp, y_train_acp, X_train_rej, mode='down', seed = seed_number))\n",
        "    models_dict.update(\n",
        "        ri.fuzzy_augmentation(X_train_acp, y_train_acp, X_train_rej, seed = seed_number))\n",
        "    models_dict.update(\n",
        "        ri.extrapolation(X_train_acp, y_train_acp, X_train_rej, seed = seed_number))\n",
        "    models_dict.update(\n",
        "        ri.parcelling(X_train_acp, y_train_acp, X_train_rej, seed = seed_number))\n",
        "    models_dict.update(\n",
        "        ri.label_spreading(X_train_acp, y_train_acp, X_train_rej, seed = seed_number))\n",
        "    models_dict.update(\n",
        "        ri.trusted_non_outliers(X_train_acp, y_train_acp, X_train_rej, iterations=60,seed=seed_number))\n",
        "\n",
        "    hist_dict[fold_number] = ri.get_metrics_RI(models_dict, X_test_acp, y_test_acp, X_val_acp, y_val_acp, X_test_rej)"
      ]
    },
    {
      "cell_type": "code",
      "execution_count": 27,
      "metadata": {},
      "outputs": [
        {
          "data": {
            "text/html": [
              "<div>\n",
              "<style scoped>\n",
              "    .dataframe tbody tr th:only-of-type {\n",
              "        vertical-align: middle;\n",
              "    }\n",
              "\n",
              "    .dataframe tbody tr th {\n",
              "        vertical-align: top;\n",
              "    }\n",
              "\n",
              "    .dataframe thead th {\n",
              "        text-align: right;\n",
              "    }\n",
              "</style>\n",
              "<table border=\"1\" class=\"dataframe\">\n",
              "  <thead>\n",
              "    <tr style=\"text-align: right;\">\n",
              "      <th></th>\n",
              "      <th>BM</th>\n",
              "      <th>A-SC</th>\n",
              "      <th>A-UW</th>\n",
              "      <th>A-DW</th>\n",
              "      <th>A-FU</th>\n",
              "      <th>E-C</th>\n",
              "      <th>PAR</th>\n",
              "      <th>LSP</th>\n",
              "      <th>TN</th>\n",
              "    </tr>\n",
              "  </thead>\n",
              "  <tbody>\n",
              "    <tr>\n",
              "      <th>Overall AUC</th>\n",
              "      <td>0.732541</td>\n",
              "      <td>0.728790</td>\n",
              "      <td>0.734104</td>\n",
              "      <td>0.729383</td>\n",
              "      <td>0.698547</td>\n",
              "      <td>0.724357</td>\n",
              "      <td>0.725075</td>\n",
              "      <td>0.722428</td>\n",
              "      <td>0.720023</td>\n",
              "    </tr>\n",
              "    <tr>\n",
              "      <th>KS</th>\n",
              "      <td>0.352139</td>\n",
              "      <td>0.350976</td>\n",
              "      <td>0.359803</td>\n",
              "      <td>0.364534</td>\n",
              "      <td>0.301633</td>\n",
              "      <td>0.343917</td>\n",
              "      <td>0.343133</td>\n",
              "      <td>0.341330</td>\n",
              "      <td>0.331394</td>\n",
              "    </tr>\n",
              "    <tr>\n",
              "      <th>Balanced Accuracy</th>\n",
              "      <td>0.670420</td>\n",
              "      <td>0.665003</td>\n",
              "      <td>0.672897</td>\n",
              "      <td>0.678244</td>\n",
              "      <td>0.641457</td>\n",
              "      <td>0.666242</td>\n",
              "      <td>0.668800</td>\n",
              "      <td>0.668536</td>\n",
              "      <td>0.663920</td>\n",
              "    </tr>\n",
              "    <tr>\n",
              "      <th>Accuracy</th>\n",
              "      <td>0.748172</td>\n",
              "      <td>0.567130</td>\n",
              "      <td>0.613329</td>\n",
              "      <td>0.659657</td>\n",
              "      <td>0.568360</td>\n",
              "      <td>0.677904</td>\n",
              "      <td>0.632934</td>\n",
              "      <td>0.674798</td>\n",
              "      <td>0.661016</td>\n",
              "    </tr>\n",
              "    <tr>\n",
              "      <th>Precision</th>\n",
              "      <td>0.105853</td>\n",
              "      <td>0.079300</td>\n",
              "      <td>0.084928</td>\n",
              "      <td>0.091548</td>\n",
              "      <td>0.075064</td>\n",
              "      <td>0.091329</td>\n",
              "      <td>0.086178</td>\n",
              "      <td>0.091427</td>\n",
              "      <td>0.088471</td>\n",
              "    </tr>\n",
              "    <tr>\n",
              "      <th>Recall</th>\n",
              "      <td>0.584594</td>\n",
              "      <td>0.773040</td>\n",
              "      <td>0.738652</td>\n",
              "      <td>0.698762</td>\n",
              "      <td>0.722146</td>\n",
              "      <td>0.653370</td>\n",
              "      <td>0.708391</td>\n",
              "      <td>0.661623</td>\n",
              "      <td>0.667125</td>\n",
              "    </tr>\n",
              "    <tr>\n",
              "      <th>F1</th>\n",
              "      <td>0.179249</td>\n",
              "      <td>0.143844</td>\n",
              "      <td>0.152340</td>\n",
              "      <td>0.161887</td>\n",
              "      <td>0.135993</td>\n",
              "      <td>0.160256</td>\n",
              "      <td>0.153663</td>\n",
              "      <td>0.160655</td>\n",
              "      <td>0.156225</td>\n",
              "    </tr>\n",
              "    <tr>\n",
              "      <th>Approval Rate</th>\n",
              "      <td>0.949919</td>\n",
              "      <td>0.941896</td>\n",
              "      <td>0.945713</td>\n",
              "      <td>0.952507</td>\n",
              "      <td>0.948625</td>\n",
              "      <td>0.956842</td>\n",
              "      <td>0.949337</td>\n",
              "      <td>0.940278</td>\n",
              "      <td>0.939178</td>\n",
              "    </tr>\n",
              "    <tr>\n",
              "      <th>Kickout</th>\n",
              "      <td>0.000000</td>\n",
              "      <td>0.113171</td>\n",
              "      <td>0.011629</td>\n",
              "      <td>0.013047</td>\n",
              "      <td>-0.001418</td>\n",
              "      <td>-0.004963</td>\n",
              "      <td>0.014465</td>\n",
              "      <td>0.015460</td>\n",
              "      <td>0.045808</td>\n",
              "    </tr>\n",
              "    <tr>\n",
              "      <th>KG</th>\n",
              "      <td>0.000000</td>\n",
              "      <td>60.000000</td>\n",
              "      <td>8.000000</td>\n",
              "      <td>6.000000</td>\n",
              "      <td>2.000000</td>\n",
              "      <td>7.000000</td>\n",
              "      <td>4.000000</td>\n",
              "      <td>27.000000</td>\n",
              "      <td>33.000000</td>\n",
              "    </tr>\n",
              "    <tr>\n",
              "      <th>KB</th>\n",
              "      <td>0.000000</td>\n",
              "      <td>9.000000</td>\n",
              "      <td>1.000000</td>\n",
              "      <td>1.000000</td>\n",
              "      <td>0.000000</td>\n",
              "      <td>0.000000</td>\n",
              "      <td>1.000000</td>\n",
              "      <td>2.000000</td>\n",
              "      <td>4.000000</td>\n",
              "    </tr>\n",
              "  </tbody>\n",
              "</table>\n",
              "</div>"
            ],
            "text/plain": [
              "                         BM       A-SC      A-UW      A-DW      A-FU  \\\n",
              "Overall AUC        0.732541   0.728790  0.734104  0.729383  0.698547   \n",
              "KS                 0.352139   0.350976  0.359803  0.364534  0.301633   \n",
              "Balanced Accuracy  0.670420   0.665003  0.672897  0.678244  0.641457   \n",
              "Accuracy           0.748172   0.567130  0.613329  0.659657  0.568360   \n",
              "Precision          0.105853   0.079300  0.084928  0.091548  0.075064   \n",
              "Recall             0.584594   0.773040  0.738652  0.698762  0.722146   \n",
              "F1                 0.179249   0.143844  0.152340  0.161887  0.135993   \n",
              "Approval Rate      0.949919   0.941896  0.945713  0.952507  0.948625   \n",
              "Kickout            0.000000   0.113171  0.011629  0.013047 -0.001418   \n",
              "KG                 0.000000  60.000000  8.000000  6.000000  2.000000   \n",
              "KB                 0.000000   9.000000  1.000000  1.000000  0.000000   \n",
              "\n",
              "                        E-C       PAR        LSP         TN  \n",
              "Overall AUC        0.724357  0.725075   0.722428   0.720023  \n",
              "KS                 0.343917  0.343133   0.341330   0.331394  \n",
              "Balanced Accuracy  0.666242  0.668800   0.668536   0.663920  \n",
              "Accuracy           0.677904  0.632934   0.674798   0.661016  \n",
              "Precision          0.091329  0.086178   0.091427   0.088471  \n",
              "Recall             0.653370  0.708391   0.661623   0.667125  \n",
              "F1                 0.160256  0.153663   0.160655   0.156225  \n",
              "Approval Rate      0.956842  0.949337   0.940278   0.939178  \n",
              "Kickout           -0.004963  0.014465   0.015460   0.045808  \n",
              "KG                 7.000000  4.000000  27.000000  33.000000  \n",
              "KB                 0.000000  1.000000   2.000000   4.000000  "
            ]
          },
          "execution_count": 27,
          "metadata": {},
          "output_type": "execute_result"
        }
      ],
      "source": [
        "hist_dict[fold_number]"
      ]
    },
    {
      "cell_type": "code",
      "execution_count": 28,
      "metadata": {},
      "outputs": [
        {
          "data": {
            "text/html": [
              "<div>\n",
              "<style scoped>\n",
              "    .dataframe tbody tr th:only-of-type {\n",
              "        vertical-align: middle;\n",
              "    }\n",
              "\n",
              "    .dataframe tbody tr th {\n",
              "        vertical-align: top;\n",
              "    }\n",
              "\n",
              "    .dataframe thead th {\n",
              "        text-align: right;\n",
              "    }\n",
              "</style>\n",
              "<table border=\"1\" class=\"dataframe\">\n",
              "  <thead>\n",
              "    <tr style=\"text-align: right;\">\n",
              "      <th></th>\n",
              "      <th>BM</th>\n",
              "      <th>A-SC</th>\n",
              "      <th>A-UW</th>\n",
              "      <th>A-DW</th>\n",
              "      <th>A-FU</th>\n",
              "      <th>E-C</th>\n",
              "      <th>PAR</th>\n",
              "      <th>LSP</th>\n",
              "      <th>TN</th>\n",
              "    </tr>\n",
              "  </thead>\n",
              "  <tbody>\n",
              "    <tr>\n",
              "      <th>Overall AUC</th>\n",
              "      <td>0.722625</td>\n",
              "      <td>0.715979</td>\n",
              "      <td>0.721911</td>\n",
              "      <td>0.720934</td>\n",
              "      <td>0.692366</td>\n",
              "      <td>0.720626</td>\n",
              "      <td>0.717786</td>\n",
              "      <td>0.714370</td>\n",
              "      <td>0.706660</td>\n",
              "    </tr>\n",
              "    <tr>\n",
              "      <th>KS</th>\n",
              "      <td>0.331510</td>\n",
              "      <td>0.325428</td>\n",
              "      <td>0.335022</td>\n",
              "      <td>0.338783</td>\n",
              "      <td>0.288826</td>\n",
              "      <td>0.333008</td>\n",
              "      <td>0.326215</td>\n",
              "      <td>0.326235</td>\n",
              "      <td>0.311676</td>\n",
              "    </tr>\n",
              "    <tr>\n",
              "      <th>Balanced Accuracy</th>\n",
              "      <td>0.660418</td>\n",
              "      <td>0.654022</td>\n",
              "      <td>0.662158</td>\n",
              "      <td>0.664135</td>\n",
              "      <td>0.636667</td>\n",
              "      <td>0.659056</td>\n",
              "      <td>0.655866</td>\n",
              "      <td>0.659562</td>\n",
              "      <td>0.651115</td>\n",
              "    </tr>\n",
              "    <tr>\n",
              "      <th>Accuracy</th>\n",
              "      <td>0.661783</td>\n",
              "      <td>0.629304</td>\n",
              "      <td>0.652778</td>\n",
              "      <td>0.650703</td>\n",
              "      <td>0.644133</td>\n",
              "      <td>0.657620</td>\n",
              "      <td>0.702689</td>\n",
              "      <td>0.684272</td>\n",
              "      <td>0.700040</td>\n",
              "    </tr>\n",
              "    <tr>\n",
              "      <th>Precision</th>\n",
              "      <td>0.092710</td>\n",
              "      <td>0.085736</td>\n",
              "      <td>0.089995</td>\n",
              "      <td>0.090997</td>\n",
              "      <td>0.084592</td>\n",
              "      <td>0.090773</td>\n",
              "      <td>0.097775</td>\n",
              "      <td>0.093370</td>\n",
              "      <td>0.094196</td>\n",
              "    </tr>\n",
              "    <tr>\n",
              "      <th>Recall</th>\n",
              "      <td>0.658916</td>\n",
              "      <td>0.681287</td>\n",
              "      <td>0.672474</td>\n",
              "      <td>0.678944</td>\n",
              "      <td>0.628250</td>\n",
              "      <td>0.660619</td>\n",
              "      <td>0.603871</td>\n",
              "      <td>0.632237</td>\n",
              "      <td>0.596887</td>\n",
              "    </tr>\n",
              "    <tr>\n",
              "      <th>F1</th>\n",
              "      <td>0.161633</td>\n",
              "      <td>0.151914</td>\n",
              "      <td>0.158488</td>\n",
              "      <td>0.160061</td>\n",
              "      <td>0.148230</td>\n",
              "      <td>0.159048</td>\n",
              "      <td>0.167010</td>\n",
              "      <td>0.162568</td>\n",
              "      <td>0.162333</td>\n",
              "    </tr>\n",
              "    <tr>\n",
              "      <th>Approval Rate</th>\n",
              "      <td>0.939770</td>\n",
              "      <td>0.924286</td>\n",
              "      <td>0.931792</td>\n",
              "      <td>0.934725</td>\n",
              "      <td>0.917715</td>\n",
              "      <td>0.940122</td>\n",
              "      <td>0.937247</td>\n",
              "      <td>0.933809</td>\n",
              "      <td>0.928061</td>\n",
              "    </tr>\n",
              "    <tr>\n",
              "      <th>Kickout</th>\n",
              "      <td>0.000000</td>\n",
              "      <td>0.098785</td>\n",
              "      <td>0.020016</td>\n",
              "      <td>0.006499</td>\n",
              "      <td>-0.000500</td>\n",
              "      <td>0.009214</td>\n",
              "      <td>0.003651</td>\n",
              "      <td>0.049344</td>\n",
              "      <td>0.122397</td>\n",
              "    </tr>\n",
              "    <tr>\n",
              "      <th>KG</th>\n",
              "      <td>0.000000</td>\n",
              "      <td>40.400000</td>\n",
              "      <td>6.800000</td>\n",
              "      <td>4.400000</td>\n",
              "      <td>5.200000</td>\n",
              "      <td>4.800000</td>\n",
              "      <td>4.200000</td>\n",
              "      <td>24.600000</td>\n",
              "      <td>95.000000</td>\n",
              "    </tr>\n",
              "    <tr>\n",
              "      <th>KB</th>\n",
              "      <td>0.000000</td>\n",
              "      <td>7.800000</td>\n",
              "      <td>1.600000</td>\n",
              "      <td>0.600000</td>\n",
              "      <td>0.200000</td>\n",
              "      <td>0.800000</td>\n",
              "      <td>0.400000</td>\n",
              "      <td>4.200000</td>\n",
              "      <td>11.800000</td>\n",
              "    </tr>\n",
              "  </tbody>\n",
              "</table>\n",
              "</div>"
            ],
            "text/plain": [
              "                         BM       A-SC      A-UW      A-DW      A-FU  \\\n",
              "Overall AUC        0.722625   0.715979  0.721911  0.720934  0.692366   \n",
              "KS                 0.331510   0.325428  0.335022  0.338783  0.288826   \n",
              "Balanced Accuracy  0.660418   0.654022  0.662158  0.664135  0.636667   \n",
              "Accuracy           0.661783   0.629304  0.652778  0.650703  0.644133   \n",
              "Precision          0.092710   0.085736  0.089995  0.090997  0.084592   \n",
              "Recall             0.658916   0.681287  0.672474  0.678944  0.628250   \n",
              "F1                 0.161633   0.151914  0.158488  0.160061  0.148230   \n",
              "Approval Rate      0.939770   0.924286  0.931792  0.934725  0.917715   \n",
              "Kickout            0.000000   0.098785  0.020016  0.006499 -0.000500   \n",
              "KG                 0.000000  40.400000  6.800000  4.400000  5.200000   \n",
              "KB                 0.000000   7.800000  1.600000  0.600000  0.200000   \n",
              "\n",
              "                        E-C       PAR        LSP         TN  \n",
              "Overall AUC        0.720626  0.717786   0.714370   0.706660  \n",
              "KS                 0.333008  0.326215   0.326235   0.311676  \n",
              "Balanced Accuracy  0.659056  0.655866   0.659562   0.651115  \n",
              "Accuracy           0.657620  0.702689   0.684272   0.700040  \n",
              "Precision          0.090773  0.097775   0.093370   0.094196  \n",
              "Recall             0.660619  0.603871   0.632237   0.596887  \n",
              "F1                 0.159048  0.167010   0.162568   0.162333  \n",
              "Approval Rate      0.940122  0.937247   0.933809   0.928061  \n",
              "Kickout            0.009214  0.003651   0.049344   0.122397  \n",
              "KG                 4.800000  4.200000  24.600000  95.000000  \n",
              "KB                 0.800000  0.400000   4.200000  11.800000  "
            ]
          },
          "execution_count": 28,
          "metadata": {},
          "output_type": "execute_result"
        }
      ],
      "source": [
        "sum([hist_dict[i] for i in range(N_splits)])/N_splits"
      ]
    },
    {
      "cell_type": "code",
      "execution_count": 21,
      "metadata": {},
      "outputs": [],
      "source": [
        "# add topsis/ahp multicriterio"
      ]
    }
  ],
  "metadata": {
    "colab": {
      "collapsed_sections": [
        "h-h3CuT8QlAM",
        "tAVCg2OVBYja",
        "dsDca864gWOL"
      ],
      "provenance": []
    },
    "kernelspec": {
      "display_name": "Python 3",
      "name": "python3"
    },
    "language_info": {
      "codemirror_mode": {
        "name": "ipython",
        "version": 3
      },
      "file_extension": ".py",
      "mimetype": "text/x-python",
      "name": "python",
      "nbconvert_exporter": "python",
      "pygments_lexer": "ipython3",
      "version": "3.10.12"
    }
  },
  "nbformat": 4,
  "nbformat_minor": 0
}
