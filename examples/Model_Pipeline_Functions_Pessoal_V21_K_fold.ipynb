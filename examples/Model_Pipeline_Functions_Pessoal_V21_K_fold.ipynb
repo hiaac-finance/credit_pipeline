{
  "cells": [
    {
      "cell_type": "code",
      "execution_count": 1,
      "metadata": {},
      "outputs": [],
      "source": [
        "%load_ext autoreload\n",
        "%autoreload 2"
      ]
    },
    {
      "cell_type": "markdown",
      "metadata": {
        "id": "blgLrl75vMYF"
      },
      "source": [
        "#<font color='orange'>Basics</font>"
      ]
    },
    {
      "cell_type": "code",
      "execution_count": 2,
      "metadata": {
        "id": "nP3uS5qVwWGL"
      },
      "outputs": [],
      "source": [
        "#@title **Location** of the dataset\n",
        "path =  \"../data/HomeCredit/\"\n",
        "process_path = \"../data/ProcessedData/\"\n",
        "save_path = \"../tests/\"\n",
        "ri_datasets_path = \"../data/riData/\""
      ]
    },
    {
      "cell_type": "code",
      "execution_count": 3,
      "metadata": {
        "id": "GS4_XnYslJ3J"
      },
      "outputs": [],
      "source": [
        "import numpy as np\n",
        "import pandas as pd\n",
        "import matplotlib.pyplot as plt\n",
        "import secrets\n",
        "import joblib\n",
        "import os\n",
        "\n",
        "from sklearn.model_selection import train_test_split\n",
        "from sklearn.ensemble import IsolationForest\n",
        "from scipy.stats import ks_2samp\n",
        "from lightgbm import LGBMClassifier\n",
        "from pathlib import Path\n",
        "from sklearn.metrics import (roc_auc_score)\n",
        "from sklearn.model_selection import KFold\n"
      ]
    },
    {
      "cell_type": "code",
      "execution_count": 4,
      "metadata": {},
      "outputs": [],
      "source": [
        "from sklearn.metrics import (accuracy_score, balanced_accuracy_score,\n",
        "                            f1_score, precision_score, recall_score,\n",
        "                            roc_auc_score, roc_curve)"
      ]
    },
    {
      "cell_type": "code",
      "execution_count": 5,
      "metadata": {
        "id": "UYGeAIaJGlSR"
      },
      "outputs": [],
      "source": [
        "from sklearn.linear_model import LogisticRegression\n",
        "from sklearn.tree import DecisionTreeClassifier\n",
        "from sklearn.ensemble import RandomForestClassifier\n",
        "from sklearn.ensemble import GradientBoostingClassifier\n",
        "from sklearn.tree import DecisionTreeClassifier\n",
        "from sklearn.semi_supervised import LabelSpreading"
      ]
    },
    {
      "cell_type": "code",
      "execution_count": 6,
      "metadata": {
        "id": "-Wcy0zwdVZ9P"
      },
      "outputs": [],
      "source": [
        "import credit_pipeline.data_exploration as dex\n",
        "import credit_pipeline.training as tr\n",
        "import credit_pipeline.reject_inference as ri"
      ]
    },
    {
      "cell_type": "markdown",
      "metadata": {
        "id": "JUhYgv4MWtdF"
      },
      "source": [
        "#Read Dataset"
      ]
    },
    {
      "cell_type": "code",
      "execution_count": 7,
      "metadata": {
        "id": "hljgpgcfWu8Y"
      },
      "outputs": [],
      "source": [
        "#@title Read dataset\n",
        "df_o = pd.read_csv(path+'application_train.csv')    #HomeCredit training dataset"
      ]
    },
    {
      "cell_type": "code",
      "execution_count": 8,
      "metadata": {
        "id": "E9ZcOM3YWzHq"
      },
      "outputs": [],
      "source": [
        "#@title Create develoment train and test\n",
        "df_train, df_test = tr.create_train_test(df_o, seed=43)"
      ]
    },
    {
      "cell_type": "code",
      "execution_count": 9,
      "metadata": {
        "colab": {
          "base_uri": "https://localhost:8080/"
        },
        "id": "3Dkh72hA_FJh",
        "outputId": "5805b987-3155-4ee2-d9b2-fb45b81f43d9"
      },
      "outputs": [
        {
          "name": "stdout",
          "output_type": "stream",
          "text": [
            "880\n"
          ]
        }
      ],
      "source": [
        "#@title Set seed\n",
        "new_seed = False #@param {type:\"boolean\"}\n",
        "\n",
        "if new_seed:\n",
        "    seed_number = secrets.randbelow(1_000) #to name the results files\n",
        "\n",
        "    while seed_number <100:\n",
        "        seed_number = secrets.randbelow(1_000)\n",
        "else:\n",
        "    seed_number = 880\n",
        "    \n",
        "print(seed_number)"
      ]
    },
    {
      "cell_type": "markdown",
      "metadata": {
        "id": "52vhsCDBGI-d"
      },
      "source": [
        "#Params"
      ]
    },
    {
      "cell_type": "code",
      "execution_count": 10,
      "metadata": {
        "id": "3glKB-zHGHIY"
      },
      "outputs": [],
      "source": [
        "params_dict = ri.params_dict"
      ]
    },
    {
      "cell_type": "code",
      "execution_count": 11,
      "metadata": {},
      "outputs": [],
      "source": [
        "params_dict['LightGBM_2'] = {'boosting_type': 'gbdt', 'class_weight': None,\n",
        "              'colsample_bytree': 0.22534977954592625, 'importance_type': 'split',\n",
        "              'learning_rate': 0.052227873762946964, 'max_depth': 5,\n",
        "              'min_child_samples': 26, 'min_child_weight': 0.001,\n",
        "              'min_split_gain': 0.0, 'n_estimators': 159, 'n_jobs': -1,\n",
        "              'num_leaves': 12, 'objective': None, 'random_state': seed_number,\n",
        "              'reg_alpha': 0.7438345471808012, 'reg_lambda': 0.46164693905368515,\n",
        "                'verbose': -1, 'subsample': 0.8896599304061413,\n",
        "              'subsample_for_bin': 200000, 'subsample_freq': 0,\n",
        "              'is_unbalance': True}"
      ]
    },
    {
      "cell_type": "markdown",
      "metadata": {
        "id": "mvpZmqxevPR0"
      },
      "source": [
        "#<font color='orange'>Helper Functions</font>\n"
      ]
    },
    {
      "cell_type": "markdown",
      "metadata": {
        "id": "h-h3CuT8QlAM"
      },
      "source": [
        "#<font color='red'>Definition of Train and Test Val, and Unl</font>"
      ]
    },
    {
      "cell_type": "code",
      "execution_count": null,
      "metadata": {
        "id": "DgHJV0dMsU4w"
      },
      "outputs": [],
      "source": []
    },
    {
      "cell_type": "code",
      "execution_count": 12,
      "metadata": {
        "id": "l9YWcmRJWfT4"
      },
      "outputs": [
        {
          "name": "stdout",
          "output_type": "stream",
          "text": [
            "0.24\n",
            "0.24\n",
            "0.21\n"
          ]
        }
      ],
      "source": [
        "kf = KFold(n_splits=5)   #80-20 split for train-test\n",
        "hist_dict = {}\n",
        "\n",
        "for fold_number, (train_index, test_index) in enumerate(kf.split(df_o)):\n",
        "    #diferent seed for each iteration\n",
        "    seed_number = seed_number+fold_number\n",
        "\n",
        "    df_train = df_o.iloc[train_index]\n",
        "    df_test = df_o.iloc[test_index]\n",
        "    \n",
        "    val_split = int(df_train.shape[0] * 0.2)  #80-20 split for train-validation\n",
        "    df_val = df_train.iloc[:val_split]\n",
        "    df_train = df_train.iloc[val_split:]\n",
        "\n",
        "    df_train, policy_model = ri.fit_policy(df_train)\n",
        "\n",
        "    X_train, X_test, X_val = df_train, df_test, df_val\n",
        "    y_train, y_test, y_val = df_train[\"TARGET\"], df_test[\"TARGET\"], df_val[\"TARGET\"]\n",
        "\n",
        "    X_train_acp, X_train_rej, y_train_acp, y_train_rej = ri.accept_reject_split(X_train, y_train, policy_clf=policy_model)\n",
        "    X_test_acp, X_test_rej, y_test_acp, y_test_rej = ri.accept_reject_split(X_test, y_test, policy_clf=policy_model)\n",
        "    X_val_acp, X_val_rej, y_val_acp, y_val_rej = ri.accept_reject_split(X_val, y_val, policy_clf=policy_model)\n",
        "    \n",
        "    models_dict = {}\n",
        "\n",
        "    benchmark = tr.create_pipeline(X_train_acp, y_train_acp,\n",
        "                                  LGBMClassifier(**params_dict['LightGBM_2']))\n",
        "    benchmark.fit(X_train_acp, y_train_acp)\n",
        "\n",
        "    \n",
        "    models_dict['BM'] = benchmark\n",
        "\n",
        "    models_dict.update(\n",
        "        ri.augmentation_with_soft_cutoff(X_train_acp, y_train_acp, X_train_rej, seed = seed_number))\n",
        "    models_dict.update(\n",
        "        ri.augmentation(X_train_acp, y_train_acp, X_train_rej, mode='up', seed = seed_number))\n",
        "    models_dict.update(\n",
        "        ri.augmentation(X_train_acp, y_train_acp, X_train_rej, mode='down', seed = seed_number))\n",
        "    models_dict.update(\n",
        "        ri.fuzzy_augmentation(X_train_acp, y_train_acp, X_train_rej, seed = seed_number))\n",
        "    models_dict.update(\n",
        "        ri.extrapolation(X_train_acp, y_train_acp, X_train_rej, seed = seed_number))\n",
        "    models_dict.update(\n",
        "        ri.parcelling(X_train_acp, y_train_acp, X_train_rej, seed = seed_number))\n",
        "    models_dict.update(\n",
        "        ri.label_spreading(X_train_acp, y_train_acp, X_train_rej, seed = seed_number))\n",
        "    models_dict.update(\n",
        "        ri.trusted_non_outliers(X_train_acp, y_train_acp, X_train_rej, iterations=50,seed=seed_number))\n",
        "\n",
        "    hist_dict[fold_number] = ri.get_metrics_RI(models_dict, X_test, y_test, X_unl=X_test_rej)\n"
      ]
    },
    {
      "cell_type": "code",
      "execution_count": 26,
      "metadata": {},
      "outputs": [
        {
          "data": {
            "text/html": [
              "<div>\n",
              "<style scoped>\n",
              "    .dataframe tbody tr th:only-of-type {\n",
              "        vertical-align: middle;\n",
              "    }\n",
              "\n",
              "    .dataframe tbody tr th {\n",
              "        vertical-align: top;\n",
              "    }\n",
              "\n",
              "    .dataframe thead th {\n",
              "        text-align: right;\n",
              "    }\n",
              "</style>\n",
              "<table border=\"1\" class=\"dataframe\">\n",
              "  <thead>\n",
              "    <tr style=\"text-align: right;\">\n",
              "      <th></th>\n",
              "      <th>BM</th>\n",
              "      <th>A-SC</th>\n",
              "      <th>A-UW</th>\n",
              "      <th>A-DW</th>\n",
              "      <th>A-FU</th>\n",
              "      <th>E-C</th>\n",
              "      <th>PAR</th>\n",
              "      <th>LSP</th>\n",
              "      <th>TN</th>\n",
              "    </tr>\n",
              "  </thead>\n",
              "  <tbody>\n",
              "    <tr>\n",
              "      <th>Overall AUC</th>\n",
              "      <td>0.732752</td>\n",
              "      <td>0.704700</td>\n",
              "      <td>0.727045</td>\n",
              "      <td>0.731401</td>\n",
              "      <td>0.724669</td>\n",
              "      <td>0.734726</td>\n",
              "      <td>0.735165</td>\n",
              "      <td>0.720406</td>\n",
              "      <td>0.693677</td>\n",
              "    </tr>\n",
              "    <tr>\n",
              "      <th>KS</th>\n",
              "      <td>0.343447</td>\n",
              "      <td>0.300631</td>\n",
              "      <td>0.334215</td>\n",
              "      <td>0.341494</td>\n",
              "      <td>0.330416</td>\n",
              "      <td>0.352830</td>\n",
              "      <td>0.350578</td>\n",
              "      <td>0.327287</td>\n",
              "      <td>0.285583</td>\n",
              "    </tr>\n",
              "    <tr>\n",
              "      <th>------</th>\n",
              "      <td>0.000000</td>\n",
              "      <td>0.000000</td>\n",
              "      <td>0.000000</td>\n",
              "      <td>0.000000</td>\n",
              "      <td>0.000000</td>\n",
              "      <td>0.000000</td>\n",
              "      <td>0.000000</td>\n",
              "      <td>0.000000</td>\n",
              "      <td>0.000000</td>\n",
              "    </tr>\n",
              "    <tr>\n",
              "      <th>Balanced Accuracy</th>\n",
              "      <td>0.671724</td>\n",
              "      <td>0.650316</td>\n",
              "      <td>0.667107</td>\n",
              "      <td>0.670747</td>\n",
              "      <td>0.665208</td>\n",
              "      <td>0.676415</td>\n",
              "      <td>0.675289</td>\n",
              "      <td>0.663643</td>\n",
              "      <td>0.642792</td>\n",
              "    </tr>\n",
              "    <tr>\n",
              "      <th>Accuracy</th>\n",
              "      <td>0.664781</td>\n",
              "      <td>0.657090</td>\n",
              "      <td>0.674861</td>\n",
              "      <td>0.654293</td>\n",
              "      <td>0.689771</td>\n",
              "      <td>0.671707</td>\n",
              "      <td>0.696389</td>\n",
              "      <td>0.695072</td>\n",
              "      <td>0.688064</td>\n",
              "    </tr>\n",
              "    <tr>\n",
              "      <th>Precision</th>\n",
              "      <td>0.149658</td>\n",
              "      <td>0.140717</td>\n",
              "      <td>0.150420</td>\n",
              "      <td>0.147031</td>\n",
              "      <td>0.153477</td>\n",
              "      <td>0.152877</td>\n",
              "      <td>0.158984</td>\n",
              "      <td>0.154315</td>\n",
              "      <td>0.144659</td>\n",
              "    </tr>\n",
              "    <tr>\n",
              "      <th>Recall</th>\n",
              "      <td>0.679992</td>\n",
              "      <td>0.642248</td>\n",
              "      <td>0.657873</td>\n",
              "      <td>0.690341</td>\n",
              "      <td>0.635958</td>\n",
              "      <td>0.682021</td>\n",
              "      <td>0.650162</td>\n",
              "      <td>0.626218</td>\n",
              "      <td>0.588880</td>\n",
              "    </tr>\n",
              "    <tr>\n",
              "      <th>F1</th>\n",
              "      <td>0.245324</td>\n",
              "      <td>0.230853</td>\n",
              "      <td>0.244855</td>\n",
              "      <td>0.242429</td>\n",
              "      <td>0.247278</td>\n",
              "      <td>0.249768</td>\n",
              "      <td>0.255492</td>\n",
              "      <td>0.247613</td>\n",
              "      <td>0.232262</td>\n",
              "    </tr>\n",
              "  </tbody>\n",
              "</table>\n",
              "</div>"
            ],
            "text/plain": [
              "                         BM      A-SC      A-UW      A-DW      A-FU       E-C  \\\n",
              "Overall AUC        0.732752  0.704700  0.727045  0.731401  0.724669  0.734726   \n",
              "KS                 0.343447  0.300631  0.334215  0.341494  0.330416  0.352830   \n",
              "------             0.000000  0.000000  0.000000  0.000000  0.000000  0.000000   \n",
              "Balanced Accuracy  0.671724  0.650316  0.667107  0.670747  0.665208  0.676415   \n",
              "Accuracy           0.664781  0.657090  0.674861  0.654293  0.689771  0.671707   \n",
              "Precision          0.149658  0.140717  0.150420  0.147031  0.153477  0.152877   \n",
              "Recall             0.679992  0.642248  0.657873  0.690341  0.635958  0.682021   \n",
              "F1                 0.245324  0.230853  0.244855  0.242429  0.247278  0.249768   \n",
              "\n",
              "                        PAR       LSP        TN  \n",
              "Overall AUC        0.735165  0.720406  0.693677  \n",
              "KS                 0.350578  0.327287  0.285583  \n",
              "------             0.000000  0.000000  0.000000  \n",
              "Balanced Accuracy  0.675289  0.663643  0.642792  \n",
              "Accuracy           0.696389  0.695072  0.688064  \n",
              "Precision          0.158984  0.154315  0.144659  \n",
              "Recall             0.650162  0.626218  0.588880  \n",
              "F1                 0.255492  0.247613  0.232262  "
            ]
          },
          "execution_count": 26,
          "metadata": {},
          "output_type": "execute_result"
        }
      ],
      "source": [
        "hist_dict[0]"
      ]
    },
    {
      "cell_type": "code",
      "execution_count": 29,
      "metadata": {},
      "outputs": [
        {
          "data": {
            "text/html": [
              "<div>\n",
              "<style scoped>\n",
              "    .dataframe tbody tr th:only-of-type {\n",
              "        vertical-align: middle;\n",
              "    }\n",
              "\n",
              "    .dataframe tbody tr th {\n",
              "        vertical-align: top;\n",
              "    }\n",
              "\n",
              "    .dataframe thead th {\n",
              "        text-align: right;\n",
              "    }\n",
              "</style>\n",
              "<table border=\"1\" class=\"dataframe\">\n",
              "  <thead>\n",
              "    <tr style=\"text-align: right;\">\n",
              "      <th></th>\n",
              "      <th>BM</th>\n",
              "      <th>A-SC</th>\n",
              "      <th>A-UW</th>\n",
              "      <th>A-DW</th>\n",
              "      <th>A-FU</th>\n",
              "      <th>E-C</th>\n",
              "      <th>PAR</th>\n",
              "      <th>LSP</th>\n",
              "      <th>TN</th>\n",
              "    </tr>\n",
              "  </thead>\n",
              "  <tbody>\n",
              "    <tr>\n",
              "      <th>Overall AUC</th>\n",
              "      <td>0.732616</td>\n",
              "      <td>0.709157</td>\n",
              "      <td>0.725734</td>\n",
              "      <td>0.728535</td>\n",
              "      <td>0.724730</td>\n",
              "      <td>0.734780</td>\n",
              "      <td>0.734243</td>\n",
              "      <td>0.723728</td>\n",
              "      <td>0.688689</td>\n",
              "    </tr>\n",
              "    <tr>\n",
              "      <th>KS</th>\n",
              "      <td>0.347613</td>\n",
              "      <td>0.310383</td>\n",
              "      <td>0.333768</td>\n",
              "      <td>0.339425</td>\n",
              "      <td>0.333585</td>\n",
              "      <td>0.351157</td>\n",
              "      <td>0.349737</td>\n",
              "      <td>0.332295</td>\n",
              "      <td>0.278561</td>\n",
              "    </tr>\n",
              "    <tr>\n",
              "      <th>------</th>\n",
              "      <td>0.000000</td>\n",
              "      <td>0.000000</td>\n",
              "      <td>0.000000</td>\n",
              "      <td>0.000000</td>\n",
              "      <td>0.000000</td>\n",
              "      <td>0.000000</td>\n",
              "      <td>0.000000</td>\n",
              "      <td>0.000000</td>\n",
              "      <td>0.000000</td>\n",
              "    </tr>\n",
              "    <tr>\n",
              "      <th>Balanced Accuracy</th>\n",
              "      <td>0.673806</td>\n",
              "      <td>0.655191</td>\n",
              "      <td>0.666884</td>\n",
              "      <td>0.669712</td>\n",
              "      <td>0.666793</td>\n",
              "      <td>0.675578</td>\n",
              "      <td>0.674869</td>\n",
              "      <td>0.666148</td>\n",
              "      <td>0.639280</td>\n",
              "    </tr>\n",
              "    <tr>\n",
              "      <th>Accuracy</th>\n",
              "      <td>0.667508</td>\n",
              "      <td>0.662263</td>\n",
              "      <td>0.670978</td>\n",
              "      <td>0.673888</td>\n",
              "      <td>0.681315</td>\n",
              "      <td>0.681273</td>\n",
              "      <td>0.669927</td>\n",
              "      <td>0.682346</td>\n",
              "      <td>0.645466</td>\n",
              "    </tr>\n",
              "    <tr>\n",
              "      <th>Precision</th>\n",
              "      <td>0.152404</td>\n",
              "      <td>0.144533</td>\n",
              "      <td>0.150753</td>\n",
              "      <td>0.152555</td>\n",
              "      <td>0.153054</td>\n",
              "      <td>0.156454</td>\n",
              "      <td>0.153610</td>\n",
              "      <td>0.153407</td>\n",
              "      <td>0.136963</td>\n",
              "    </tr>\n",
              "    <tr>\n",
              "      <th>Recall</th>\n",
              "      <td>0.681250</td>\n",
              "      <td>0.646743</td>\n",
              "      <td>0.662014</td>\n",
              "      <td>0.664681</td>\n",
              "      <td>0.649506</td>\n",
              "      <td>0.668750</td>\n",
              "      <td>0.680843</td>\n",
              "      <td>0.646840</td>\n",
              "      <td>0.631975</td>\n",
              "    </tr>\n",
              "    <tr>\n",
              "      <th>F1</th>\n",
              "      <td>0.248829</td>\n",
              "      <td>0.236209</td>\n",
              "      <td>0.245406</td>\n",
              "      <td>0.247912</td>\n",
              "      <td>0.247685</td>\n",
              "      <td>0.253348</td>\n",
              "      <td>0.250368</td>\n",
              "      <td>0.247713</td>\n",
              "      <td>0.224624</td>\n",
              "    </tr>\n",
              "  </tbody>\n",
              "</table>\n",
              "</div>"
            ],
            "text/plain": [
              "                         BM      A-SC      A-UW      A-DW      A-FU       E-C  \\\n",
              "Overall AUC        0.732616  0.709157  0.725734  0.728535  0.724730  0.734780   \n",
              "KS                 0.347613  0.310383  0.333768  0.339425  0.333585  0.351157   \n",
              "------             0.000000  0.000000  0.000000  0.000000  0.000000  0.000000   \n",
              "Balanced Accuracy  0.673806  0.655191  0.666884  0.669712  0.666793  0.675578   \n",
              "Accuracy           0.667508  0.662263  0.670978  0.673888  0.681315  0.681273   \n",
              "Precision          0.152404  0.144533  0.150753  0.152555  0.153054  0.156454   \n",
              "Recall             0.681250  0.646743  0.662014  0.664681  0.649506  0.668750   \n",
              "F1                 0.248829  0.236209  0.245406  0.247912  0.247685  0.253348   \n",
              "\n",
              "                        PAR       LSP        TN  \n",
              "Overall AUC        0.734243  0.723728  0.688689  \n",
              "KS                 0.349737  0.332295  0.278561  \n",
              "------             0.000000  0.000000  0.000000  \n",
              "Balanced Accuracy  0.674869  0.666148  0.639280  \n",
              "Accuracy           0.669927  0.682346  0.645466  \n",
              "Precision          0.153610  0.153407  0.136963  \n",
              "Recall             0.680843  0.646840  0.631975  \n",
              "F1                 0.250368  0.247713  0.224624  "
            ]
          },
          "execution_count": 29,
          "metadata": {},
          "output_type": "execute_result"
        }
      ],
      "source": [
        "sum([hist_dict[i] for i in range(5)])/5"
      ]
    },
    {
      "cell_type": "code",
      "execution_count": 15,
      "metadata": {},
      "outputs": [
        {
          "data": {
            "text/plain": [
              "Overall AUC          0.743400\n",
              "KS                   0.363513\n",
              "------               0.000000\n",
              "Balanced Accuracy    0.681756\n",
              "Accuracy             0.669614\n",
              "Precision            0.153248\n",
              "Recall               0.696192\n",
              "F1                   0.251043\n",
              "dtype: float64"
            ]
          },
          "execution_count": 15,
          "metadata": {},
          "output_type": "execute_result"
        }
      ],
      "source": [
        "ri.get_metrics_RI(models_dict, X_test, y_test).T.mean()"
      ]
    },
    {
      "cell_type": "code",
      "execution_count": 44,
      "metadata": {},
      "outputs": [],
      "source": [
        "# add kfold\n",
        "# add topsis/ahp multicriterio\n",
        "# add criterio de parada"
      ]
    },
    {
      "cell_type": "code",
      "execution_count": 46,
      "metadata": {
        "id": "4pxqFBdwOhoW"
      },
      "outputs": [],
      "source": []
    },
    {
      "cell_type": "markdown",
      "metadata": {
        "id": "oWw8pEyaN0Hd"
      },
      "source": [
        "#<font color='red'>PIPELINE NORMAL</font>\n"
      ]
    },
    {
      "cell_type": "markdown",
      "metadata": {
        "id": "gMQM05uD3k4a"
      },
      "source": [
        "#<font color='green'>REJECT INFERENCE</font>"
      ]
    },
    {
      "cell_type": "code",
      "execution_count": 53,
      "metadata": {
        "id": "_-3wef6cZNkp"
      },
      "outputs": [],
      "source": [
        "import warnings\n",
        "warnings.filterwarnings(\"ignore\")"
      ]
    },
    {
      "cell_type": "markdown",
      "metadata": {
        "id": "tAVCg2OVBYja"
      },
      "source": [
        "#<font color='green'>Test others strategies:</font>"
      ]
    },
    {
      "cell_type": "code",
      "execution_count": 62,
      "metadata": {},
      "outputs": [],
      "source": [
        "filepath = Path(os.path.join(ri_datasets_path,f'TN-{seed_number}.joblib'))\n",
        "ri_clfs = joblib.load(filepath)"
      ]
    },
    {
      "cell_type": "code",
      "execution_count": 63,
      "metadata": {},
      "outputs": [],
      "source": [
        "metrics = ri.get_metrics_RI(ri_clfs, X_test, y_test, X_val_acp, y_val_acp, X_unl)"
      ]
    },
    {
      "cell_type": "code",
      "execution_count": 64,
      "metadata": {},
      "outputs": [
        {
          "data": {
            "text/html": [
              "<div>\n",
              "<style scoped>\n",
              "    .dataframe tbody tr th:only-of-type {\n",
              "        vertical-align: middle;\n",
              "    }\n",
              "\n",
              "    .dataframe tbody tr th {\n",
              "        vertical-align: top;\n",
              "    }\n",
              "\n",
              "    .dataframe thead th {\n",
              "        text-align: right;\n",
              "    }\n",
              "</style>\n",
              "<table border=\"1\" class=\"dataframe\">\n",
              "  <thead>\n",
              "    <tr style=\"text-align: right;\">\n",
              "      <th></th>\n",
              "      <th>BM</th>\n",
              "      <th>TN_1</th>\n",
              "      <th>TN_2</th>\n",
              "      <th>TN_3</th>\n",
              "      <th>TN_4</th>\n",
              "      <th>TN_5</th>\n",
              "      <th>TN_6</th>\n",
              "      <th>TN_7</th>\n",
              "      <th>TN_8</th>\n",
              "      <th>TN_9</th>\n",
              "      <th>...</th>\n",
              "      <th>TN_70</th>\n",
              "      <th>TN_71</th>\n",
              "      <th>TN_72</th>\n",
              "      <th>TN_73</th>\n",
              "      <th>TN_74</th>\n",
              "      <th>TN_75</th>\n",
              "      <th>TN_76</th>\n",
              "      <th>TN_77</th>\n",
              "      <th>TN_78</th>\n",
              "      <th>TN_79</th>\n",
              "    </tr>\n",
              "  </thead>\n",
              "  <tbody>\n",
              "    <tr>\n",
              "      <th>Overall AUC</th>\n",
              "      <td>0.734613</td>\n",
              "      <td>0.735629</td>\n",
              "      <td>0.73439</td>\n",
              "      <td>0.733303</td>\n",
              "      <td>0.73163</td>\n",
              "      <td>0.730289</td>\n",
              "      <td>0.72917</td>\n",
              "      <td>0.727571</td>\n",
              "      <td>0.727396</td>\n",
              "      <td>0.726961</td>\n",
              "      <td>...</td>\n",
              "      <td>0.708256</td>\n",
              "      <td>0.707685</td>\n",
              "      <td>0.707059</td>\n",
              "      <td>0.708001</td>\n",
              "      <td>0.708937</td>\n",
              "      <td>0.708196</td>\n",
              "      <td>0.708473</td>\n",
              "      <td>0.708284</td>\n",
              "      <td>0.708175</td>\n",
              "      <td>0.707964</td>\n",
              "    </tr>\n",
              "    <tr>\n",
              "      <th>KS</th>\n",
              "      <td>0.355752</td>\n",
              "      <td>0.354589</td>\n",
              "      <td>0.353614</td>\n",
              "      <td>0.352995</td>\n",
              "      <td>0.354404</td>\n",
              "      <td>0.351019</td>\n",
              "      <td>0.347955</td>\n",
              "      <td>0.345701</td>\n",
              "      <td>0.345273</td>\n",
              "      <td>0.345715</td>\n",
              "      <td>...</td>\n",
              "      <td>0.307191</td>\n",
              "      <td>0.309942</td>\n",
              "      <td>0.30812</td>\n",
              "      <td>0.311763</td>\n",
              "      <td>0.313094</td>\n",
              "      <td>0.310574</td>\n",
              "      <td>0.310251</td>\n",
              "      <td>0.312872</td>\n",
              "      <td>0.313346</td>\n",
              "      <td>0.310935</td>\n",
              "    </tr>\n",
              "    <tr>\n",
              "      <th>------</th>\n",
              "      <td></td>\n",
              "      <td></td>\n",
              "      <td></td>\n",
              "      <td></td>\n",
              "      <td></td>\n",
              "      <td></td>\n",
              "      <td></td>\n",
              "      <td></td>\n",
              "      <td></td>\n",
              "      <td></td>\n",
              "      <td>...</td>\n",
              "      <td></td>\n",
              "      <td></td>\n",
              "      <td></td>\n",
              "      <td></td>\n",
              "      <td></td>\n",
              "      <td></td>\n",
              "      <td></td>\n",
              "      <td></td>\n",
              "      <td></td>\n",
              "      <td></td>\n",
              "    </tr>\n",
              "    <tr>\n",
              "      <th>Balanced Accuracy</th>\n",
              "      <td>0.670243</td>\n",
              "      <td>0.668327</td>\n",
              "      <td>0.663316</td>\n",
              "      <td>0.675726</td>\n",
              "      <td>0.668099</td>\n",
              "      <td>0.666202</td>\n",
              "      <td>0.662632</td>\n",
              "      <td>0.658675</td>\n",
              "      <td>0.657853</td>\n",
              "      <td>0.656688</td>\n",
              "      <td>...</td>\n",
              "      <td>0.652612</td>\n",
              "      <td>0.650383</td>\n",
              "      <td>0.652616</td>\n",
              "      <td>0.650338</td>\n",
              "      <td>0.654891</td>\n",
              "      <td>0.653465</td>\n",
              "      <td>0.65295</td>\n",
              "      <td>0.650187</td>\n",
              "      <td>0.654452</td>\n",
              "      <td>0.651169</td>\n",
              "    </tr>\n",
              "    <tr>\n",
              "      <th>Accuracy</th>\n",
              "      <td>0.605544</td>\n",
              "      <td>0.60717</td>\n",
              "      <td>0.580769</td>\n",
              "      <td>0.663733</td>\n",
              "      <td>0.594082</td>\n",
              "      <td>0.593167</td>\n",
              "      <td>0.587883</td>\n",
              "      <td>0.576948</td>\n",
              "      <td>0.570282</td>\n",
              "      <td>0.561481</td>\n",
              "      <td>...</td>\n",
              "      <td>0.624406</td>\n",
              "      <td>0.621804</td>\n",
              "      <td>0.648246</td>\n",
              "      <td>0.610341</td>\n",
              "      <td>0.682493</td>\n",
              "      <td>0.633491</td>\n",
              "      <td>0.691374</td>\n",
              "      <td>0.600402</td>\n",
              "      <td>0.65914</td>\n",
              "      <td>0.600707</td>\n",
              "    </tr>\n",
              "    <tr>\n",
              "      <th>Precision</th>\n",
              "      <td>0.137088</td>\n",
              "      <td>0.136784</td>\n",
              "      <td>0.13151</td>\n",
              "      <td>0.149836</td>\n",
              "      <td>0.134726</td>\n",
              "      <td>0.134052</td>\n",
              "      <td>0.132287</td>\n",
              "      <td>0.129716</td>\n",
              "      <td>0.128648</td>\n",
              "      <td>0.127269</td>\n",
              "      <td>...</td>\n",
              "      <td>0.134768</td>\n",
              "      <td>0.133653</td>\n",
              "      <td>0.13892</td>\n",
              "      <td>0.131889</td>\n",
              "      <td>0.146942</td>\n",
              "      <td>0.136553</td>\n",
              "      <td>0.148393</td>\n",
              "      <td>0.130416</td>\n",
              "      <td>0.141662</td>\n",
              "      <td>0.130751</td>\n",
              "    </tr>\n",
              "    <tr>\n",
              "      <th>Recall</th>\n",
              "      <td>0.747191</td>\n",
              "      <td>0.741062</td>\n",
              "      <td>0.761491</td>\n",
              "      <td>0.68999</td>\n",
              "      <td>0.756129</td>\n",
              "      <td>0.753064</td>\n",
              "      <td>0.751532</td>\n",
              "      <td>0.755873</td>\n",
              "      <td>0.762002</td>\n",
              "      <td>0.769918</td>\n",
              "      <td>...</td>\n",
              "      <td>0.686159</td>\n",
              "      <td>0.684372</td>\n",
              "      <td>0.657814</td>\n",
              "      <td>0.697906</td>\n",
              "      <td>0.622063</td>\n",
              "      <td>0.677222</td>\n",
              "      <td>0.607252</td>\n",
              "      <td>0.709397</td>\n",
              "      <td>0.648876</td>\n",
              "      <td>0.711185</td>\n",
              "    </tr>\n",
              "    <tr>\n",
              "      <th>F1</th>\n",
              "      <td>0.231671</td>\n",
              "      <td>0.230941</td>\n",
              "      <td>0.224286</td>\n",
              "      <td>0.246207</td>\n",
              "      <td>0.228702</td>\n",
              "      <td>0.22759</td>\n",
              "      <td>0.224974</td>\n",
              "      <td>0.221433</td>\n",
              "      <td>0.220132</td>\n",
              "      <td>0.218431</td>\n",
              "      <td>...</td>\n",
              "      <td>0.225287</td>\n",
              "      <td>0.223632</td>\n",
              "      <td>0.229396</td>\n",
              "      <td>0.221852</td>\n",
              "      <td>0.237728</td>\n",
              "      <td>0.227279</td>\n",
              "      <td>0.238504</td>\n",
              "      <td>0.220328</td>\n",
              "      <td>0.232554</td>\n",
              "      <td>0.220891</td>\n",
              "    </tr>\n",
              "    <tr>\n",
              "      <th>-----</th>\n",
              "      <td></td>\n",
              "      <td></td>\n",
              "      <td></td>\n",
              "      <td></td>\n",
              "      <td></td>\n",
              "      <td></td>\n",
              "      <td></td>\n",
              "      <td></td>\n",
              "      <td></td>\n",
              "      <td></td>\n",
              "      <td>...</td>\n",
              "      <td></td>\n",
              "      <td></td>\n",
              "      <td></td>\n",
              "      <td></td>\n",
              "      <td></td>\n",
              "      <td></td>\n",
              "      <td></td>\n",
              "      <td></td>\n",
              "      <td></td>\n",
              "      <td></td>\n",
              "    </tr>\n",
              "    <tr>\n",
              "      <th>Approval Rate</th>\n",
              "      <td>0.862709</td>\n",
              "      <td>0.864132</td>\n",
              "      <td>0.864497</td>\n",
              "      <td>0.865757</td>\n",
              "      <td>0.860941</td>\n",
              "      <td>0.846531</td>\n",
              "      <td>0.848096</td>\n",
              "      <td>0.850514</td>\n",
              "      <td>0.849579</td>\n",
              "      <td>0.845189</td>\n",
              "      <td>...</td>\n",
              "      <td>0.849762</td>\n",
              "      <td>0.848238</td>\n",
              "      <td>0.854193</td>\n",
              "      <td>0.862424</td>\n",
              "      <td>0.870026</td>\n",
              "      <td>0.870493</td>\n",
              "      <td>0.878907</td>\n",
              "      <td>0.875818</td>\n",
              "      <td>0.880066</td>\n",
              "      <td>0.881529</td>\n",
              "    </tr>\n",
              "    <tr>\n",
              "      <th>Kickout</th>\n",
              "      <td>0</td>\n",
              "      <td>0.195538</td>\n",
              "      <td>0.220823</td>\n",
              "      <td>0.252551</td>\n",
              "      <td>0.24774</td>\n",
              "      <td>0.258955</td>\n",
              "      <td>0.345576</td>\n",
              "      <td>0.318316</td>\n",
              "      <td>0.294601</td>\n",
              "      <td>0.3427</td>\n",
              "      <td>...</td>\n",
              "      <td>1.00308</td>\n",
              "      <td>0.997351</td>\n",
              "      <td>0.982685</td>\n",
              "      <td>0.980428</td>\n",
              "      <td>0.929819</td>\n",
              "      <td>0.918766</td>\n",
              "      <td>0.888118</td>\n",
              "      <td>0.865163</td>\n",
              "      <td>0.873452</td>\n",
              "      <td>0.858302</td>\n",
              "    </tr>\n",
              "    <tr>\n",
              "      <th>KG</th>\n",
              "      <td>0</td>\n",
              "      <td>344</td>\n",
              "      <td>464</td>\n",
              "      <td>474</td>\n",
              "      <td>493</td>\n",
              "      <td>584</td>\n",
              "      <td>614</td>\n",
              "      <td>654</td>\n",
              "      <td>680</td>\n",
              "      <td>693</td>\n",
              "      <td>...</td>\n",
              "      <td>2330</td>\n",
              "      <td>2471</td>\n",
              "      <td>2512</td>\n",
              "      <td>2504</td>\n",
              "      <td>2484</td>\n",
              "      <td>2460</td>\n",
              "      <td>2395</td>\n",
              "      <td>2418</td>\n",
              "      <td>2436</td>\n",
              "      <td>2462</td>\n",
              "    </tr>\n",
              "    <tr>\n",
              "      <th>KB</th>\n",
              "      <td>0</td>\n",
              "      <td>66</td>\n",
              "      <td>79</td>\n",
              "      <td>87</td>\n",
              "      <td>87</td>\n",
              "      <td>95</td>\n",
              "      <td>117</td>\n",
              "      <td>113</td>\n",
              "      <td>109</td>\n",
              "      <td>121</td>\n",
              "      <td>...</td>\n",
              "      <td>372</td>\n",
              "      <td>379</td>\n",
              "      <td>378</td>\n",
              "      <td>377</td>\n",
              "      <td>364</td>\n",
              "      <td>360</td>\n",
              "      <td>349</td>\n",
              "      <td>345</td>\n",
              "      <td>348</td>\n",
              "      <td>346</td>\n",
              "    </tr>\n",
              "  </tbody>\n",
              "</table>\n",
              "<p>13 rows × 80 columns</p>\n",
              "</div>"
            ],
            "text/plain": [
              "                         BM      TN_1      TN_2      TN_3      TN_4      TN_5  \\\n",
              "Overall AUC        0.734613  0.735629   0.73439  0.733303   0.73163  0.730289   \n",
              "KS                 0.355752  0.354589  0.353614  0.352995  0.354404  0.351019   \n",
              "------                                                                          \n",
              "Balanced Accuracy  0.670243  0.668327  0.663316  0.675726  0.668099  0.666202   \n",
              "Accuracy           0.605544   0.60717  0.580769  0.663733  0.594082  0.593167   \n",
              "Precision          0.137088  0.136784   0.13151  0.149836  0.134726  0.134052   \n",
              "Recall             0.747191  0.741062  0.761491   0.68999  0.756129  0.753064   \n",
              "F1                 0.231671  0.230941  0.224286  0.246207  0.228702   0.22759   \n",
              "-----                                                                           \n",
              "Approval Rate      0.862709  0.864132  0.864497  0.865757  0.860941  0.846531   \n",
              "Kickout                   0  0.195538  0.220823  0.252551   0.24774  0.258955   \n",
              "KG                        0       344       464       474       493       584   \n",
              "KB                        0        66        79        87        87        95   \n",
              "\n",
              "                       TN_6      TN_7      TN_8      TN_9  ...     TN_70  \\\n",
              "Overall AUC         0.72917  0.727571  0.727396  0.726961  ...  0.708256   \n",
              "KS                 0.347955  0.345701  0.345273  0.345715  ...  0.307191   \n",
              "------                                                     ...             \n",
              "Balanced Accuracy  0.662632  0.658675  0.657853  0.656688  ...  0.652612   \n",
              "Accuracy           0.587883  0.576948  0.570282  0.561481  ...  0.624406   \n",
              "Precision          0.132287  0.129716  0.128648  0.127269  ...  0.134768   \n",
              "Recall             0.751532  0.755873  0.762002  0.769918  ...  0.686159   \n",
              "F1                 0.224974  0.221433  0.220132  0.218431  ...  0.225287   \n",
              "-----                                                      ...             \n",
              "Approval Rate      0.848096  0.850514  0.849579  0.845189  ...  0.849762   \n",
              "Kickout            0.345576  0.318316  0.294601    0.3427  ...   1.00308   \n",
              "KG                      614       654       680       693  ...      2330   \n",
              "KB                      117       113       109       121  ...       372   \n",
              "\n",
              "                      TN_71     TN_72     TN_73     TN_74     TN_75     TN_76  \\\n",
              "Overall AUC        0.707685  0.707059  0.708001  0.708937  0.708196  0.708473   \n",
              "KS                 0.309942   0.30812  0.311763  0.313094  0.310574  0.310251   \n",
              "------                                                                          \n",
              "Balanced Accuracy  0.650383  0.652616  0.650338  0.654891  0.653465   0.65295   \n",
              "Accuracy           0.621804  0.648246  0.610341  0.682493  0.633491  0.691374   \n",
              "Precision          0.133653   0.13892  0.131889  0.146942  0.136553  0.148393   \n",
              "Recall             0.684372  0.657814  0.697906  0.622063  0.677222  0.607252   \n",
              "F1                 0.223632  0.229396  0.221852  0.237728  0.227279  0.238504   \n",
              "-----                                                                           \n",
              "Approval Rate      0.848238  0.854193  0.862424  0.870026  0.870493  0.878907   \n",
              "Kickout            0.997351  0.982685  0.980428  0.929819  0.918766  0.888118   \n",
              "KG                     2471      2512      2504      2484      2460      2395   \n",
              "KB                      379       378       377       364       360       349   \n",
              "\n",
              "                      TN_77     TN_78     TN_79  \n",
              "Overall AUC        0.708284  0.708175  0.707964  \n",
              "KS                 0.312872  0.313346  0.310935  \n",
              "------                                           \n",
              "Balanced Accuracy  0.650187  0.654452  0.651169  \n",
              "Accuracy           0.600402   0.65914  0.600707  \n",
              "Precision          0.130416  0.141662  0.130751  \n",
              "Recall             0.709397  0.648876  0.711185  \n",
              "F1                 0.220328  0.232554  0.220891  \n",
              "-----                                            \n",
              "Approval Rate      0.875818  0.880066  0.881529  \n",
              "Kickout            0.865163  0.873452  0.858302  \n",
              "KG                     2418      2436      2462  \n",
              "KB                      345       348       346  \n",
              "\n",
              "[13 rows x 80 columns]"
            ]
          },
          "execution_count": 64,
          "metadata": {},
          "output_type": "execute_result"
        }
      ],
      "source": [
        "metrics"
      ]
    },
    {
      "cell_type": "markdown",
      "metadata": {
        "id": "Dh50Dz9asmgB"
      },
      "source": [
        "#<font color='green'>Test Trusted Non-outliers Inference:</font>\n",
        "\n",
        "    * Loop through rejects selecting most confident predictions on outliers as Accepts"
      ]
    },
    {
      "cell_type": "code",
      "execution_count": 65,
      "metadata": {
        "cellView": "form",
        "id": "OKn9Q8SuIaJt"
      },
      "outputs": [
        {
          "data": {
            "image/png": "[encoded data removed]",
            "text/plain": [
              "<Figure size 1000x300 with 1 Axes>"
            ]
          },
          "metadata": {},
          "output_type": "display_data"
        }
      ],
      "source": [
        "#@title Show evolution of metrics\n",
        "\n",
        "metrics_df = metrics.copy()#_techniques.copy()\n",
        "\n",
        "# Set the desired figure size\n",
        "plt.figure(figsize=(10, 3))\n",
        "\n",
        "cols_to_plot =  ['Overall AUC', 'Balanced Accuracy', 'Accuracy', 'Approval Rate']\n",
        "cols_plotted = []\n",
        "\n",
        "# Iterate over the columns of metrics_df.T and create individual plots\n",
        "for m in cols_to_plot:\n",
        "    if m in metrics_df.T.columns:\n",
        "        plt.plot(metrics_df.T[m], marker='o', markersize=4, linestyle='--')\n",
        "        cols_plotted.append(m)\n",
        "\n",
        "# Add a legend outside the loop\n",
        "plt.legend(cols_plotted, loc='upper right', bbox_to_anchor=(.8, 0.5, 0.5, 0.5))\n",
        "\n",
        "# Set the y-axis tick positions and labels\n",
        "plt.yticks(fontsize=12)\n",
        "\n",
        "# Show the plots\n",
        "plt.show()"
      ]
    },
    {
      "cell_type": "code",
      "execution_count": 66,
      "metadata": {
        "cellView": "form",
        "id": "Yca3qN10tZUS"
      },
      "outputs": [
        {
          "data": {
            "image/png": "[encoded data removed]",
            "text/plain": [
              "<Figure size 1000x300 with 1 Axes>"
            ]
          },
          "metadata": {},
          "output_type": "display_data"
        }
      ],
      "source": [
        "#@title Show evolution of metrics\n",
        "# Set the desired figure size\n",
        "plt.figure(figsize=(10, 3))\n",
        "\n",
        "cols_to_plot = ['KS','Precision', 'Recall','F1', 'Kickout']\n",
        "cols_plotted = []\n",
        "\n",
        "# Iterate over the columns of metrics.T and create individual plots\n",
        "for m in cols_to_plot:\n",
        "    if m in metrics_df.T.columns:\n",
        "        plt.plot(metrics_df.T[m], marker='o', markersize=4, linestyle='--')\n",
        "        cols_plotted.append(m)\n",
        "\n",
        "# Add a legend outside the loop\n",
        "plt.legend(cols_plotted, loc='upper right', bbox_to_anchor=(.8, 0.5, 0.5, 0.5))\n",
        "\n",
        "# Set the y-axis tick positions and labels\n",
        "plt.yticks(fontsize=12)\n",
        "\n",
        "# Show the plots\n",
        "plt.show()"
      ]
    },
    {
      "cell_type": "code",
      "execution_count": null,
      "metadata": {
        "id": "g4LZ97w43nXQ"
      },
      "outputs": [],
      "source": [
        "# C1 = clf_original\n",
        "# kickout_results = []\n",
        "\n",
        "# for c2 in results_dict[clf_name]['clf_iterations']:\n",
        "#     k, kg, kb = ri.calculate_kickout_metric(C1,c2, X_test, y_test, X_val_rej, 0.05)\n",
        "#     kickout_results.append(k)\n",
        "#     print(k)"
      ]
    },
    {
      "cell_type": "code",
      "execution_count": null,
      "metadata": {
        "id": "8fP0lG44OoRB"
      },
      "outputs": [],
      "source": [
        "# plt.plot(kickout_results, marker='o', markersize=3, linestyle='-', label = 'kickout')\n",
        "# plt.plot(y_mean_list, marker='o', markersize=3, linestyle='-', label = 'y_mean_list')\n",
        "# plt.plot(auc_loss, marker='o', markersize=3, linestyle='-', label = 'auc_loss')\n",
        "# plt.legend()"
      ]
    },
    {
      "cell_type": "code",
      "execution_count": null,
      "metadata": {
        "id": "0obdM5gEHMOs"
      },
      "outputs": [],
      "source": [
        "# AR_original = ri.calculate_approval_rate(clf_original, X_val_acp, y_val_acp, X_test)\n",
        "# AR_original"
      ]
    },
    {
      "cell_type": "code",
      "execution_count": null,
      "metadata": {
        "id": "6-UmbHCEheTl"
      },
      "outputs": [],
      "source": [
        "# thrs = []\n",
        "# for clf_ri in results_dict[clf_name]['clf_iterations']:\n",
        "#     thr = ri.risk_score_threshold(clf_ri, X_val_acp, y_val_acp)\n",
        "#     thrs += [thr]"
      ]
    },
    {
      "cell_type": "code",
      "execution_count": null,
      "metadata": {
        "id": "kp2LsqF-vDu_"
      },
      "outputs": [],
      "source": [
        "# AR = []\n",
        "# for c2, thr in zip(results_dict[clf_name]['clf_iterations'], thrs):\n",
        "#     k = ri.calculate_approval_rate(c2, X_val_acp, y_val_acp, X_test)\n",
        "#     AR.append(k)\n",
        "#     # print(k)"
      ]
    },
    {
      "cell_type": "code",
      "execution_count": null,
      "metadata": {
        "id": "-msxh63XvDvA"
      },
      "outputs": [],
      "source": [
        "# plt.plot(AR)\n",
        "# plt.plot(np.arange(len(AR)), [AR_original]*len(AR))"
      ]
    },
    {
      "cell_type": "code",
      "execution_count": null,
      "metadata": {},
      "outputs": [
        {
          "name": "stdout",
          "output_type": "stream",
          "text": [
            "(<class 'time.struct_time'>, ((2023, 11, 29, 13, 19, 24, 2, 333, 0), {'tm_zone': '-03', 'tm_gmtoff': -10800}))\n"
          ]
        }
      ],
      "source": [
        "print(time.localtime().__reduce__())"
      ]
    },
    {
      "cell_type": "code",
      "execution_count": null,
      "metadata": {},
      "outputs": [],
      "source": [
        "# metrics_poster = metrics_techniques.loc[[\"Overall AUC\", \"Kickout\"],:]\n",
        "# metrics_poster = metrics_poster.astype(float).round(3)\n",
        "# metrics_poster"
      ]
    },
    {
      "cell_type": "code",
      "execution_count": null,
      "metadata": {},
      "outputs": [],
      "source": [
        "\n",
        "# filepath = Path(os.path.join(save_path,str(seed_number)+'_metrics_poster.csv'))\n",
        "# filepath.parent.mkdir(parents=True, exist_ok=True)\n",
        "# metrics_poster.to_csv(filepath)"
      ]
    }
  ],
  "metadata": {
    "colab": {
      "collapsed_sections": [
        "h-h3CuT8QlAM",
        "tAVCg2OVBYja",
        "dsDca864gWOL"
      ],
      "provenance": []
    },
    "kernelspec": {
      "display_name": "Python 3",
      "name": "python3"
    },
    "language_info": {
      "codemirror_mode": {
        "name": "ipython",
        "version": 3
      },
      "file_extension": ".py",
      "mimetype": "text/x-python",
      "name": "python",
      "nbconvert_exporter": "python",
      "pygments_lexer": "ipython3",
      "version": "3.10.12"
    }
  },
  "nbformat": 4,
  "nbformat_minor": 0
}
