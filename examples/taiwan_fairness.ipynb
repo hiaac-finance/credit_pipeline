{
 "cells": [
  {
   "cell_type": "markdown",
   "metadata": {
    "id": "AOPCGcD-K-B0"
   },
   "source": [
    "# Experiments with Taiwan"
   ]
  },
  {
   "cell_type": "code",
   "execution_count": 1,
   "metadata": {},
   "outputs": [
    {
     "name": "stdout",
     "output_type": "stream",
     "text": [
      "Requirement already satisfied: scikit-lego[cvxpy] in /home/jansen/anaconda3/envs/taiwan/lib/python3.8/site-packages (0.6.15)\n",
      "Requirement already satisfied: scikit-learn>=1.0 in /home/jansen/anaconda3/envs/taiwan/lib/python3.8/site-packages (from scikit-lego[cvxpy]) (1.3.1)\n",
      "Requirement already satisfied: pandas>=1.1.5 in /home/jansen/anaconda3/envs/taiwan/lib/python3.8/site-packages (from scikit-lego[cvxpy]) (2.0.3)\n",
      "Requirement already satisfied: patsy>=0.5.1 in /home/jansen/anaconda3/envs/taiwan/lib/python3.8/site-packages (from scikit-lego[cvxpy]) (0.5.3)\n",
      "Requirement already satisfied: autograd>=1.2 in /home/jansen/anaconda3/envs/taiwan/lib/python3.8/site-packages (from scikit-lego[cvxpy]) (1.6.2)\n",
      "Requirement already satisfied: Deprecated>=1.2.6 in /home/jansen/anaconda3/envs/taiwan/lib/python3.8/site-packages (from scikit-lego[cvxpy]) (1.2.14)\n",
      "Requirement already satisfied: umap-learn>=0.4.6 in /home/jansen/anaconda3/envs/taiwan/lib/python3.8/site-packages (from scikit-lego[cvxpy]) (0.5.4)\n",
      "Requirement already satisfied: cvxpy>=1.1.8 in /home/jansen/anaconda3/envs/taiwan/lib/python3.8/site-packages (from scikit-lego[cvxpy]) (1.3.2)\n",
      "Requirement already satisfied: numpy>=1.12 in /home/jansen/anaconda3/envs/taiwan/lib/python3.8/site-packages (from autograd>=1.2->scikit-lego[cvxpy]) (1.24.4)\n",
      "Requirement already satisfied: future>=0.15.2 in /home/jansen/anaconda3/envs/taiwan/lib/python3.8/site-packages (from autograd>=1.2->scikit-lego[cvxpy]) (0.18.3)\n",
      "Requirement already satisfied: osqp>=0.4.1 in /home/jansen/anaconda3/envs/taiwan/lib/python3.8/site-packages (from cvxpy>=1.1.8->scikit-lego[cvxpy]) (0.6.3)\n",
      "Requirement already satisfied: ecos>=2 in /home/jansen/anaconda3/envs/taiwan/lib/python3.8/site-packages (from cvxpy>=1.1.8->scikit-lego[cvxpy]) (2.0.12)\n",
      "Requirement already satisfied: scs>=1.1.6 in /home/jansen/anaconda3/envs/taiwan/lib/python3.8/site-packages (from cvxpy>=1.1.8->scikit-lego[cvxpy]) (3.2.3)\n",
      "Requirement already satisfied: scipy>=1.1.0 in /home/jansen/anaconda3/envs/taiwan/lib/python3.8/site-packages (from cvxpy>=1.1.8->scikit-lego[cvxpy]) (1.10.1)\n",
      "Requirement already satisfied: setuptools>65.5.1 in /home/jansen/anaconda3/envs/taiwan/lib/python3.8/site-packages (from cvxpy>=1.1.8->scikit-lego[cvxpy]) (68.0.0)\n",
      "Requirement already satisfied: wrapt<2,>=1.10 in /home/jansen/anaconda3/envs/taiwan/lib/python3.8/site-packages (from Deprecated>=1.2.6->scikit-lego[cvxpy]) (1.15.0)\n",
      "Requirement already satisfied: python-dateutil>=2.8.2 in /home/jansen/anaconda3/envs/taiwan/lib/python3.8/site-packages (from pandas>=1.1.5->scikit-lego[cvxpy]) (2.8.2)\n",
      "Requirement already satisfied: pytz>=2020.1 in /home/jansen/anaconda3/envs/taiwan/lib/python3.8/site-packages (from pandas>=1.1.5->scikit-lego[cvxpy]) (2023.3.post1)\n",
      "Requirement already satisfied: tzdata>=2022.1 in /home/jansen/anaconda3/envs/taiwan/lib/python3.8/site-packages (from pandas>=1.1.5->scikit-lego[cvxpy]) (2023.3)\n",
      "Requirement already satisfied: six in /home/jansen/anaconda3/envs/taiwan/lib/python3.8/site-packages (from patsy>=0.5.1->scikit-lego[cvxpy]) (1.16.0)\n",
      "Requirement already satisfied: joblib>=1.1.1 in /home/jansen/anaconda3/envs/taiwan/lib/python3.8/site-packages (from scikit-learn>=1.0->scikit-lego[cvxpy]) (1.3.2)\n",
      "Requirement already satisfied: threadpoolctl>=2.0.0 in /home/jansen/anaconda3/envs/taiwan/lib/python3.8/site-packages (from scikit-learn>=1.0->scikit-lego[cvxpy]) (3.2.0)\n",
      "Requirement already satisfied: numba>=0.51.2 in /home/jansen/anaconda3/envs/taiwan/lib/python3.8/site-packages (from umap-learn>=0.4.6->scikit-lego[cvxpy]) (0.58.0)\n",
      "Requirement already satisfied: pynndescent>=0.5 in /home/jansen/anaconda3/envs/taiwan/lib/python3.8/site-packages (from umap-learn>=0.4.6->scikit-lego[cvxpy]) (0.5.10)\n",
      "Requirement already satisfied: tqdm in /home/jansen/anaconda3/envs/taiwan/lib/python3.8/site-packages (from umap-learn>=0.4.6->scikit-lego[cvxpy]) (4.66.1)\n",
      "Requirement already satisfied: tbb>=2019.0 in /home/jansen/anaconda3/envs/taiwan/lib/python3.8/site-packages (from umap-learn>=0.4.6->scikit-lego[cvxpy]) (2021.10.0)\n",
      "Requirement already satisfied: llvmlite<0.42,>=0.41.0dev0 in /home/jansen/anaconda3/envs/taiwan/lib/python3.8/site-packages (from numba>=0.51.2->umap-learn>=0.4.6->scikit-lego[cvxpy]) (0.41.0)\n",
      "Requirement already satisfied: importlib-metadata in /home/jansen/anaconda3/envs/taiwan/lib/python3.8/site-packages (from numba>=0.51.2->umap-learn>=0.4.6->scikit-lego[cvxpy]) (6.8.0)\n",
      "Requirement already satisfied: qdldl in /home/jansen/anaconda3/envs/taiwan/lib/python3.8/site-packages (from osqp>=0.4.1->cvxpy>=1.1.8->scikit-lego[cvxpy]) (0.1.7.post0)\n",
      "Requirement already satisfied: zipp>=0.5 in /home/jansen/anaconda3/envs/taiwan/lib/python3.8/site-packages (from importlib-metadata->numba>=0.51.2->umap-learn>=0.4.6->scikit-lego[cvxpy]) (3.17.0)\n",
      "Note: you may need to restart the kernel to use updated packages.\n"
     ]
    }
   ],
   "source": [
    "pip install scikit-lego[cvxpy]"
   ]
  },
  {
   "cell_type": "code",
   "execution_count": 2,
   "metadata": {},
   "outputs": [
    {
     "name": "stdout",
     "output_type": "stream",
     "text": [
      "Requirement already satisfied: fairlearn in /home/jansen/anaconda3/envs/taiwan/lib/python3.8/site-packages (0.9.0)\n",
      "Requirement already satisfied: numpy>=1.18.0 in /home/jansen/anaconda3/envs/taiwan/lib/python3.8/site-packages (from fairlearn) (1.24.4)\n",
      "Requirement already satisfied: pandas>=0.25.2 in /home/jansen/anaconda3/envs/taiwan/lib/python3.8/site-packages (from fairlearn) (2.0.3)\n",
      "Requirement already satisfied: scikit-learn>=0.22.1 in /home/jansen/anaconda3/envs/taiwan/lib/python3.8/site-packages (from fairlearn) (1.3.1)\n",
      "Requirement already satisfied: scipy>=1.5.0 in /home/jansen/anaconda3/envs/taiwan/lib/python3.8/site-packages (from fairlearn) (1.10.1)\n",
      "Requirement already satisfied: python-dateutil>=2.8.2 in /home/jansen/anaconda3/envs/taiwan/lib/python3.8/site-packages (from pandas>=0.25.2->fairlearn) (2.8.2)\n",
      "Requirement already satisfied: pytz>=2020.1 in /home/jansen/anaconda3/envs/taiwan/lib/python3.8/site-packages (from pandas>=0.25.2->fairlearn) (2023.3.post1)\n",
      "Requirement already satisfied: tzdata>=2022.1 in /home/jansen/anaconda3/envs/taiwan/lib/python3.8/site-packages (from pandas>=0.25.2->fairlearn) (2023.3)\n",
      "Requirement already satisfied: joblib>=1.1.1 in /home/jansen/anaconda3/envs/taiwan/lib/python3.8/site-packages (from scikit-learn>=0.22.1->fairlearn) (1.3.2)\n",
      "Requirement already satisfied: threadpoolctl>=2.0.0 in /home/jansen/anaconda3/envs/taiwan/lib/python3.8/site-packages (from scikit-learn>=0.22.1->fairlearn) (3.2.0)\n",
      "Requirement already satisfied: six>=1.5 in /home/jansen/anaconda3/envs/taiwan/lib/python3.8/site-packages (from python-dateutil>=2.8.2->pandas>=0.25.2->fairlearn) (1.16.0)\n",
      "Note: you may need to restart the kernel to use updated packages.\n"
     ]
    }
   ],
   "source": [
    "pip install fairlearn"
   ]
  },
  {
   "cell_type": "code",
   "execution_count": 37,
   "metadata": {},
   "outputs": [
    {
     "name": "stdout",
     "output_type": "stream",
     "text": [
      "Requirement already satisfied: plotly in /home/jansen/anaconda3/envs/taiwan/lib/python3.8/site-packages (5.17.0)\n",
      "Requirement already satisfied: tenacity>=6.2.0 in /home/jansen/anaconda3/envs/taiwan/lib/python3.8/site-packages (from plotly) (8.2.3)\n",
      "Requirement already satisfied: packaging in /home/jansen/anaconda3/envs/taiwan/lib/python3.8/site-packages (from plotly) (23.2)\n",
      "Note: you may need to restart the kernel to use updated packages.\n"
     ]
    }
   ],
   "source": [
    "pip install plotly"
   ]
  },
  {
   "cell_type": "code",
   "execution_count": 38,
   "metadata": {
    "id": "GS4_XnYslJ3J"
   },
   "outputs": [
    {
     "name": "stdout",
     "output_type": "stream",
     "text": [
      "The autoreload extension is already loaded. To reload it, use:\n",
      "  %reload_ext autoreload\n"
     ]
    }
   ],
   "source": [
    "import time\n",
    "import numpy as np\n",
    "import pandas as pd\n",
    "import plotly.graph_objects as go\n",
    "import plotly.express as px\n",
    "\n",
    "\n",
    "\n",
    "from sklearn.model_selection import train_test_split\n",
    "from sklearn.linear_model import LogisticRegression\n",
    "from sklearn.ensemble import RandomForestClassifier\n",
    "from sklearn.neural_network import MLPClassifier\n",
    "from lightgbm import LGBMClassifier\n",
    "from sklearn.inspection import PartialDependenceDisplay\n",
    "from lime import lime_tabular\n",
    "import shap\n",
    "from cfmining.algorithms import MAPOCAM, BruteForce, Greedy\n",
    "from cfmining.criteria import PercentileCalculator, PercentileCriterion, PercentileChangesCriterion, NonDomCriterion\n",
    "from cfmining.predictors import MonotoneClassifier\n",
    "from cfmining.visualization import buildTable, PlotCounterfactuals\n",
    "from cfmining.mip_builder import RecourseBuilder\n",
    "from cfmining.action_set import ActionSet\n",
    "import joblib\n",
    "\n",
    "from aif360.algorithms.preprocessing import Reweighing\n",
    "from aif360.datasets import BinaryLabelDataset\n",
    "from sklego.linear_model import EqualOpportunityClassifier\n",
    "#from fairgbm import FairGBMClassifier\n",
    "from fairlearn.postprocessing import ThresholdOptimizer\n",
    "\n",
    "\n",
    "import credit_pipeline.data_exploration as dex\n",
    "from credit_pipeline.training import *\n",
    "\n",
    "\n",
    "%load_ext autoreload\n",
    "%autoreload 2"
   ]
  },
  {
   "cell_type": "markdown",
   "metadata": {},
   "source": [
    "## Loading and Cleaning"
   ]
  },
  {
   "cell_type": "code",
   "execution_count": 4,
   "metadata": {},
   "outputs": [],
   "source": [
    "seed_number = 0"
   ]
  },
  {
   "cell_type": "code",
   "execution_count": 5,
   "metadata": {},
   "outputs": [],
   "source": [
    "path = \"\"\n",
    "df = dex.read_csv_encoded(path, 'Taiwan.csv')\n",
    "df.columns = df.iloc[0, :].tolist()\n",
    "df = df.iloc[1:, :]\n",
    "df = df.drop(columns = [\"ID\"])"
   ]
  },
  {
   "cell_type": "code",
   "execution_count": 6,
   "metadata": {},
   "outputs": [
    {
     "data": {
      "text/plain": [
       "[]"
      ]
     },
     "execution_count": 6,
     "metadata": {},
     "output_type": "execute_result"
    }
   ],
   "source": [
    "columns_to_drop = dex.check_missing(df, 50,  False)\n",
    "columns_to_drop"
   ]
  },
  {
   "cell_type": "code",
   "execution_count": 7,
   "metadata": {},
   "outputs": [],
   "source": [
    "num_cols = [\"LIMIT_BAL\", \"AGE\", \"BILL_AMT1\", \"BILL_AMT2\", \"BILL_AMT3\",\n",
    "            \"BILL_AMT4\", \"BILL_AMT5\", \"BILL_AMT6\", \"PAY_AMT1\", \"PAY_AMT2\",\n",
    "            \"PAY_AMT3\", \"PAY_AMT4\", \"PAY_AMT5\", \"PAY_AMT6\", \"default payment next month\"]\n",
    "df[num_cols] = df[num_cols].astype(float)"
   ]
  },
  {
   "cell_type": "code",
   "execution_count": 8,
   "metadata": {},
   "outputs": [
    {
     "data": {
      "text/plain": [
       "['SEX',\n",
       " 'EDUCATION',\n",
       " 'MARRIAGE',\n",
       " 'PAY_0',\n",
       " 'PAY_2',\n",
       " 'PAY_3',\n",
       " 'PAY_4',\n",
       " 'PAY_5',\n",
       " 'PAY_6']"
      ]
     },
     "execution_count": 8,
     "metadata": {},
     "output_type": "execute_result"
    }
   ],
   "source": [
    "df_cols = df.columns.to_list()\n",
    "obj_cols = dex.list_by_type(df, ['O'])\n",
    "obj_cols"
   ]
  },
  {
   "cell_type": "code",
   "execution_count": 9,
   "metadata": {},
   "outputs": [
    {
     "name": "stdout",
     "output_type": "stream",
     "text": [
      "[]\n",
      "['LIMIT_BAL', 'AGE', 'BILL_AMT1', 'BILL_AMT2', 'BILL_AMT3', 'BILL_AMT4', 'BILL_AMT5', 'BILL_AMT6', 'PAY_AMT1', 'PAY_AMT2', 'PAY_AMT3', 'PAY_AMT4', 'PAY_AMT5', 'PAY_AMT6']\n",
      "['SEX', 'default payment next month']\n"
     ]
    }
   ],
   "source": [
    "print(dex.list_no_variation_cols(df))\n",
    "print(dex.list_contin_cols(df))\n",
    "print(dex.list_by_unique(df, 2))"
   ]
  },
  {
   "cell_type": "code",
   "execution_count": 10,
   "metadata": {},
   "outputs": [],
   "source": [
    "df[\"SEX\"] = df[\"SEX\"].apply(lambda x : \"female\" if x == \"2\" else \"male\")"
   ]
  },
  {
   "cell_type": "markdown",
   "metadata": {},
   "source": [
    "## Training Basic Models"
   ]
  },
  {
   "cell_type": "code",
   "execution_count": 11,
   "metadata": {
    "id": "chM4tJtz9V6e"
   },
   "outputs": [],
   "source": [
    "X_acp = df.iloc[:, (df.columns != \"default payment next month\")]\n",
    "y_acp = df[\"default payment next month\"]"
   ]
  },
  {
   "cell_type": "code",
   "execution_count": 12,
   "metadata": {
    "id": "9blMaysuPui4"
   },
   "outputs": [],
   "source": [
    "X_train, X_test, y_train, y_test = train_test_split(\n",
    "    X_acp, \n",
    "    y_acp, \n",
    "    test_size = 0.2, \n",
    "    random_state=seed_number, \n",
    "    stratify=y_acp\n",
    ")\n",
    "X_train, X_val, y_train, y_val = train_test_split(\n",
    "    X_train, \n",
    "    y_train, \n",
    "    test_size = 0.2, \n",
    "    random_state=seed_number, \n",
    "    stratify=y_train\n",
    ")\n",
    "A_train = (X_train.SEX == \"female\").astype(int)\n",
    "A_val = (X_val.SEX == \"female\").astype(int)\n",
    "A_test = (X_test.SEX == \"female\").astype(int)"
   ]
  },
  {
   "cell_type": "code",
   "execution_count": 13,
   "metadata": {},
   "outputs": [
    {
     "data": {
      "text/plain": [
       "SEX\n",
       "1    11716\n",
       "0     7484\n",
       "Name: count, dtype: int64"
      ]
     },
     "execution_count": 13,
     "metadata": {},
     "output_type": "execute_result"
    }
   ],
   "source": [
    "A_train.value_counts()"
   ]
  },
  {
   "cell_type": "code",
   "execution_count": 14,
   "metadata": {
    "colab": {
     "base_uri": "https://localhost:8080/"
    },
    "executionInfo": {
     "elapsed": 11,
     "status": "ok",
     "timestamp": 1695152363955,
     "user": {
      "displayName": "Athyrson Machado Ribeiro",
      "userId": "03264544371961652552"
     },
     "user_tz": 180
    },
    "id": "FP4M_FYobzNM",
    "outputId": "c6968a46-e41f-40bd-9bfe-50021697f066"
   },
   "outputs": [],
   "source": [
    "classifiers = {\n",
    "    \"Logistic Regression\": LogisticRegression,\n",
    "    \"Random Forest\": RandomForestClassifier,\n",
    "    \"LightGBM\": LGBMClassifier,\n",
    "    \"MLPC\" : MLPClassifier,\n",
    "}"
   ]
  },
  {
   "cell_type": "code",
   "execution_count": 15,
   "metadata": {
    "id": "Gf0vyh7ec9vi"
   },
   "outputs": [],
   "source": [
    "param_spaces = {\n",
    "    \"LogisticRegression\": {\n",
    "        'C': {'low': 0.001, 'high': 10, 'log': True, 'type':'float'},\n",
    "        'max_iter': {'low': 1000, 'high': 1000, 'step':1, 'type':'int'},\n",
    "        'penalty': {'choices': ['l2'], 'type':'categorical'},\n",
    "        \"class_weight\" : {\"choices\" : [None, \"balanced\"], 'type':'categorical'},\n",
    "    },\n",
    "    \"RandomForestClassifier\": {\n",
    "        'n_estimators': {'low':10, 'high':150, 'step':20, 'type':'int'},\n",
    "        'max_depth': {'low':2, 'high':10, 'type':'int'},\n",
    "        'criterion': {'choices':['gini', 'entropy'], 'type':'categorical'},\n",
    "        'min_samples_leaf' : {\"low\" : 1, \"high\" : 51, \"step\" : 5, 'type':'int'},\n",
    "        \"max_features\" : {\"low\" : 0.1, \"high\" : 1.0, \"type\" : \"float\"},\n",
    "        \"class_weight\" : {\"choices\" : [None, \"balanced\"], 'type':'categorical'},\n",
    "    },\n",
    "    \"LGBMClassifier\": {\n",
    "        'learning_rate': {'low': 0.01, 'high': 1.0, 'type': 'float', 'log': True},\n",
    "        \"num_leaves\" : {\"low\" : 5, \"high\" : 100, \"step\" : 5, 'type':'int'},\n",
    "        'max_depth': {'low': 2, 'high': 10, 'type': 'int'},\n",
    "        'min_child_samples': {'low': 1, 'high': 51, 'step': 5, 'type': 'int'},\n",
    "        'colsample_bytree': {'low': 0.1, 'high': 1.0, 'type': 'float'},\n",
    "        'reg_alpha': {'low': 0.0, 'high': 1.0, 'type': 'float'},\n",
    "        'reg_lambda': {'low': 0.0, 'high': 1.0, 'type': 'float'},\n",
    "        'n_estimators': {'low': 10, 'high': 100, 'step': 10, 'type': 'int'},\n",
    "        \"class_weight\" : {\"choices\" : [None, \"balanced\"], 'type':'categorical'},\n",
    "        \"verbose\" : {\"choices\" : [-1], 'type':'categorical'},\n",
    "\n",
    "    },\n",
    "    \"MLPClassifier\": {\n",
    "        \"hidden_layer_sizes\" : {\"choices\" : [\n",
    "            [128, 64, 32],\n",
    "            [128, 64, 32, 16],\n",
    "            [256, 128, 64, 32, 16],\n",
    "        ], 'type':'categorical'},\n",
    "        \"alpha\" : {'low': 0.0001, 'high': 0.01, 'type': 'float', 'log': True},\n",
    "        \"learning_rate\" : {'choices': ['constant', 'invscaling', 'adaptive'], 'type':'categorical'},\n",
    "        \"learning_rate_init\" : {'low': 0.001, 'high': 0.1, 'type': 'float', 'log': True},\n",
    "        \"early_stopping\" : {'choices': [True], 'type':'categorical'},\n",
    "        \"max_iter\" : {\"choices\" : [50], 'type':'categorical'},\n",
    "    }\n",
    "}"
   ]
  },
  {
   "cell_type": "code",
   "execution_count": null,
   "metadata": {},
   "outputs": [],
   "source": [
    "study_logistic, model_logistic = optimize_model(LogisticRegression, param_spaces[\"LogisticRegression\"], X_train, y_train, X_val , y_val, n_trials=100)\n",
    "joblib.dump(model_logistic, \"models/taiwan_logistic.joblib\")"
   ]
  },
  {
   "cell_type": "code",
   "execution_count": 77,
   "metadata": {},
   "outputs": [
    {
     "name": "stdout",
     "output_type": "stream",
     "text": [
      "Score for Logistic Regression:  0.774217861248903\n",
      "{'C': 0.007270375039865594, 'max_iter': 1000, 'penalty': 'l2', 'class_weight': None}\n"
     ]
    }
   ],
   "source": [
    "print(\"Score for Logistic Regression: \", study_logistic.best_value)\n",
    "print(study_logistic.best_params)"
   ]
  },
  {
   "cell_type": "code",
   "execution_count": null,
   "metadata": {},
   "outputs": [],
   "source": [
    "study_rf, model_rf = optimize_model(RandomForestClassifier, param_spaces[\"RandomForestClassifier\"], X_train, y_train, X_val , y_val, n_trials=100)\n",
    "joblib.dump(model_rf, \"models/taiwan_rf.joblib\")"
   ]
  },
  {
   "cell_type": "code",
   "execution_count": 79,
   "metadata": {},
   "outputs": [
    {
     "name": "stdout",
     "output_type": "stream",
     "text": [
      "Score for Random Forest:  0.7854082215632396\n",
      "{'n_estimators': 70, 'max_depth': 10, 'criterion': 'entropy', 'min_samples_leaf': 41, 'max_features': 0.6223181749192774, 'class_weight': 'balanced'}\n"
     ]
    }
   ],
   "source": [
    "print(\"Score for Random Forest: \", study_rf.best_value)\n",
    "print(study_rf.best_params)"
   ]
  },
  {
   "cell_type": "code",
   "execution_count": null,
   "metadata": {},
   "outputs": [],
   "source": [
    "study_lgbm, model_lgbm = optimize_model(LGBMClassifier, param_spaces[\"LGBMClassifier\"], X_train, y_train, X_val , y_val, n_trials=100)\n",
    "joblib.dump(model_lgbm, \"models/taiwan_lgbm.joblib\")"
   ]
  },
  {
   "cell_type": "code",
   "execution_count": 81,
   "metadata": {},
   "outputs": [
    {
     "name": "stdout",
     "output_type": "stream",
     "text": [
      "Score for LGBM:  0.7877014355542254\n",
      "{'learning_rate': 0.05699910588443634, 'num_leaves': 45, 'max_depth': 10, 'min_child_samples': 16, 'colsample_bytree': 0.3234057672082941, 'reg_alpha': 0.45527006502059564, 'reg_lambda': 0.9669089166677883, 'n_estimators': 80, 'class_weight': 'balanced', 'verbose': -1}\n"
     ]
    }
   ],
   "source": [
    "print(\"Score for LGBM: \", study_lgbm.best_value)\n",
    "print(study_lgbm.best_params)"
   ]
  },
  {
   "cell_type": "code",
   "execution_count": null,
   "metadata": {},
   "outputs": [],
   "source": [
    "study_mlp, model_mlp = optimize_model(MLPClassifier, param_spaces[\"MLPClassifier\"], X_train, y_train, X_val , y_val, n_trials=100)\n",
    "joblib.dump(model_mlp, \"models/taiwan_mlp.joblib\")"
   ]
  },
  {
   "cell_type": "code",
   "execution_count": 83,
   "metadata": {},
   "outputs": [
    {
     "name": "stdout",
     "output_type": "stream",
     "text": [
      "Score for MLP:  0.7859573737025651\n",
      "{'hidden_layer_sizes': [256, 128, 64, 32, 16], 'alpha': 0.0007524655395096057, 'learning_rate': 'constant', 'learning_rate_init': 0.0025686779592416402, 'early_stopping': True, 'max_iter': 50}\n"
     ]
    }
   ],
   "source": [
    "print(\"Score for MLP: \", study_mlp.best_value)\n",
    "print(study_mlp.best_params)"
   ]
  },
  {
   "cell_type": "markdown",
   "metadata": {},
   "source": [
    "## Model evaluation"
   ]
  },
  {
   "cell_type": "code",
   "execution_count": 16,
   "metadata": {},
   "outputs": [
    {
     "name": "stderr",
     "output_type": "stream",
     "text": [
      "Trying to unpickle estimator SimpleImputer from version 1.3.0 when using version 1.3.1. This might lead to breaking code or invalid results. Use at your own risk. For more info please refer to:\n",
      "https://scikit-learn.org/stable/model_persistence.html#security-maintainability-limitations\n",
      "Trying to unpickle estimator StandardScaler from version 1.3.0 when using version 1.3.1. This might lead to breaking code or invalid results. Use at your own risk. For more info please refer to:\n",
      "https://scikit-learn.org/stable/model_persistence.html#security-maintainability-limitations\n",
      "Trying to unpickle estimator Pipeline from version 1.3.0 when using version 1.3.1. This might lead to breaking code or invalid results. Use at your own risk. For more info please refer to:\n",
      "https://scikit-learn.org/stable/model_persistence.html#security-maintainability-limitations\n",
      "Trying to unpickle estimator OneHotEncoder from version 1.3.0 when using version 1.3.1. This might lead to breaking code or invalid results. Use at your own risk. For more info please refer to:\n",
      "https://scikit-learn.org/stable/model_persistence.html#security-maintainability-limitations\n",
      "Trying to unpickle estimator FeatureUnion from version 1.3.0 when using version 1.3.1. This might lead to breaking code or invalid results. Use at your own risk. For more info please refer to:\n",
      "https://scikit-learn.org/stable/model_persistence.html#security-maintainability-limitations\n",
      "Trying to unpickle estimator ColumnTransformer from version 1.3.0 when using version 1.3.1. This might lead to breaking code or invalid results. Use at your own risk. For more info please refer to:\n",
      "https://scikit-learn.org/stable/model_persistence.html#security-maintainability-limitations\n",
      "Trying to unpickle estimator LogisticRegression from version 1.3.0 when using version 1.3.1. This might lead to breaking code or invalid results. Use at your own risk. For more info please refer to:\n",
      "https://scikit-learn.org/stable/model_persistence.html#security-maintainability-limitations\n",
      "Trying to unpickle estimator DecisionTreeClassifier from version 1.3.0 when using version 1.3.1. This might lead to breaking code or invalid results. Use at your own risk. For more info please refer to:\n",
      "https://scikit-learn.org/stable/model_persistence.html#security-maintainability-limitations\n",
      "Trying to unpickle estimator RandomForestClassifier from version 1.3.0 when using version 1.3.1. This might lead to breaking code or invalid results. Use at your own risk. For more info please refer to:\n",
      "https://scikit-learn.org/stable/model_persistence.html#security-maintainability-limitations\n",
      "Trying to unpickle estimator LabelEncoder from version 1.3.0 when using version 1.3.1. This might lead to breaking code or invalid results. Use at your own risk. For more info please refer to:\n",
      "https://scikit-learn.org/stable/model_persistence.html#security-maintainability-limitations\n",
      "Trying to unpickle estimator LabelBinarizer from version 1.3.0 when using version 1.3.1. This might lead to breaking code or invalid results. Use at your own risk. For more info please refer to:\n",
      "https://scikit-learn.org/stable/model_persistence.html#security-maintainability-limitations\n",
      "Trying to unpickle estimator MLPClassifier from version 1.3.0 when using version 1.3.1. This might lead to breaking code or invalid results. Use at your own risk. For more info please refer to:\n",
      "https://scikit-learn.org/stable/model_persistence.html#security-maintainability-limitations\n"
     ]
    }
   ],
   "source": [
    "model_logistic = joblib.load(\"models/taiwan_logistic.joblib\")\n",
    "model_rf = joblib.load(\"models/taiwan_rf.joblib\")\n",
    "model_lgbm = joblib.load(\"models/taiwan_lgbm.joblib\")\n",
    "model_mlp = joblib.load(\"models/taiwan_mlp.joblib\")\n",
    "ks_threshold_dict = {\n",
    "    \"Logistic Regression\" : ks_threshold(y_test, model_logistic.predict_proba(X_test)[:,1]),\n",
    "    \"Random Forest\" : ks_threshold(y_test, model_rf.predict_proba(X_test)[:,1]),\n",
    "    \"LightGBM\" : ks_threshold(y_test, model_lgbm.predict_proba(X_test)[:,1]),\n",
    "    \"MLP\" : ks_threshold(y_test, model_mlp.predict_proba(X_test)[:,1]),\n",
    "}"
   ]
  },
  {
   "cell_type": "code",
   "execution_count": 17,
   "metadata": {},
   "outputs": [],
   "source": [
    "models_dict = {\n",
    "    \"Logistic Regression\" : \n",
    "        [model_logistic, ks_threshold(y_test, model_logistic.predict_proba(X_test)[:,1])],\n",
    "    \"Random Forest\" : \n",
    "        [model_rf, ks_threshold(y_test, model_rf.predict_proba(X_test)[:,1])],\n",
    "    \"LightGBM\" : \n",
    "        [model_lgbm, ks_threshold(y_test, model_lgbm.predict_proba(X_test)[:,1])],\n",
    "    \"MLP\" : \n",
    "        [model_mlp, ks_threshold(y_test, model_mlp.predict_proba(X_test)[:,1])],\n",
    "}"
   ]
  },
  {
   "cell_type": "code",
   "execution_count": 18,
   "metadata": {},
   "outputs": [
    {
     "data": {
      "text/html": [
       "<div>\n",
       "<style scoped>\n",
       "    .dataframe tbody tr th:only-of-type {\n",
       "        vertical-align: middle;\n",
       "    }\n",
       "\n",
       "    .dataframe tbody tr th {\n",
       "        vertical-align: top;\n",
       "    }\n",
       "\n",
       "    .dataframe thead th {\n",
       "        text-align: right;\n",
       "    }\n",
       "</style>\n",
       "<table border=\"1\" class=\"dataframe\">\n",
       "  <thead>\n",
       "    <tr style=\"text-align: right;\">\n",
       "      <th></th>\n",
       "      <th>AUC</th>\n",
       "      <th>Balanced Accuracy</th>\n",
       "      <th>Accuracy</th>\n",
       "      <th>Precision</th>\n",
       "      <th>Recall</th>\n",
       "      <th>F1</th>\n",
       "      <th>Brier Score</th>\n",
       "    </tr>\n",
       "  </thead>\n",
       "  <tbody>\n",
       "    <tr>\n",
       "      <th>Logistic Regression</th>\n",
       "      <td>0.761410</td>\n",
       "      <td>0.700887</td>\n",
       "      <td>0.759333</td>\n",
       "      <td>0.465568</td>\n",
       "      <td>0.596081</td>\n",
       "      <td>0.522802</td>\n",
       "      <td>0.137477</td>\n",
       "    </tr>\n",
       "    <tr>\n",
       "      <th>Random Forest</th>\n",
       "      <td>0.781237</td>\n",
       "      <td>0.714317</td>\n",
       "      <td>0.770167</td>\n",
       "      <td>0.484542</td>\n",
       "      <td>0.614167</td>\n",
       "      <td>0.541708</td>\n",
       "      <td>0.173717</td>\n",
       "    </tr>\n",
       "    <tr>\n",
       "      <th>LightGBM</th>\n",
       "      <td>0.786544</td>\n",
       "      <td>0.715759</td>\n",
       "      <td>0.772833</td>\n",
       "      <td>0.489183</td>\n",
       "      <td>0.613414</td>\n",
       "      <td>0.544300</td>\n",
       "      <td>0.175055</td>\n",
       "    </tr>\n",
       "    <tr>\n",
       "      <th>MLP</th>\n",
       "      <td>0.760713</td>\n",
       "      <td>0.700267</td>\n",
       "      <td>0.734833</td>\n",
       "      <td>0.432584</td>\n",
       "      <td>0.638282</td>\n",
       "      <td>0.515677</td>\n",
       "      <td>0.140906</td>\n",
       "    </tr>\n",
       "  </tbody>\n",
       "</table>\n",
       "</div>"
      ],
      "text/plain": [
       "                          AUC  Balanced Accuracy  Accuracy  Precision  \\\n",
       "Logistic Regression  0.761410           0.700887  0.759333   0.465568   \n",
       "Random Forest        0.781237           0.714317  0.770167   0.484542   \n",
       "LightGBM             0.786544           0.715759  0.772833   0.489183   \n",
       "MLP                  0.760713           0.700267  0.734833   0.432584   \n",
       "\n",
       "                       Recall        F1  Brier Score  \n",
       "Logistic Regression  0.596081  0.522802     0.137477  \n",
       "Random Forest        0.614167  0.541708     0.173717  \n",
       "LightGBM             0.613414  0.544300     0.175055  \n",
       "MLP                  0.638282  0.515677     0.140906  "
      ]
     },
     "execution_count": 18,
     "metadata": {},
     "output_type": "execute_result"
    }
   ],
   "source": [
    "get_metrics(models_dict, X_test, y_test)"
   ]
  },
  {
   "cell_type": "code",
   "execution_count": 19,
   "metadata": {},
   "outputs": [],
   "source": [
    "models_dict_fairness = {\n",
    "    \"Logistic Regression\" : model_logistic.predict_proba(X_test)[:,1] > ks_threshold_dict[\"Logistic Regression\"],\n",
    "    \"Random Forest\" : model_rf.predict_proba(X_test)[:,1] > ks_threshold_dict[\"Random Forest\"],\n",
    "    \"LightGBM\" : model_lgbm.predict_proba(X_test)[:,1] > ks_threshold_dict[\"LightGBM\"],\n",
    "    \"MLP\" : model_mlp.predict_proba(X_test)[:,1] > ks_threshold_dict[\"MLP\"],\n",
    "}\n",
    "    "
   ]
  },
  {
   "cell_type": "code",
   "execution_count": 20,
   "metadata": {},
   "outputs": [
    {
     "data": {
      "text/html": [
       "<div>\n",
       "<style scoped>\n",
       "    .dataframe tbody tr th:only-of-type {\n",
       "        vertical-align: middle;\n",
       "    }\n",
       "\n",
       "    .dataframe tbody tr th {\n",
       "        vertical-align: top;\n",
       "    }\n",
       "\n",
       "    .dataframe thead th {\n",
       "        text-align: right;\n",
       "    }\n",
       "</style>\n",
       "<table border=\"1\" class=\"dataframe\">\n",
       "  <thead>\n",
       "    <tr style=\"text-align: right;\">\n",
       "      <th></th>\n",
       "      <th>DPD</th>\n",
       "      <th>EOD</th>\n",
       "      <th>AOD</th>\n",
       "      <th>APVD</th>\n",
       "      <th>GMA</th>\n",
       "    </tr>\n",
       "  </thead>\n",
       "  <tbody>\n",
       "    <tr>\n",
       "      <th>Logistic Regression</th>\n",
       "      <td>0.053637</td>\n",
       "      <td>0.044866</td>\n",
       "      <td>0.033655</td>\n",
       "      <td>0.012463</td>\n",
       "      <td>0.755477</td>\n",
       "    </tr>\n",
       "    <tr>\n",
       "      <th>Random Forest</th>\n",
       "      <td>0.034219</td>\n",
       "      <td>0.024458</td>\n",
       "      <td>0.013296</td>\n",
       "      <td>0.021046</td>\n",
       "      <td>0.767510</td>\n",
       "    </tr>\n",
       "    <tr>\n",
       "      <th>LightGBM</th>\n",
       "      <td>0.032358</td>\n",
       "      <td>0.023311</td>\n",
       "      <td>0.010348</td>\n",
       "      <td>0.021082</td>\n",
       "      <td>0.770142</td>\n",
       "    </tr>\n",
       "    <tr>\n",
       "      <th>MLP</th>\n",
       "      <td>0.091541</td>\n",
       "      <td>0.084047</td>\n",
       "      <td>0.070255</td>\n",
       "      <td>0.001276</td>\n",
       "      <td>0.728817</td>\n",
       "    </tr>\n",
       "  </tbody>\n",
       "</table>\n",
       "</div>"
      ],
      "text/plain": [
       "                          DPD       EOD       AOD      APVD       GMA\n",
       "Logistic Regression  0.053637  0.044866  0.033655  0.012463  0.755477\n",
       "Random Forest        0.034219  0.024458  0.013296  0.021046  0.767510\n",
       "LightGBM             0.032358  0.023311  0.010348  0.021082  0.770142\n",
       "MLP                  0.091541  0.084047  0.070255  0.001276  0.728817"
      ]
     },
     "execution_count": 20,
     "metadata": {},
     "output_type": "execute_result"
    }
   ],
   "source": [
    "get_fairness_metrics(models_dict_fairness, y_test, A_test, 0)"
   ]
  },
  {
   "cell_type": "markdown",
   "metadata": {},
   "source": [
    "## Fairness"
   ]
  },
  {
   "cell_type": "code",
   "execution_count": 21,
   "metadata": {},
   "outputs": [],
   "source": [
    "pipeline_preprocess = create_pipeline(\n",
    "    X_train,\n",
    "    y_train,\n",
    "    lambda x : x,\n",
    ")[:-1]\n",
    "pipeline_preprocess.fit(X_train, y_train)\n",
    "preprocess_column_names = pipeline_preprocess.get_feature_names_out()\n",
    "X_train_preprocess = pipeline_preprocess.transform(X_train)\n",
    "X_val_preprocess = pipeline_preprocess.transform(X_val)\n",
    "X_test_preprocess = pipeline_preprocess.transform(X_test)"
   ]
  },
  {
   "cell_type": "code",
   "execution_count": 22,
   "metadata": {},
   "outputs": [
    {
     "data": {
      "text/plain": [
       "array(['num__LIMIT_BAL', 'num__AGE', 'num__BILL_AMT1', 'num__BILL_AMT2',\n",
       "       'num__BILL_AMT3', 'num__BILL_AMT4', 'num__BILL_AMT5',\n",
       "       'num__BILL_AMT6', 'num__PAY_AMT1', 'num__PAY_AMT2',\n",
       "       'num__PAY_AMT3', 'num__PAY_AMT4', 'num__PAY_AMT5', 'num__PAY_AMT6',\n",
       "       'cat__SEX_female', 'cat__SEX_male', 'cat__EDUCATION_0',\n",
       "       'cat__EDUCATION_1', 'cat__EDUCATION_2', 'cat__EDUCATION_3',\n",
       "       'cat__EDUCATION_4', 'cat__EDUCATION_5', 'cat__EDUCATION_6',\n",
       "       'cat__MARRIAGE_0', 'cat__MARRIAGE_1', 'cat__MARRIAGE_2',\n",
       "       'cat__MARRIAGE_3', 'cat__PAY_0_-1', 'cat__PAY_0_-2',\n",
       "       'cat__PAY_0_0', 'cat__PAY_0_1', 'cat__PAY_0_2', 'cat__PAY_0_3',\n",
       "       'cat__PAY_0_4', 'cat__PAY_0_5', 'cat__PAY_0_6', 'cat__PAY_0_7',\n",
       "       'cat__PAY_0_8', 'cat__PAY_2_-1', 'cat__PAY_2_-2', 'cat__PAY_2_0',\n",
       "       'cat__PAY_2_1', 'cat__PAY_2_2', 'cat__PAY_2_3', 'cat__PAY_2_4',\n",
       "       'cat__PAY_2_5', 'cat__PAY_2_6', 'cat__PAY_2_7', 'cat__PAY_2_8',\n",
       "       'cat__PAY_3_-1', 'cat__PAY_3_-2', 'cat__PAY_3_0', 'cat__PAY_3_1',\n",
       "       'cat__PAY_3_2', 'cat__PAY_3_3', 'cat__PAY_3_4', 'cat__PAY_3_5',\n",
       "       'cat__PAY_3_6', 'cat__PAY_3_7', 'cat__PAY_3_8', 'cat__PAY_4_-1',\n",
       "       'cat__PAY_4_-2', 'cat__PAY_4_0', 'cat__PAY_4_1', 'cat__PAY_4_2',\n",
       "       'cat__PAY_4_3', 'cat__PAY_4_4', 'cat__PAY_4_5', 'cat__PAY_4_6',\n",
       "       'cat__PAY_4_7', 'cat__PAY_4_8', 'cat__PAY_5_-1', 'cat__PAY_5_-2',\n",
       "       'cat__PAY_5_0', 'cat__PAY_5_2', 'cat__PAY_5_3', 'cat__PAY_5_4',\n",
       "       'cat__PAY_5_5', 'cat__PAY_5_6', 'cat__PAY_5_7', 'cat__PAY_5_8',\n",
       "       'cat__PAY_6_-1', 'cat__PAY_6_-2', 'cat__PAY_6_0', 'cat__PAY_6_2',\n",
       "       'cat__PAY_6_3', 'cat__PAY_6_4', 'cat__PAY_6_5', 'cat__PAY_6_6',\n",
       "       'cat__PAY_6_7', 'cat__PAY_6_8'], dtype=object)"
      ]
     },
     "execution_count": 22,
     "metadata": {},
     "output_type": "execute_result"
    }
   ],
   "source": [
    "preprocess_column_names"
   ]
  },
  {
   "cell_type": "markdown",
   "metadata": {},
   "source": [
    "## Pre-processing (Reweighing / AIF360)"
   ]
  },
  {
   "cell_type": "code",
   "execution_count": 23,
   "metadata": {},
   "outputs": [
    {
     "data": {
      "text/plain": [
       "(19200, 91)"
      ]
     },
     "execution_count": 23,
     "metadata": {},
     "output_type": "execute_result"
    }
   ],
   "source": [
    "X_train_preprocess.shape"
   ]
  },
  {
   "cell_type": "code",
   "execution_count": 24,
   "metadata": {},
   "outputs": [
    {
     "data": {
      "text/plain": [
       "(91,)"
      ]
     },
     "execution_count": 24,
     "metadata": {},
     "output_type": "execute_result"
    }
   ],
   "source": [
    "preprocess_column_names.shape"
   ]
  },
  {
   "cell_type": "code",
   "execution_count": 25,
   "metadata": {},
   "outputs": [],
   "source": [
    "df_rw = pd.DataFrame(\n",
    "    X_train_preprocess.todense(),\n",
    "    columns = preprocess_column_names\n",
    ")\n",
    "df_rw[\"default payment next month\"] = y_train.values\n",
    "x_train_aif = BinaryLabelDataset(\n",
    "    df = df_rw,\n",
    "    label_names = [\"default payment next month\"],\n",
    "    protected_attribute_names = [\"cat__SEX_female\"]\n",
    ")\n",
    "    "
   ]
  },
  {
   "cell_type": "code",
   "execution_count": 26,
   "metadata": {},
   "outputs": [
    {
     "name": "stderr",
     "output_type": "stream",
     "text": [
      "elementwise comparison failed; returning scalar instead, but in the future will perform elementwise comparison\n",
      "invalid value encountered in scalar divide\n",
      "invalid value encountered in scalar divide\n",
      "invalid value encountered in scalar divide\n",
      "invalid value encountered in scalar divide\n"
     ]
    }
   ],
   "source": [
    "rw = Reweighing(\n",
    "    unprivileged_groups = [{\"cat__SEX_female\": 'female'}],\n",
    "    privileged_groups = [{\"cat__SEX_female\": 'male'}],\n",
    ")\n",
    "rw.fit(x_train_aif)\n",
    "rw_weights = rw.transform(x_train_aif).instance_weights"
   ]
  },
  {
   "cell_type": "code",
   "execution_count": 27,
   "metadata": {},
   "outputs": [],
   "source": [
    "best_params_lgbm = {'learning_rate': 0.05699910588443634, 'num_leaves': 45, 'max_depth': 10, 'min_child_samples': 16, 'colsample_bytree': 0.3234057672082941, 'reg_alpha': 0.45527006502059564, 'reg_lambda': 0.9669089166677883, 'n_estimators': 80, 'class_weight': 'balanced', 'verbose': -1}\n",
    "rw_model = LGBMClassifier(**best_params_lgbm)\n",
    "rw_model.fit(X_train_preprocess, y_train, sample_weight=rw_weights);\n",
    "rw_threshold = ks_threshold(y_val, rw_model.predict_proba(X_val_preprocess)[:,1])\n",
    "models_dict_fairness[\"Reweighing\"] = rw_model.predict_proba(X_test_preprocess)[:,1] > rw_threshold"
   ]
  },
  {
   "cell_type": "markdown",
   "metadata": {},
   "source": [
    "## In-processing\n"
   ]
  },
  {
   "cell_type": "markdown",
   "metadata": {},
   "source": [
    "## EqualOpportunityClassifier"
   ]
  },
  {
   "cell_type": "code",
   "execution_count": 28,
   "metadata": {},
   "outputs": [
    {
     "data": {
      "text/html": [
       "<div>\n",
       "<style scoped>\n",
       "    .dataframe tbody tr th:only-of-type {\n",
       "        vertical-align: middle;\n",
       "    }\n",
       "\n",
       "    .dataframe tbody tr th {\n",
       "        vertical-align: top;\n",
       "    }\n",
       "\n",
       "    .dataframe thead th {\n",
       "        text-align: right;\n",
       "    }\n",
       "</style>\n",
       "<table border=\"1\" class=\"dataframe\">\n",
       "  <thead>\n",
       "    <tr style=\"text-align: right;\">\n",
       "      <th></th>\n",
       "      <th>LIMIT_BAL</th>\n",
       "      <th>SEX</th>\n",
       "      <th>EDUCATION</th>\n",
       "      <th>MARRIAGE</th>\n",
       "      <th>AGE</th>\n",
       "      <th>PAY_0</th>\n",
       "      <th>PAY_2</th>\n",
       "      <th>PAY_3</th>\n",
       "      <th>PAY_4</th>\n",
       "      <th>PAY_5</th>\n",
       "      <th>...</th>\n",
       "      <th>BILL_AMT3</th>\n",
       "      <th>BILL_AMT4</th>\n",
       "      <th>BILL_AMT5</th>\n",
       "      <th>BILL_AMT6</th>\n",
       "      <th>PAY_AMT1</th>\n",
       "      <th>PAY_AMT2</th>\n",
       "      <th>PAY_AMT3</th>\n",
       "      <th>PAY_AMT4</th>\n",
       "      <th>PAY_AMT5</th>\n",
       "      <th>PAY_AMT6</th>\n",
       "    </tr>\n",
       "  </thead>\n",
       "  <tbody>\n",
       "    <tr>\n",
       "      <th>10909</th>\n",
       "      <td>150000.0</td>\n",
       "      <td>female</td>\n",
       "      <td>1</td>\n",
       "      <td>2</td>\n",
       "      <td>30.0</td>\n",
       "      <td>0</td>\n",
       "      <td>0</td>\n",
       "      <td>2</td>\n",
       "      <td>0</td>\n",
       "      <td>-1</td>\n",
       "      <td>...</td>\n",
       "      <td>2700.0</td>\n",
       "      <td>1500.0</td>\n",
       "      <td>18439.0</td>\n",
       "      <td>1381.0</td>\n",
       "      <td>4908.0</td>\n",
       "      <td>0.0</td>\n",
       "      <td>0.0</td>\n",
       "      <td>18439.0</td>\n",
       "      <td>1381.0</td>\n",
       "      <td>0.0</td>\n",
       "    </tr>\n",
       "    <tr>\n",
       "      <th>12437</th>\n",
       "      <td>50000.0</td>\n",
       "      <td>male</td>\n",
       "      <td>1</td>\n",
       "      <td>1</td>\n",
       "      <td>47.0</td>\n",
       "      <td>0</td>\n",
       "      <td>0</td>\n",
       "      <td>0</td>\n",
       "      <td>0</td>\n",
       "      <td>0</td>\n",
       "      <td>...</td>\n",
       "      <td>17274.0</td>\n",
       "      <td>19975.0</td>\n",
       "      <td>23632.0</td>\n",
       "      <td>25242.0</td>\n",
       "      <td>5000.0</td>\n",
       "      <td>2000.0</td>\n",
       "      <td>3000.0</td>\n",
       "      <td>4000.0</td>\n",
       "      <td>2000.0</td>\n",
       "      <td>0.0</td>\n",
       "    </tr>\n",
       "    <tr>\n",
       "      <th>13324</th>\n",
       "      <td>50000.0</td>\n",
       "      <td>female</td>\n",
       "      <td>2</td>\n",
       "      <td>2</td>\n",
       "      <td>54.0</td>\n",
       "      <td>0</td>\n",
       "      <td>0</td>\n",
       "      <td>0</td>\n",
       "      <td>0</td>\n",
       "      <td>0</td>\n",
       "      <td>...</td>\n",
       "      <td>10010.0</td>\n",
       "      <td>9357.0</td>\n",
       "      <td>8714.0</td>\n",
       "      <td>9733.0</td>\n",
       "      <td>1121.0</td>\n",
       "      <td>6135.0</td>\n",
       "      <td>308.0</td>\n",
       "      <td>316.0</td>\n",
       "      <td>2000.0</td>\n",
       "      <td>500.0</td>\n",
       "    </tr>\n",
       "    <tr>\n",
       "      <th>10756</th>\n",
       "      <td>50000.0</td>\n",
       "      <td>female</td>\n",
       "      <td>2</td>\n",
       "      <td>1</td>\n",
       "      <td>42.0</td>\n",
       "      <td>0</td>\n",
       "      <td>0</td>\n",
       "      <td>0</td>\n",
       "      <td>0</td>\n",
       "      <td>0</td>\n",
       "      <td>...</td>\n",
       "      <td>13953.0</td>\n",
       "      <td>13924.0</td>\n",
       "      <td>14399.0</td>\n",
       "      <td>14610.0</td>\n",
       "      <td>1216.0</td>\n",
       "      <td>1528.0</td>\n",
       "      <td>499.0</td>\n",
       "      <td>700.0</td>\n",
       "      <td>600.0</td>\n",
       "      <td>541.0</td>\n",
       "    </tr>\n",
       "    <tr>\n",
       "      <th>21912</th>\n",
       "      <td>130000.0</td>\n",
       "      <td>female</td>\n",
       "      <td>1</td>\n",
       "      <td>2</td>\n",
       "      <td>24.0</td>\n",
       "      <td>0</td>\n",
       "      <td>0</td>\n",
       "      <td>2</td>\n",
       "      <td>0</td>\n",
       "      <td>-1</td>\n",
       "      <td>...</td>\n",
       "      <td>13371.0</td>\n",
       "      <td>4405.0</td>\n",
       "      <td>1292.0</td>\n",
       "      <td>390.0</td>\n",
       "      <td>4176.0</td>\n",
       "      <td>0.0</td>\n",
       "      <td>1000.0</td>\n",
       "      <td>1292.0</td>\n",
       "      <td>390.0</td>\n",
       "      <td>2165.0</td>\n",
       "    </tr>\n",
       "    <tr>\n",
       "      <th>...</th>\n",
       "      <td>...</td>\n",
       "      <td>...</td>\n",
       "      <td>...</td>\n",
       "      <td>...</td>\n",
       "      <td>...</td>\n",
       "      <td>...</td>\n",
       "      <td>...</td>\n",
       "      <td>...</td>\n",
       "      <td>...</td>\n",
       "      <td>...</td>\n",
       "      <td>...</td>\n",
       "      <td>...</td>\n",
       "      <td>...</td>\n",
       "      <td>...</td>\n",
       "      <td>...</td>\n",
       "      <td>...</td>\n",
       "      <td>...</td>\n",
       "      <td>...</td>\n",
       "      <td>...</td>\n",
       "      <td>...</td>\n",
       "      <td>...</td>\n",
       "    </tr>\n",
       "    <tr>\n",
       "      <th>12669</th>\n",
       "      <td>500000.0</td>\n",
       "      <td>male</td>\n",
       "      <td>1</td>\n",
       "      <td>2</td>\n",
       "      <td>42.0</td>\n",
       "      <td>-2</td>\n",
       "      <td>-2</td>\n",
       "      <td>-2</td>\n",
       "      <td>-2</td>\n",
       "      <td>-2</td>\n",
       "      <td>...</td>\n",
       "      <td>0.0</td>\n",
       "      <td>0.0</td>\n",
       "      <td>0.0</td>\n",
       "      <td>0.0</td>\n",
       "      <td>0.0</td>\n",
       "      <td>0.0</td>\n",
       "      <td>0.0</td>\n",
       "      <td>0.0</td>\n",
       "      <td>0.0</td>\n",
       "      <td>0.0</td>\n",
       "    </tr>\n",
       "    <tr>\n",
       "      <th>8930</th>\n",
       "      <td>10000.0</td>\n",
       "      <td>male</td>\n",
       "      <td>2</td>\n",
       "      <td>2</td>\n",
       "      <td>29.0</td>\n",
       "      <td>2</td>\n",
       "      <td>2</td>\n",
       "      <td>2</td>\n",
       "      <td>2</td>\n",
       "      <td>3</td>\n",
       "      <td>...</td>\n",
       "      <td>8480.0</td>\n",
       "      <td>9089.0</td>\n",
       "      <td>8658.0</td>\n",
       "      <td>8372.0</td>\n",
       "      <td>2600.0</td>\n",
       "      <td>600.0</td>\n",
       "      <td>895.0</td>\n",
       "      <td>0.0</td>\n",
       "      <td>0.0</td>\n",
       "      <td>764.0</td>\n",
       "    </tr>\n",
       "    <tr>\n",
       "      <th>6294</th>\n",
       "      <td>280000.0</td>\n",
       "      <td>male</td>\n",
       "      <td>1</td>\n",
       "      <td>1</td>\n",
       "      <td>55.0</td>\n",
       "      <td>-1</td>\n",
       "      <td>-1</td>\n",
       "      <td>0</td>\n",
       "      <td>0</td>\n",
       "      <td>2</td>\n",
       "      <td>...</td>\n",
       "      <td>4906.0</td>\n",
       "      <td>4707.0</td>\n",
       "      <td>2254.0</td>\n",
       "      <td>5375.0</td>\n",
       "      <td>4917.0</td>\n",
       "      <td>2453.0</td>\n",
       "      <td>2254.0</td>\n",
       "      <td>0.0</td>\n",
       "      <td>5375.0</td>\n",
       "      <td>1165.0</td>\n",
       "    </tr>\n",
       "    <tr>\n",
       "      <th>11669</th>\n",
       "      <td>50000.0</td>\n",
       "      <td>female</td>\n",
       "      <td>2</td>\n",
       "      <td>2</td>\n",
       "      <td>23.0</td>\n",
       "      <td>0</td>\n",
       "      <td>0</td>\n",
       "      <td>0</td>\n",
       "      <td>0</td>\n",
       "      <td>0</td>\n",
       "      <td>...</td>\n",
       "      <td>28528.0</td>\n",
       "      <td>28102.0</td>\n",
       "      <td>25574.0</td>\n",
       "      <td>26524.0</td>\n",
       "      <td>1901.0</td>\n",
       "      <td>1900.0</td>\n",
       "      <td>1050.0</td>\n",
       "      <td>1000.0</td>\n",
       "      <td>2000.0</td>\n",
       "      <td>2500.0</td>\n",
       "    </tr>\n",
       "    <tr>\n",
       "      <th>14895</th>\n",
       "      <td>60000.0</td>\n",
       "      <td>female</td>\n",
       "      <td>2</td>\n",
       "      <td>2</td>\n",
       "      <td>30.0</td>\n",
       "      <td>0</td>\n",
       "      <td>0</td>\n",
       "      <td>0</td>\n",
       "      <td>0</td>\n",
       "      <td>0</td>\n",
       "      <td>...</td>\n",
       "      <td>60850.0</td>\n",
       "      <td>40548.0</td>\n",
       "      <td>40580.0</td>\n",
       "      <td>40416.0</td>\n",
       "      <td>3205.0</td>\n",
       "      <td>2850.0</td>\n",
       "      <td>1578.0</td>\n",
       "      <td>1580.0</td>\n",
       "      <td>1416.0</td>\n",
       "      <td>2512.0</td>\n",
       "    </tr>\n",
       "  </tbody>\n",
       "</table>\n",
       "<p>19200 rows × 23 columns</p>\n",
       "</div>"
      ],
      "text/plain": [
       "       LIMIT_BAL     SEX EDUCATION MARRIAGE   AGE PAY_0 PAY_2 PAY_3 PAY_4  \\\n",
       "10909   150000.0  female         1        2  30.0     0     0     2     0   \n",
       "12437    50000.0    male         1        1  47.0     0     0     0     0   \n",
       "13324    50000.0  female         2        2  54.0     0     0     0     0   \n",
       "10756    50000.0  female         2        1  42.0     0     0     0     0   \n",
       "21912   130000.0  female         1        2  24.0     0     0     2     0   \n",
       "...          ...     ...       ...      ...   ...   ...   ...   ...   ...   \n",
       "12669   500000.0    male         1        2  42.0    -2    -2    -2    -2   \n",
       "8930     10000.0    male         2        2  29.0     2     2     2     2   \n",
       "6294    280000.0    male         1        1  55.0    -1    -1     0     0   \n",
       "11669    50000.0  female         2        2  23.0     0     0     0     0   \n",
       "14895    60000.0  female         2        2  30.0     0     0     0     0   \n",
       "\n",
       "      PAY_5  ... BILL_AMT3  BILL_AMT4  BILL_AMT5  BILL_AMT6  PAY_AMT1  \\\n",
       "10909    -1  ...    2700.0     1500.0    18439.0     1381.0    4908.0   \n",
       "12437     0  ...   17274.0    19975.0    23632.0    25242.0    5000.0   \n",
       "13324     0  ...   10010.0     9357.0     8714.0     9733.0    1121.0   \n",
       "10756     0  ...   13953.0    13924.0    14399.0    14610.0    1216.0   \n",
       "21912    -1  ...   13371.0     4405.0     1292.0      390.0    4176.0   \n",
       "...     ...  ...       ...        ...        ...        ...       ...   \n",
       "12669    -2  ...       0.0        0.0        0.0        0.0       0.0   \n",
       "8930      3  ...    8480.0     9089.0     8658.0     8372.0    2600.0   \n",
       "6294      2  ...    4906.0     4707.0     2254.0     5375.0    4917.0   \n",
       "11669     0  ...   28528.0    28102.0    25574.0    26524.0    1901.0   \n",
       "14895     0  ...   60850.0    40548.0    40580.0    40416.0    3205.0   \n",
       "\n",
       "       PAY_AMT2  PAY_AMT3  PAY_AMT4  PAY_AMT5  PAY_AMT6  \n",
       "10909       0.0       0.0   18439.0    1381.0       0.0  \n",
       "12437    2000.0    3000.0    4000.0    2000.0       0.0  \n",
       "13324    6135.0     308.0     316.0    2000.0     500.0  \n",
       "10756    1528.0     499.0     700.0     600.0     541.0  \n",
       "21912       0.0    1000.0    1292.0     390.0    2165.0  \n",
       "...         ...       ...       ...       ...       ...  \n",
       "12669       0.0       0.0       0.0       0.0       0.0  \n",
       "8930      600.0     895.0       0.0       0.0     764.0  \n",
       "6294     2453.0    2254.0       0.0    5375.0    1165.0  \n",
       "11669    1900.0    1050.0    1000.0    2000.0    2500.0  \n",
       "14895    2850.0    1578.0    1580.0    1416.0    2512.0  \n",
       "\n",
       "[19200 rows x 23 columns]"
      ]
     },
     "execution_count": 28,
     "metadata": {},
     "output_type": "execute_result"
    }
   ],
   "source": [
    "X_train"
   ]
  },
  {
   "cell_type": "code",
   "execution_count": 29,
   "metadata": {},
   "outputs": [],
   "source": [
    "gender_col_idx = np.where(preprocess_column_names == \"cat__SEX_female\")[0][0]\n",
    "eop_class = EqualOpportunityClassifier(\n",
    "        covariance_threshold = 0.2,\n",
    "        sensitive_cols = gender_col_idx,\n",
    "        positive_target = 1\n",
    ")\n",
    "eop_class.fit(X_train_preprocess.toarray(), y_train)\n",
    "eoq_ks_threshold = ks_threshold(y_val, eop_class.predict_proba(X_val_preprocess.toarray())[:,1])\n",
    "models_dict_fairness[\"Equal Opportunity\"] = eop_class.predict_proba(X_test_preprocess.toarray())[:,1] > eoq_ks_threshold"
   ]
  },
  {
   "cell_type": "markdown",
   "metadata": {
    "jp-MarkdownHeadingCollapsed": true
   },
   "source": [
    "## FairGBM"
   ]
  },
  {
   "cell_type": "code",
   "execution_count": 31,
   "metadata": {},
   "outputs": [
    {
     "ename": "NameError",
     "evalue": "name 'FairGBMClassifier' is not defined",
     "output_type": "error",
     "traceback": [
      "\u001b[0;31m---------------------------------------------------------------------------\u001b[0m",
      "\u001b[0;31mNameError\u001b[0m                                 Traceback (most recent call last)",
      "Cell \u001b[0;32mIn[31], line 2\u001b[0m\n\u001b[1;32m      1\u001b[0m best_params_lgbm \u001b[38;5;241m=\u001b[39m {\u001b[38;5;124m'\u001b[39m\u001b[38;5;124mlearning_rate\u001b[39m\u001b[38;5;124m'\u001b[39m: \u001b[38;5;241m0.05699910588443634\u001b[39m, \u001b[38;5;124m'\u001b[39m\u001b[38;5;124mnum_leaves\u001b[39m\u001b[38;5;124m'\u001b[39m: \u001b[38;5;241m45\u001b[39m, \u001b[38;5;124m'\u001b[39m\u001b[38;5;124mmax_depth\u001b[39m\u001b[38;5;124m'\u001b[39m: \u001b[38;5;241m10\u001b[39m, \u001b[38;5;124m'\u001b[39m\u001b[38;5;124mmin_child_samples\u001b[39m\u001b[38;5;124m'\u001b[39m: \u001b[38;5;241m16\u001b[39m, \u001b[38;5;124m'\u001b[39m\u001b[38;5;124mcolsample_bytree\u001b[39m\u001b[38;5;124m'\u001b[39m: \u001b[38;5;241m0.3234057672082941\u001b[39m, \u001b[38;5;124m'\u001b[39m\u001b[38;5;124mreg_alpha\u001b[39m\u001b[38;5;124m'\u001b[39m: \u001b[38;5;241m0.45527006502059564\u001b[39m, \u001b[38;5;124m'\u001b[39m\u001b[38;5;124mreg_lambda\u001b[39m\u001b[38;5;124m'\u001b[39m: \u001b[38;5;241m0.9669089166677883\u001b[39m, \u001b[38;5;124m'\u001b[39m\u001b[38;5;124mn_estimators\u001b[39m\u001b[38;5;124m'\u001b[39m: \u001b[38;5;241m80\u001b[39m, \u001b[38;5;124m'\u001b[39m\u001b[38;5;124mclass_weight\u001b[39m\u001b[38;5;124m'\u001b[39m: \u001b[38;5;124m'\u001b[39m\u001b[38;5;124mbalanced\u001b[39m\u001b[38;5;124m'\u001b[39m, \u001b[38;5;124m'\u001b[39m\u001b[38;5;124mverbose\u001b[39m\u001b[38;5;124m'\u001b[39m: \u001b[38;5;241m-\u001b[39m\u001b[38;5;241m1\u001b[39m}\n\u001b[0;32m----> 2\u001b[0m fairgbm \u001b[38;5;241m=\u001b[39m \u001b[43mFairGBMClassifier\u001b[49m(\n\u001b[1;32m      3\u001b[0m     constraint_type\u001b[38;5;241m=\u001b[39m\u001b[38;5;124m\"\u001b[39m\u001b[38;5;124mFNR\u001b[39m\u001b[38;5;124m\"\u001b[39m,\n\u001b[1;32m      4\u001b[0m     \u001b[38;5;241m*\u001b[39m\u001b[38;5;241m*\u001b[39mbest_params_lgbm\n\u001b[1;32m      5\u001b[0m )\n\u001b[1;32m      6\u001b[0m fairgbm\u001b[38;5;241m.\u001b[39mfit(X_train_preprocess, y_train, constraint_group\u001b[38;5;241m=\u001b[39mA_train);\n",
      "\u001b[0;31mNameError\u001b[0m: name 'FairGBMClassifier' is not defined"
     ]
    }
   ],
   "source": [
    "best_params_lgbm = {'learning_rate': 0.05699910588443634, 'num_leaves': 45, 'max_depth': 10, 'min_child_samples': 16, 'colsample_bytree': 0.3234057672082941, 'reg_alpha': 0.45527006502059564, 'reg_lambda': 0.9669089166677883, 'n_estimators': 80, 'class_weight': 'balanced', 'verbose': -1}\n",
    "fairgbm = FairGBMClassifier(\n",
    "    constraint_type=\"FNR\",\n",
    "    **best_params_lgbm\n",
    ")\n",
    "fairgbm.fit(X_train_preprocess, y_train, constraint_group=A_train);"
   ]
  },
  {
   "cell_type": "markdown",
   "metadata": {},
   "source": [
    "## Post-processing (Threshold-Optimizer / FairLearn)"
   ]
  },
  {
   "cell_type": "code",
   "execution_count": 30,
   "metadata": {},
   "outputs": [],
   "source": [
    "model_dict_thr_opt = {}\n",
    "for name, model in models_dict.items():\n",
    "    thr_opt = ThresholdOptimizer(\n",
    "        estimator=model[0],\n",
    "        constraints=\"equalized_odds\",\n",
    "        objective=\"balanced_accuracy_score\",\n",
    "        prefit=True,\n",
    "        predict_method=\"predict_proba\",\n",
    "    )\n",
    "    thr_opt.fit(X_train, y_train, sensitive_features=A_train)\n",
    "    models_dict_fairness[name + \" Thr.Opt.\"] = thr_opt.predict(X_test, sensitive_features=A_test)"
   ]
  },
  {
   "cell_type": "markdown",
   "metadata": {},
   "source": [
    "## Fairness Evaluation"
   ]
  },
  {
   "cell_type": "code",
   "execution_count": 40,
   "metadata": {},
   "outputs": [
    {
     "data": {
      "text/html": [
       "<div>\n",
       "<style scoped>\n",
       "    .dataframe tbody tr th:only-of-type {\n",
       "        vertical-align: middle;\n",
       "    }\n",
       "\n",
       "    .dataframe tbody tr th {\n",
       "        vertical-align: top;\n",
       "    }\n",
       "\n",
       "    .dataframe thead th {\n",
       "        text-align: right;\n",
       "    }\n",
       "</style>\n",
       "<table border=\"1\" class=\"dataframe\">\n",
       "  <thead>\n",
       "    <tr style=\"text-align: right;\">\n",
       "      <th></th>\n",
       "      <th>DPD</th>\n",
       "      <th>EOD</th>\n",
       "      <th>AOD</th>\n",
       "      <th>APVD</th>\n",
       "      <th>GMA</th>\n",
       "    </tr>\n",
       "  </thead>\n",
       "  <tbody>\n",
       "    <tr>\n",
       "      <th>Logistic Regression</th>\n",
       "      <td>-0.053637</td>\n",
       "      <td>-0.022444</td>\n",
       "      <td>-0.033655</td>\n",
       "      <td>-0.012463</td>\n",
       "      <td>0.755477</td>\n",
       "    </tr>\n",
       "    <tr>\n",
       "      <th>Random Forest</th>\n",
       "      <td>-0.034219</td>\n",
       "      <td>-0.002135</td>\n",
       "      <td>-0.013296</td>\n",
       "      <td>-0.021046</td>\n",
       "      <td>0.767510</td>\n",
       "    </tr>\n",
       "    <tr>\n",
       "      <th>LightGBM</th>\n",
       "      <td>-0.032358</td>\n",
       "      <td>0.002616</td>\n",
       "      <td>-0.010348</td>\n",
       "      <td>-0.021082</td>\n",
       "      <td>0.770142</td>\n",
       "    </tr>\n",
       "    <tr>\n",
       "      <th>MLP</th>\n",
       "      <td>-0.091541</td>\n",
       "      <td>-0.056464</td>\n",
       "      <td>-0.070255</td>\n",
       "      <td>-0.001276</td>\n",
       "      <td>0.728817</td>\n",
       "    </tr>\n",
       "    <tr>\n",
       "      <th>Reweighing</th>\n",
       "      <td>-0.033876</td>\n",
       "      <td>0.001930</td>\n",
       "      <td>-0.011650</td>\n",
       "      <td>-0.020556</td>\n",
       "      <td>0.765705</td>\n",
       "    </tr>\n",
       "    <tr>\n",
       "      <th>Equal Opportunity</th>\n",
       "      <td>-0.046819</td>\n",
       "      <td>-0.020714</td>\n",
       "      <td>-0.028612</td>\n",
       "      <td>-0.015340</td>\n",
       "      <td>0.764511</td>\n",
       "    </tr>\n",
       "    <tr>\n",
       "      <th>Logistic Regression Thr.Opt.</th>\n",
       "      <td>0.008259</td>\n",
       "      <td>0.048960</td>\n",
       "      <td>0.031375</td>\n",
       "      <td>-0.042991</td>\n",
       "      <td>0.788152</td>\n",
       "    </tr>\n",
       "    <tr>\n",
       "      <th>Random Forest Thr.Opt.</th>\n",
       "      <td>-0.013522</td>\n",
       "      <td>0.015678</td>\n",
       "      <td>0.006202</td>\n",
       "      <td>-0.032611</td>\n",
       "      <td>0.723577</td>\n",
       "    </tr>\n",
       "    <tr>\n",
       "      <th>LightGBM Thr.Opt.</th>\n",
       "      <td>-0.020575</td>\n",
       "      <td>0.017654</td>\n",
       "      <td>0.002092</td>\n",
       "      <td>-0.029113</td>\n",
       "      <td>0.700801</td>\n",
       "    </tr>\n",
       "    <tr>\n",
       "      <th>MLP Thr.Opt.</th>\n",
       "      <td>0.006053</td>\n",
       "      <td>0.047851</td>\n",
       "      <td>0.029374</td>\n",
       "      <td>-0.038904</td>\n",
       "      <td>0.760579</td>\n",
       "    </tr>\n",
       "  </tbody>\n",
       "</table>\n",
       "</div>"
      ],
      "text/plain": [
       "                                   DPD       EOD       AOD      APVD       GMA\n",
       "Logistic Regression          -0.053637 -0.022444 -0.033655 -0.012463  0.755477\n",
       "Random Forest                -0.034219 -0.002135 -0.013296 -0.021046  0.767510\n",
       "LightGBM                     -0.032358  0.002616 -0.010348 -0.021082  0.770142\n",
       "MLP                          -0.091541 -0.056464 -0.070255 -0.001276  0.728817\n",
       "Reweighing                   -0.033876  0.001930 -0.011650 -0.020556  0.765705\n",
       "Equal Opportunity            -0.046819 -0.020714 -0.028612 -0.015340  0.764511\n",
       "Logistic Regression Thr.Opt.  0.008259  0.048960  0.031375 -0.042991  0.788152\n",
       "Random Forest Thr.Opt.       -0.013522  0.015678  0.006202 -0.032611  0.723577\n",
       "LightGBM Thr.Opt.            -0.020575  0.017654  0.002092 -0.029113  0.700801\n",
       "MLP Thr.Opt.                  0.006053  0.047851  0.029374 -0.038904  0.760579"
      ]
     },
     "execution_count": 40,
     "metadata": {},
     "output_type": "execute_result"
    }
   ],
   "source": [
    "df_metrics_results = get_fairness_metrics(\n",
    "    models_dict_fairness,\n",
    "    y_test,\n",
    "    A_test,\n",
    "    1\n",
    ")\n",
    "df_metrics_results.to_csv(\"results/taiwan_fairness_metrics.csv\")\n",
    "df_metrics_results"
   ]
  },
  {
   "cell_type": "code",
   "execution_count": 39,
   "metadata": {},
   "outputs": [
    {
     "data": {
      "application/vnd.plotly.v1+json": {
       "config": {
        "plotlyServerURL": "https://plot.ly"
       },
       "data": [
        {
         "dimensions": [
          {
           "label": "DPD",
           "range": [
            65,
            100
           ],
           "values": [
            94.63629176272855,
            96.57812387697446,
            96.76416601703957,
            90.84592504132735,
            96.61240207217219,
            95.31812376639964,
            99.17414428908683,
            98.64780813056674,
            97.94247897696174,
            99.39474106140774
           ]
          },
          {
           "label": "EOD",
           "range": [
            65,
            100
           ],
           "values": [
            97.75560064598949,
            99.78651059855251,
            99.73842947257995,
            94.35357341688866,
            99.80698533640687,
            97.92860067819694,
            95.10400706723537,
            98.43218720811996,
            98.23457147984044,
            95.21489272617684
           ]
          },
          {
           "label": "AOD",
           "range": [
            65,
            100
           ],
           "values": [
            96.634524852089,
            98.67036023139586,
            98.96522193364513,
            92.97445175008912,
            98.83503667357651,
            97.1387850048463,
            96.86253789798354,
            99.37982193534528,
            99.79081152397124,
            97.06260805870546
           ]
          },
          {
           "label": "APVD",
           "range": [
            65,
            100
           ],
           "values": [
            98.75373059183893,
            97.89541878724076,
            97.89182081846674,
            99.87241830847579,
            97.94440977280672,
            98.46601500866433,
            95.70087182169172,
            96.73885204910346,
            97.088704377045,
            96.10963601239258
           ]
          },
          {
           "label": "GMA",
           "range": [
            65,
            100
           ],
           "values": [
            75.5477486510106,
            76.75096937624996,
            77.01416548591584,
            72.8816717039254,
            76.57053520519548,
            76.45105627578697,
            78.8151914840882,
            72.35769551402049,
            70.08006369775926,
            76.05788159244305
           ]
          }
         ],
         "line": {
          "color": [
           0,
           1,
           2,
           3,
           4,
           5,
           6,
           7,
           8,
           9
          ],
          "colorscale": [
           [
            0,
            "#440154"
           ],
           [
            0.1111111111111111,
            "#482878"
           ],
           [
            0.2222222222222222,
            "#3e4989"
           ],
           [
            0.3333333333333333,
            "#31688e"
           ],
           [
            0.4444444444444444,
            "#26828e"
           ],
           [
            0.5555555555555556,
            "#1f9e89"
           ],
           [
            0.6666666666666666,
            "#35b779"
           ],
           [
            0.7777777777777778,
            "#6ece58"
           ],
           [
            0.8888888888888888,
            "#b5de2b"
           ],
           [
            1,
            "#fde725"
           ]
          ],
          "showscale": false
         },
         "type": "parcoords"
        },
        {
         "marker": {
          "color": "#440154",
          "size": 10
         },
         "mode": "markers",
         "name": "Logistic Regression",
         "showlegend": true,
         "type": "scatter",
         "x": [
          null
         ],
         "y": [
          null
         ]
        },
        {
         "marker": {
          "color": "#482878",
          "size": 10
         },
         "mode": "markers",
         "name": "Random Forest",
         "showlegend": true,
         "type": "scatter",
         "x": [
          null
         ],
         "y": [
          null
         ]
        },
        {
         "marker": {
          "color": "#3e4989",
          "size": 10
         },
         "mode": "markers",
         "name": "LightGBM",
         "showlegend": true,
         "type": "scatter",
         "x": [
          null
         ],
         "y": [
          null
         ]
        },
        {
         "marker": {
          "color": "#31688e",
          "size": 10
         },
         "mode": "markers",
         "name": "MLP",
         "showlegend": true,
         "type": "scatter",
         "x": [
          null
         ],
         "y": [
          null
         ]
        },
        {
         "marker": {
          "color": "#26828e",
          "size": 10
         },
         "mode": "markers",
         "name": "Reweighing",
         "showlegend": true,
         "type": "scatter",
         "x": [
          null
         ],
         "y": [
          null
         ]
        },
        {
         "marker": {
          "color": "#1f9e89",
          "size": 10
         },
         "mode": "markers",
         "name": "Equal Opportunity",
         "showlegend": true,
         "type": "scatter",
         "x": [
          null
         ],
         "y": [
          null
         ]
        },
        {
         "marker": {
          "color": "#35b779",
          "size": 10
         },
         "mode": "markers",
         "name": "Logistic Regression Thr.Opt.",
         "showlegend": true,
         "type": "scatter",
         "x": [
          null
         ],
         "y": [
          null
         ]
        },
        {
         "marker": {
          "color": "#6ece58",
          "size": 10
         },
         "mode": "markers",
         "name": "Random Forest Thr.Opt.",
         "showlegend": true,
         "type": "scatter",
         "x": [
          null
         ],
         "y": [
          null
         ]
        },
        {
         "marker": {
          "color": "#b5de2b",
          "size": 10
         },
         "mode": "markers",
         "name": "LightGBM Thr.Opt.",
         "showlegend": true,
         "type": "scatter",
         "x": [
          null
         ],
         "y": [
          null
         ]
        },
        {
         "marker": {
          "color": "#fde725",
          "size": 10
         },
         "mode": "markers",
         "name": "MLP Thr.Opt.",
         "showlegend": true,
         "type": "scatter",
         "x": [
          null
         ],
         "y": [
          null
         ]
        }
       ],
       "layout": {
        "autosize": true,
        "margin": {
         "t": 100
        },
        "template": {
         "data": {
          "bar": [
           {
            "error_x": {
             "color": "#2a3f5f"
            },
            "error_y": {
             "color": "#2a3f5f"
            },
            "marker": {
             "line": {
              "color": "#E5ECF6",
              "width": 0.5
             },
             "pattern": {
              "fillmode": "overlay",
              "size": 10,
              "solidity": 0.2
             }
            },
            "type": "bar"
           }
          ],
          "barpolar": [
           {
            "marker": {
             "line": {
              "color": "#E5ECF6",
              "width": 0.5
             },
             "pattern": {
              "fillmode": "overlay",
              "size": 10,
              "solidity": 0.2
             }
            },
            "type": "barpolar"
           }
          ],
          "carpet": [
           {
            "aaxis": {
             "endlinecolor": "#2a3f5f",
             "gridcolor": "white",
             "linecolor": "white",
             "minorgridcolor": "white",
             "startlinecolor": "#2a3f5f"
            },
            "baxis": {
             "endlinecolor": "#2a3f5f",
             "gridcolor": "white",
             "linecolor": "white",
             "minorgridcolor": "white",
             "startlinecolor": "#2a3f5f"
            },
            "type": "carpet"
           }
          ],
          "choropleth": [
           {
            "colorbar": {
             "outlinewidth": 0,
             "ticks": ""
            },
            "type": "choropleth"
           }
          ],
          "contour": [
           {
            "colorbar": {
             "outlinewidth": 0,
             "ticks": ""
            },
            "colorscale": [
             [
              0,
              "#0d0887"
             ],
             [
              0.1111111111111111,
              "#46039f"
             ],
             [
              0.2222222222222222,
              "#7201a8"
             ],
             [
              0.3333333333333333,
              "#9c179e"
             ],
             [
              0.4444444444444444,
              "#bd3786"
             ],
             [
              0.5555555555555556,
              "#d8576b"
             ],
             [
              0.6666666666666666,
              "#ed7953"
             ],
             [
              0.7777777777777778,
              "#fb9f3a"
             ],
             [
              0.8888888888888888,
              "#fdca26"
             ],
             [
              1,
              "#f0f921"
             ]
            ],
            "type": "contour"
           }
          ],
          "contourcarpet": [
           {
            "colorbar": {
             "outlinewidth": 0,
             "ticks": ""
            },
            "type": "contourcarpet"
           }
          ],
          "heatmap": [
           {
            "colorbar": {
             "outlinewidth": 0,
             "ticks": ""
            },
            "colorscale": [
             [
              0,
              "#0d0887"
             ],
             [
              0.1111111111111111,
              "#46039f"
             ],
             [
              0.2222222222222222,
              "#7201a8"
             ],
             [
              0.3333333333333333,
              "#9c179e"
             ],
             [
              0.4444444444444444,
              "#bd3786"
             ],
             [
              0.5555555555555556,
              "#d8576b"
             ],
             [
              0.6666666666666666,
              "#ed7953"
             ],
             [
              0.7777777777777778,
              "#fb9f3a"
             ],
             [
              0.8888888888888888,
              "#fdca26"
             ],
             [
              1,
              "#f0f921"
             ]
            ],
            "type": "heatmap"
           }
          ],
          "heatmapgl": [
           {
            "colorbar": {
             "outlinewidth": 0,
             "ticks": ""
            },
            "colorscale": [
             [
              0,
              "#0d0887"
             ],
             [
              0.1111111111111111,
              "#46039f"
             ],
             [
              0.2222222222222222,
              "#7201a8"
             ],
             [
              0.3333333333333333,
              "#9c179e"
             ],
             [
              0.4444444444444444,
              "#bd3786"
             ],
             [
              0.5555555555555556,
              "#d8576b"
             ],
             [
              0.6666666666666666,
              "#ed7953"
             ],
             [
              0.7777777777777778,
              "#fb9f3a"
             ],
             [
              0.8888888888888888,
              "#fdca26"
             ],
             [
              1,
              "#f0f921"
             ]
            ],
            "type": "heatmapgl"
           }
          ],
          "histogram": [
           {
            "marker": {
             "pattern": {
              "fillmode": "overlay",
              "size": 10,
              "solidity": 0.2
             }
            },
            "type": "histogram"
           }
          ],
          "histogram2d": [
           {
            "colorbar": {
             "outlinewidth": 0,
             "ticks": ""
            },
            "colorscale": [
             [
              0,
              "#0d0887"
             ],
             [
              0.1111111111111111,
              "#46039f"
             ],
             [
              0.2222222222222222,
              "#7201a8"
             ],
             [
              0.3333333333333333,
              "#9c179e"
             ],
             [
              0.4444444444444444,
              "#bd3786"
             ],
             [
              0.5555555555555556,
              "#d8576b"
             ],
             [
              0.6666666666666666,
              "#ed7953"
             ],
             [
              0.7777777777777778,
              "#fb9f3a"
             ],
             [
              0.8888888888888888,
              "#fdca26"
             ],
             [
              1,
              "#f0f921"
             ]
            ],
            "type": "histogram2d"
           }
          ],
          "histogram2dcontour": [
           {
            "colorbar": {
             "outlinewidth": 0,
             "ticks": ""
            },
            "colorscale": [
             [
              0,
              "#0d0887"
             ],
             [
              0.1111111111111111,
              "#46039f"
             ],
             [
              0.2222222222222222,
              "#7201a8"
             ],
             [
              0.3333333333333333,
              "#9c179e"
             ],
             [
              0.4444444444444444,
              "#bd3786"
             ],
             [
              0.5555555555555556,
              "#d8576b"
             ],
             [
              0.6666666666666666,
              "#ed7953"
             ],
             [
              0.7777777777777778,
              "#fb9f3a"
             ],
             [
              0.8888888888888888,
              "#fdca26"
             ],
             [
              1,
              "#f0f921"
             ]
            ],
            "type": "histogram2dcontour"
           }
          ],
          "mesh3d": [
           {
            "colorbar": {
             "outlinewidth": 0,
             "ticks": ""
            },
            "type": "mesh3d"
           }
          ],
          "parcoords": [
           {
            "line": {
             "colorbar": {
              "outlinewidth": 0,
              "ticks": ""
             }
            },
            "type": "parcoords"
           }
          ],
          "pie": [
           {
            "automargin": true,
            "type": "pie"
           }
          ],
          "scatter": [
           {
            "fillpattern": {
             "fillmode": "overlay",
             "size": 10,
             "solidity": 0.2
            },
            "type": "scatter"
           }
          ],
          "scatter3d": [
           {
            "line": {
             "colorbar": {
              "outlinewidth": 0,
              "ticks": ""
             }
            },
            "marker": {
             "colorbar": {
              "outlinewidth": 0,
              "ticks": ""
             }
            },
            "type": "scatter3d"
           }
          ],
          "scattercarpet": [
           {
            "marker": {
             "colorbar": {
              "outlinewidth": 0,
              "ticks": ""
             }
            },
            "type": "scattercarpet"
           }
          ],
          "scattergeo": [
           {
            "marker": {
             "colorbar": {
              "outlinewidth": 0,
              "ticks": ""
             }
            },
            "type": "scattergeo"
           }
          ],
          "scattergl": [
           {
            "marker": {
             "colorbar": {
              "outlinewidth": 0,
              "ticks": ""
             }
            },
            "type": "scattergl"
           }
          ],
          "scattermapbox": [
           {
            "marker": {
             "colorbar": {
              "outlinewidth": 0,
              "ticks": ""
             }
            },
            "type": "scattermapbox"
           }
          ],
          "scatterpolar": [
           {
            "marker": {
             "colorbar": {
              "outlinewidth": 0,
              "ticks": ""
             }
            },
            "type": "scatterpolar"
           }
          ],
          "scatterpolargl": [
           {
            "marker": {
             "colorbar": {
              "outlinewidth": 0,
              "ticks": ""
             }
            },
            "type": "scatterpolargl"
           }
          ],
          "scatterternary": [
           {
            "marker": {
             "colorbar": {
              "outlinewidth": 0,
              "ticks": ""
             }
            },
            "type": "scatterternary"
           }
          ],
          "surface": [
           {
            "colorbar": {
             "outlinewidth": 0,
             "ticks": ""
            },
            "colorscale": [
             [
              0,
              "#0d0887"
             ],
             [
              0.1111111111111111,
              "#46039f"
             ],
             [
              0.2222222222222222,
              "#7201a8"
             ],
             [
              0.3333333333333333,
              "#9c179e"
             ],
             [
              0.4444444444444444,
              "#bd3786"
             ],
             [
              0.5555555555555556,
              "#d8576b"
             ],
             [
              0.6666666666666666,
              "#ed7953"
             ],
             [
              0.7777777777777778,
              "#fb9f3a"
             ],
             [
              0.8888888888888888,
              "#fdca26"
             ],
             [
              1,
              "#f0f921"
             ]
            ],
            "type": "surface"
           }
          ],
          "table": [
           {
            "cells": {
             "fill": {
              "color": "#EBF0F8"
             },
             "line": {
              "color": "white"
             }
            },
            "header": {
             "fill": {
              "color": "#C8D4E3"
             },
             "line": {
              "color": "white"
             }
            },
            "type": "table"
           }
          ]
         },
         "layout": {
          "annotationdefaults": {
           "arrowcolor": "#2a3f5f",
           "arrowhead": 0,
           "arrowwidth": 1
          },
          "autotypenumbers": "strict",
          "coloraxis": {
           "colorbar": {
            "outlinewidth": 0,
            "ticks": ""
           }
          },
          "colorscale": {
           "diverging": [
            [
             0,
             "#8e0152"
            ],
            [
             0.1,
             "#c51b7d"
            ],
            [
             0.2,
             "#de77ae"
            ],
            [
             0.3,
             "#f1b6da"
            ],
            [
             0.4,
             "#fde0ef"
            ],
            [
             0.5,
             "#f7f7f7"
            ],
            [
             0.6,
             "#e6f5d0"
            ],
            [
             0.7,
             "#b8e186"
            ],
            [
             0.8,
             "#7fbc41"
            ],
            [
             0.9,
             "#4d9221"
            ],
            [
             1,
             "#276419"
            ]
           ],
           "sequential": [
            [
             0,
             "#0d0887"
            ],
            [
             0.1111111111111111,
             "#46039f"
            ],
            [
             0.2222222222222222,
             "#7201a8"
            ],
            [
             0.3333333333333333,
             "#9c179e"
            ],
            [
             0.4444444444444444,
             "#bd3786"
            ],
            [
             0.5555555555555556,
             "#d8576b"
            ],
            [
             0.6666666666666666,
             "#ed7953"
            ],
            [
             0.7777777777777778,
             "#fb9f3a"
            ],
            [
             0.8888888888888888,
             "#fdca26"
            ],
            [
             1,
             "#f0f921"
            ]
           ],
           "sequentialminus": [
            [
             0,
             "#0d0887"
            ],
            [
             0.1111111111111111,
             "#46039f"
            ],
            [
             0.2222222222222222,
             "#7201a8"
            ],
            [
             0.3333333333333333,
             "#9c179e"
            ],
            [
             0.4444444444444444,
             "#bd3786"
            ],
            [
             0.5555555555555556,
             "#d8576b"
            ],
            [
             0.6666666666666666,
             "#ed7953"
            ],
            [
             0.7777777777777778,
             "#fb9f3a"
            ],
            [
             0.8888888888888888,
             "#fdca26"
            ],
            [
             1,
             "#f0f921"
            ]
           ]
          },
          "colorway": [
           "#636efa",
           "#EF553B",
           "#00cc96",
           "#ab63fa",
           "#FFA15A",
           "#19d3f3",
           "#FF6692",
           "#B6E880",
           "#FF97FF",
           "#FECB52"
          ],
          "font": {
           "color": "#2a3f5f"
          },
          "geo": {
           "bgcolor": "white",
           "lakecolor": "white",
           "landcolor": "#E5ECF6",
           "showlakes": true,
           "showland": true,
           "subunitcolor": "white"
          },
          "hoverlabel": {
           "align": "left"
          },
          "hovermode": "closest",
          "mapbox": {
           "style": "light"
          },
          "paper_bgcolor": "white",
          "plot_bgcolor": "#E5ECF6",
          "polar": {
           "angularaxis": {
            "gridcolor": "white",
            "linecolor": "white",
            "ticks": ""
           },
           "bgcolor": "#E5ECF6",
           "radialaxis": {
            "gridcolor": "white",
            "linecolor": "white",
            "ticks": ""
           }
          },
          "scene": {
           "xaxis": {
            "backgroundcolor": "#E5ECF6",
            "gridcolor": "white",
            "gridwidth": 2,
            "linecolor": "white",
            "showbackground": true,
            "ticks": "",
            "zerolinecolor": "white"
           },
           "yaxis": {
            "backgroundcolor": "#E5ECF6",
            "gridcolor": "white",
            "gridwidth": 2,
            "linecolor": "white",
            "showbackground": true,
            "ticks": "",
            "zerolinecolor": "white"
           },
           "zaxis": {
            "backgroundcolor": "#E5ECF6",
            "gridcolor": "white",
            "gridwidth": 2,
            "linecolor": "white",
            "showbackground": true,
            "ticks": "",
            "zerolinecolor": "white"
           }
          },
          "shapedefaults": {
           "line": {
            "color": "#2a3f5f"
           }
          },
          "ternary": {
           "aaxis": {
            "gridcolor": "white",
            "linecolor": "white",
            "ticks": ""
           },
           "baxis": {
            "gridcolor": "white",
            "linecolor": "white",
            "ticks": ""
           },
           "bgcolor": "#E5ECF6",
           "caxis": {
            "gridcolor": "white",
            "linecolor": "white",
            "ticks": ""
           }
          },
          "title": {
           "x": 0.05
          },
          "xaxis": {
           "automargin": true,
           "gridcolor": "white",
           "linecolor": "white",
           "ticks": "",
           "title": {
            "standoff": 15
           },
           "zerolinecolor": "white",
           "zerolinewidth": 2
          },
          "yaxis": {
           "automargin": true,
           "gridcolor": "white",
           "linecolor": "white",
           "ticks": "",
           "title": {
            "standoff": 15
           },
           "zerolinecolor": "white",
           "zerolinewidth": 2
          }
         }
        },
        "title": {
         "text": "Parallel Coordinates Plot for Taiwan"
        },
        "xaxis": {
         "autorange": true,
         "range": [
          -1,
          6
         ]
        },
        "yaxis": {
         "autorange": true,
         "range": [
          -1,
          4
         ]
        }
       }
      },
      "image/png": "[encoded data removed]",
      "text/html": [
       "<div>                            <div id=\"a9ccdd60-ef4b-4df1-a4c7-53d278f5dcc2\" class=\"plotly-graph-div\" style=\"height:525px; width:100%;\"></div>            <script type=\"text/javascript\">                require([\"plotly\"], function(Plotly) {                    window.PLOTLYENV=window.PLOTLYENV || {};                                    if (document.getElementById(\"a9ccdd60-ef4b-4df1-a4c7-53d278f5dcc2\")) {                    Plotly.newPlot(                        \"a9ccdd60-ef4b-4df1-a4c7-53d278f5dcc2\",                        [{\"dimensions\":[{\"label\":\"DPD\",\"range\":[65,100],\"values\":[94.63629176272855,96.57812387697446,96.76416601703957,90.84592504132735,96.61240207217219,95.31812376639964,99.17414428908683,98.64780813056674,97.94247897696174,99.39474106140774]},{\"label\":\"EOD\",\"range\":[65,100],\"values\":[97.75560064598949,99.78651059855251,99.73842947257995,94.35357341688866,99.80698533640687,97.92860067819694,95.10400706723537,98.43218720811996,98.23457147984044,95.21489272617684]},{\"label\":\"AOD\",\"range\":[65,100],\"values\":[96.634524852089,98.67036023139586,98.96522193364513,92.97445175008912,98.83503667357651,97.1387850048463,96.86253789798354,99.37982193534528,99.79081152397124,97.06260805870546]},{\"label\":\"APVD\",\"range\":[65,100],\"values\":[98.75373059183893,97.89541878724076,97.89182081846674,99.87241830847579,97.94440977280672,98.46601500866433,95.70087182169172,96.73885204910346,97.088704377045,96.10963601239258]},{\"label\":\"GMA\",\"range\":[65,100],\"values\":[75.5477486510106,76.75096937624996,77.01416548591584,72.8816717039254,76.57053520519548,76.45105627578697,78.8151914840882,72.35769551402049,70.08006369775926,76.05788159244305]}],\"line\":{\"color\":[0,1,2,3,4,5,6,7,8,9],\"colorscale\":[[0.0,\"#440154\"],[0.1111111111111111,\"#482878\"],[0.2222222222222222,\"#3e4989\"],[0.3333333333333333,\"#31688e\"],[0.4444444444444444,\"#26828e\"],[0.5555555555555556,\"#1f9e89\"],[0.6666666666666666,\"#35b779\"],[0.7777777777777778,\"#6ece58\"],[0.8888888888888888,\"#b5de2b\"],[1.0,\"#fde725\"]],\"showscale\":false},\"type\":\"parcoords\"},{\"marker\":{\"color\":\"#440154\",\"size\":10},\"mode\":\"markers\",\"name\":\"Logistic Regression\",\"showlegend\":true,\"x\":[null],\"y\":[null],\"type\":\"scatter\"},{\"marker\":{\"color\":\"#482878\",\"size\":10},\"mode\":\"markers\",\"name\":\"Random Forest\",\"showlegend\":true,\"x\":[null],\"y\":[null],\"type\":\"scatter\"},{\"marker\":{\"color\":\"#3e4989\",\"size\":10},\"mode\":\"markers\",\"name\":\"LightGBM\",\"showlegend\":true,\"x\":[null],\"y\":[null],\"type\":\"scatter\"},{\"marker\":{\"color\":\"#31688e\",\"size\":10},\"mode\":\"markers\",\"name\":\"MLP\",\"showlegend\":true,\"x\":[null],\"y\":[null],\"type\":\"scatter\"},{\"marker\":{\"color\":\"#26828e\",\"size\":10},\"mode\":\"markers\",\"name\":\"Reweighing\",\"showlegend\":true,\"x\":[null],\"y\":[null],\"type\":\"scatter\"},{\"marker\":{\"color\":\"#1f9e89\",\"size\":10},\"mode\":\"markers\",\"name\":\"Equal Opportunity\",\"showlegend\":true,\"x\":[null],\"y\":[null],\"type\":\"scatter\"},{\"marker\":{\"color\":\"#35b779\",\"size\":10},\"mode\":\"markers\",\"name\":\"Logistic Regression Thr.Opt.\",\"showlegend\":true,\"x\":[null],\"y\":[null],\"type\":\"scatter\"},{\"marker\":{\"color\":\"#6ece58\",\"size\":10},\"mode\":\"markers\",\"name\":\"Random Forest Thr.Opt.\",\"showlegend\":true,\"x\":[null],\"y\":[null],\"type\":\"scatter\"},{\"marker\":{\"color\":\"#b5de2b\",\"size\":10},\"mode\":\"markers\",\"name\":\"LightGBM Thr.Opt.\",\"showlegend\":true,\"x\":[null],\"y\":[null],\"type\":\"scatter\"},{\"marker\":{\"color\":\"#fde725\",\"size\":10},\"mode\":\"markers\",\"name\":\"MLP Thr.Opt.\",\"showlegend\":true,\"x\":[null],\"y\":[null],\"type\":\"scatter\"}],                        {\"template\":{\"data\":{\"histogram2dcontour\":[{\"type\":\"histogram2dcontour\",\"colorbar\":{\"outlinewidth\":0,\"ticks\":\"\"},\"colorscale\":[[0.0,\"#0d0887\"],[0.1111111111111111,\"#46039f\"],[0.2222222222222222,\"#7201a8\"],[0.3333333333333333,\"#9c179e\"],[0.4444444444444444,\"#bd3786\"],[0.5555555555555556,\"#d8576b\"],[0.6666666666666666,\"#ed7953\"],[0.7777777777777778,\"#fb9f3a\"],[0.8888888888888888,\"#fdca26\"],[1.0,\"#f0f921\"]]}],\"choropleth\":[{\"type\":\"choropleth\",\"colorbar\":{\"outlinewidth\":0,\"ticks\":\"\"}}],\"histogram2d\":[{\"type\":\"histogram2d\",\"colorbar\":{\"outlinewidth\":0,\"ticks\":\"\"},\"colorscale\":[[0.0,\"#0d0887\"],[0.1111111111111111,\"#46039f\"],[0.2222222222222222,\"#7201a8\"],[0.3333333333333333,\"#9c179e\"],[0.4444444444444444,\"#bd3786\"],[0.5555555555555556,\"#d8576b\"],[0.6666666666666666,\"#ed7953\"],[0.7777777777777778,\"#fb9f3a\"],[0.8888888888888888,\"#fdca26\"],[1.0,\"#f0f921\"]]}],\"heatmap\":[{\"type\":\"heatmap\",\"colorbar\":{\"outlinewidth\":0,\"ticks\":\"\"},\"colorscale\":[[0.0,\"#0d0887\"],[0.1111111111111111,\"#46039f\"],[0.2222222222222222,\"#7201a8\"],[0.3333333333333333,\"#9c179e\"],[0.4444444444444444,\"#bd3786\"],[0.5555555555555556,\"#d8576b\"],[0.6666666666666666,\"#ed7953\"],[0.7777777777777778,\"#fb9f3a\"],[0.8888888888888888,\"#fdca26\"],[1.0,\"#f0f921\"]]}],\"heatmapgl\":[{\"type\":\"heatmapgl\",\"colorbar\":{\"outlinewidth\":0,\"ticks\":\"\"},\"colorscale\":[[0.0,\"#0d0887\"],[0.1111111111111111,\"#46039f\"],[0.2222222222222222,\"#7201a8\"],[0.3333333333333333,\"#9c179e\"],[0.4444444444444444,\"#bd3786\"],[0.5555555555555556,\"#d8576b\"],[0.6666666666666666,\"#ed7953\"],[0.7777777777777778,\"#fb9f3a\"],[0.8888888888888888,\"#fdca26\"],[1.0,\"#f0f921\"]]}],\"contourcarpet\":[{\"type\":\"contourcarpet\",\"colorbar\":{\"outlinewidth\":0,\"ticks\":\"\"}}],\"contour\":[{\"type\":\"contour\",\"colorbar\":{\"outlinewidth\":0,\"ticks\":\"\"},\"colorscale\":[[0.0,\"#0d0887\"],[0.1111111111111111,\"#46039f\"],[0.2222222222222222,\"#7201a8\"],[0.3333333333333333,\"#9c179e\"],[0.4444444444444444,\"#bd3786\"],[0.5555555555555556,\"#d8576b\"],[0.6666666666666666,\"#ed7953\"],[0.7777777777777778,\"#fb9f3a\"],[0.8888888888888888,\"#fdca26\"],[1.0,\"#f0f921\"]]}],\"surface\":[{\"type\":\"surface\",\"colorbar\":{\"outlinewidth\":0,\"ticks\":\"\"},\"colorscale\":[[0.0,\"#0d0887\"],[0.1111111111111111,\"#46039f\"],[0.2222222222222222,\"#7201a8\"],[0.3333333333333333,\"#9c179e\"],[0.4444444444444444,\"#bd3786\"],[0.5555555555555556,\"#d8576b\"],[0.6666666666666666,\"#ed7953\"],[0.7777777777777778,\"#fb9f3a\"],[0.8888888888888888,\"#fdca26\"],[1.0,\"#f0f921\"]]}],\"mesh3d\":[{\"type\":\"mesh3d\",\"colorbar\":{\"outlinewidth\":0,\"ticks\":\"\"}}],\"scatter\":[{\"fillpattern\":{\"fillmode\":\"overlay\",\"size\":10,\"solidity\":0.2},\"type\":\"scatter\"}],\"parcoords\":[{\"type\":\"parcoords\",\"line\":{\"colorbar\":{\"outlinewidth\":0,\"ticks\":\"\"}}}],\"scatterpolargl\":[{\"type\":\"scatterpolargl\",\"marker\":{\"colorbar\":{\"outlinewidth\":0,\"ticks\":\"\"}}}],\"bar\":[{\"error_x\":{\"color\":\"#2a3f5f\"},\"error_y\":{\"color\":\"#2a3f5f\"},\"marker\":{\"line\":{\"color\":\"#E5ECF6\",\"width\":0.5},\"pattern\":{\"fillmode\":\"overlay\",\"size\":10,\"solidity\":0.2}},\"type\":\"bar\"}],\"scattergeo\":[{\"type\":\"scattergeo\",\"marker\":{\"colorbar\":{\"outlinewidth\":0,\"ticks\":\"\"}}}],\"scatterpolar\":[{\"type\":\"scatterpolar\",\"marker\":{\"colorbar\":{\"outlinewidth\":0,\"ticks\":\"\"}}}],\"histogram\":[{\"marker\":{\"pattern\":{\"fillmode\":\"overlay\",\"size\":10,\"solidity\":0.2}},\"type\":\"histogram\"}],\"scattergl\":[{\"type\":\"scattergl\",\"marker\":{\"colorbar\":{\"outlinewidth\":0,\"ticks\":\"\"}}}],\"scatter3d\":[{\"type\":\"scatter3d\",\"line\":{\"colorbar\":{\"outlinewidth\":0,\"ticks\":\"\"}},\"marker\":{\"colorbar\":{\"outlinewidth\":0,\"ticks\":\"\"}}}],\"scattermapbox\":[{\"type\":\"scattermapbox\",\"marker\":{\"colorbar\":{\"outlinewidth\":0,\"ticks\":\"\"}}}],\"scatterternary\":[{\"type\":\"scatterternary\",\"marker\":{\"colorbar\":{\"outlinewidth\":0,\"ticks\":\"\"}}}],\"scattercarpet\":[{\"type\":\"scattercarpet\",\"marker\":{\"colorbar\":{\"outlinewidth\":0,\"ticks\":\"\"}}}],\"carpet\":[{\"aaxis\":{\"endlinecolor\":\"#2a3f5f\",\"gridcolor\":\"white\",\"linecolor\":\"white\",\"minorgridcolor\":\"white\",\"startlinecolor\":\"#2a3f5f\"},\"baxis\":{\"endlinecolor\":\"#2a3f5f\",\"gridcolor\":\"white\",\"linecolor\":\"white\",\"minorgridcolor\":\"white\",\"startlinecolor\":\"#2a3f5f\"},\"type\":\"carpet\"}],\"table\":[{\"cells\":{\"fill\":{\"color\":\"#EBF0F8\"},\"line\":{\"color\":\"white\"}},\"header\":{\"fill\":{\"color\":\"#C8D4E3\"},\"line\":{\"color\":\"white\"}},\"type\":\"table\"}],\"barpolar\":[{\"marker\":{\"line\":{\"color\":\"#E5ECF6\",\"width\":0.5},\"pattern\":{\"fillmode\":\"overlay\",\"size\":10,\"solidity\":0.2}},\"type\":\"barpolar\"}],\"pie\":[{\"automargin\":true,\"type\":\"pie\"}]},\"layout\":{\"autotypenumbers\":\"strict\",\"colorway\":[\"#636efa\",\"#EF553B\",\"#00cc96\",\"#ab63fa\",\"#FFA15A\",\"#19d3f3\",\"#FF6692\",\"#B6E880\",\"#FF97FF\",\"#FECB52\"],\"font\":{\"color\":\"#2a3f5f\"},\"hovermode\":\"closest\",\"hoverlabel\":{\"align\":\"left\"},\"paper_bgcolor\":\"white\",\"plot_bgcolor\":\"#E5ECF6\",\"polar\":{\"bgcolor\":\"#E5ECF6\",\"angularaxis\":{\"gridcolor\":\"white\",\"linecolor\":\"white\",\"ticks\":\"\"},\"radialaxis\":{\"gridcolor\":\"white\",\"linecolor\":\"white\",\"ticks\":\"\"}},\"ternary\":{\"bgcolor\":\"#E5ECF6\",\"aaxis\":{\"gridcolor\":\"white\",\"linecolor\":\"white\",\"ticks\":\"\"},\"baxis\":{\"gridcolor\":\"white\",\"linecolor\":\"white\",\"ticks\":\"\"},\"caxis\":{\"gridcolor\":\"white\",\"linecolor\":\"white\",\"ticks\":\"\"}},\"coloraxis\":{\"colorbar\":{\"outlinewidth\":0,\"ticks\":\"\"}},\"colorscale\":{\"sequential\":[[0.0,\"#0d0887\"],[0.1111111111111111,\"#46039f\"],[0.2222222222222222,\"#7201a8\"],[0.3333333333333333,\"#9c179e\"],[0.4444444444444444,\"#bd3786\"],[0.5555555555555556,\"#d8576b\"],[0.6666666666666666,\"#ed7953\"],[0.7777777777777778,\"#fb9f3a\"],[0.8888888888888888,\"#fdca26\"],[1.0,\"#f0f921\"]],\"sequentialminus\":[[0.0,\"#0d0887\"],[0.1111111111111111,\"#46039f\"],[0.2222222222222222,\"#7201a8\"],[0.3333333333333333,\"#9c179e\"],[0.4444444444444444,\"#bd3786\"],[0.5555555555555556,\"#d8576b\"],[0.6666666666666666,\"#ed7953\"],[0.7777777777777778,\"#fb9f3a\"],[0.8888888888888888,\"#fdca26\"],[1.0,\"#f0f921\"]],\"diverging\":[[0,\"#8e0152\"],[0.1,\"#c51b7d\"],[0.2,\"#de77ae\"],[0.3,\"#f1b6da\"],[0.4,\"#fde0ef\"],[0.5,\"#f7f7f7\"],[0.6,\"#e6f5d0\"],[0.7,\"#b8e186\"],[0.8,\"#7fbc41\"],[0.9,\"#4d9221\"],[1,\"#276419\"]]},\"xaxis\":{\"gridcolor\":\"white\",\"linecolor\":\"white\",\"ticks\":\"\",\"title\":{\"standoff\":15},\"zerolinecolor\":\"white\",\"automargin\":true,\"zerolinewidth\":2},\"yaxis\":{\"gridcolor\":\"white\",\"linecolor\":\"white\",\"ticks\":\"\",\"title\":{\"standoff\":15},\"zerolinecolor\":\"white\",\"automargin\":true,\"zerolinewidth\":2},\"scene\":{\"xaxis\":{\"backgroundcolor\":\"#E5ECF6\",\"gridcolor\":\"white\",\"linecolor\":\"white\",\"showbackground\":true,\"ticks\":\"\",\"zerolinecolor\":\"white\",\"gridwidth\":2},\"yaxis\":{\"backgroundcolor\":\"#E5ECF6\",\"gridcolor\":\"white\",\"linecolor\":\"white\",\"showbackground\":true,\"ticks\":\"\",\"zerolinecolor\":\"white\",\"gridwidth\":2},\"zaxis\":{\"backgroundcolor\":\"#E5ECF6\",\"gridcolor\":\"white\",\"linecolor\":\"white\",\"showbackground\":true,\"ticks\":\"\",\"zerolinecolor\":\"white\",\"gridwidth\":2}},\"shapedefaults\":{\"line\":{\"color\":\"#2a3f5f\"}},\"annotationdefaults\":{\"arrowcolor\":\"#2a3f5f\",\"arrowhead\":0,\"arrowwidth\":1},\"geo\":{\"bgcolor\":\"white\",\"landcolor\":\"#E5ECF6\",\"subunitcolor\":\"white\",\"showland\":true,\"showlakes\":true,\"lakecolor\":\"white\"},\"title\":{\"x\":0.05},\"mapbox\":{\"style\":\"light\"}}},\"margin\":{\"t\":100},\"title\":{\"text\":\"Parallel Coordinates Plot for Taiwan\"}},                        {\"responsive\": true}                    ).then(function(){\n",
       "                            \n",
       "var gd = document.getElementById('a9ccdd60-ef4b-4df1-a4c7-53d278f5dcc2');\n",
       "var x = new MutationObserver(function (mutations, observer) {{\n",
       "        var display = window.getComputedStyle(gd).display;\n",
       "        if (!display || display === 'none') {{\n",
       "            console.log([gd, 'removed!']);\n",
       "            Plotly.purge(gd);\n",
       "            observer.disconnect();\n",
       "        }}\n",
       "}});\n",
       "\n",
       "// Listen for the removal of the full notebook cells\n",
       "var notebookContainer = gd.closest('#notebook-container');\n",
       "if (notebookContainer) {{\n",
       "    x.observe(notebookContainer, {childList: true});\n",
       "}}\n",
       "\n",
       "// Listen for the clearing of the current output cell\n",
       "var outputEl = gd.closest('.output');\n",
       "if (outputEl) {{\n",
       "    x.observe(outputEl, {childList: true});\n",
       "}}\n",
       "\n",
       "                        })                };                });            </script>        </div>"
      ]
     },
     "metadata": {},
     "output_type": "display_data"
    }
   ],
   "source": [
    "# Load the dataset\n",
    "df = pd.read_csv('results/taiwan_fairness_metrics.csv')\n",
    "\n",
    "\n",
    "# Mapping each model to a unique color\n",
    "color_mapping = {model: idx for idx, model in enumerate(df['Unnamed: 0'].unique())}\n",
    "\n",
    "# Adjust fairness metrics to be \"the higher the better\" and scale them to be between 0 and 100\n",
    "for col in ['DPD', 'EOD', 'AOD', 'APVD']:\n",
    "    df[col] = (1 - np.abs(df[col])) * 100\n",
    "\n",
    "# Scale the performance metrics to be between 0 and 100\n",
    "df['GMA'] *= 100\n",
    "#df_latest_adjusted['balanced_accuracy'] *= 100\n",
    "\n",
    "# Generate the required number of colors from the Viridis colorscale\n",
    "num_colors = len(color_mapping)\n",
    "colors = px.colors.sequential.Viridis\n",
    "manual_colors = [colors[i * (len(colors) - 1) // (num_colors - 1)] for i in range(num_colors)]\n",
    "\n",
    "# Create the Advanced Parallel Coordinates Plot with adjusted data\n",
    "fig = go.Figure(data=\n",
    "    go.Parcoords(\n",
    "        line=dict(color=df['Unnamed: 0'].map(color_mapping),\n",
    "                  colorscale='Viridis',\n",
    "                  showscale=False),\n",
    "        dimensions=[\n",
    "            dict(label='DPD', values=df['DPD'], range=[65, 100]),\n",
    "            dict(label='EOD', values=df['EOD'], range=[65, 100]),\n",
    "            dict(label='AOD', values=df['AOD'], range=[65, 100]),\n",
    "            dict(label='APVD', values=df['APVD'], range=[65, 100]),\n",
    "            dict(label='GMA', values=df['GMA'], range=[65, 100])\n",
    "            #dict(label='balanced_accuracy', values=df_latest_adjusted['balanced_accuracy'], range=[65, 100])\n",
    "        ]\n",
    "    )\n",
    ")\n",
    "\n",
    "# Add models to the legend using the dummy scatter plot approach and specified manual colors\n",
    "for idx, (model, color) in enumerate(color_mapping.items()):\n",
    "    fig.add_trace(\n",
    "        go.Scatter(x=[None], y=[None],\n",
    "                   mode='markers',\n",
    "                   marker=dict(size=10, color=manual_colors[idx]),\n",
    "                   name=model,\n",
    "                   showlegend=True)\n",
    "    )\n",
    "\n",
    "# Update the layout and adjust the top margin\n",
    "fig.update_layout(title='Parallel Coordinates Plot for Taiwan', margin=dict(t=100))\n",
    "\n",
    "# Show the plot\n",
    "fig.show()"
   ]
  },
  {
   "cell_type": "markdown",
   "metadata": {},
   "source": [
    "## Explainability"
   ]
  },
  {
   "cell_type": "code",
   "execution_count": null,
   "metadata": {},
   "outputs": [],
   "source": []
  },
  {
   "cell_type": "markdown",
   "metadata": {
    "id": "eb5LLRRksbLS"
   },
   "source": [
    "**TODO**\n",
    "\n",
    "*   Add easy way to include default parameters in optuna\n",
    "*   Warnings on pipeline given numeric unique number of values\n"
   ]
  }
 ],
 "metadata": {
  "colab": {
   "provenance": [
    {
     "file_id": "1ZMaWNR4MI5pyjbCLwUSkh7B_HshPUop8",
     "timestamp": 1694628479812
    }
   ]
  },
  "kernelspec": {
   "display_name": "Python 3 (ipykernel)",
   "language": "python",
   "name": "python3"
  },
  "language_info": {
   "codemirror_mode": {
    "name": "ipython",
    "version": 3
   },
   "file_extension": ".py",
   "mimetype": "text/x-python",
   "name": "python",
   "nbconvert_exporter": "python",
   "pygments_lexer": "ipython3",
   "version": "3.8.13"
  }
 },
 "nbformat": 4,
 "nbformat_minor": 4
}
